{
 "cells": [
  {
   "cell_type": "code",
   "execution_count": 5,
   "metadata": {
    "collapsed": true
   },
   "outputs": [],
   "source": [
    "from IPython.core.interactiveshell import InteractiveShell\n",
    "InteractiveShell.ast_node_interactivity = \"all\"\n",
    "import pandas as pd\n",
    "import numpy as np\n",
    "import matplotlib.pyplot as plt\n",
    "import datetime\n",
    "import math"
   ]
  },
  {
   "cell_type": "markdown",
   "metadata": {},
   "source": [
    "# Preprocessing"
   ]
  },
  {
   "cell_type": "code",
   "execution_count": 6,
   "metadata": {
    "collapsed": true
   },
   "outputs": [],
   "source": [
    "import copy\n",
    "\n",
    "class person:\n",
    "    \"\"\"\n",
    "    The item class, which record the change of the properties and the customer\n",
    "    of the item\n",
    "    \"\"\"\n",
    "    def __init__(self, id):\n",
    "        self.person_id = id\n",
    "\n",
    "        self.purchased_items = []\n",
    "        self.viewed_items = []\n",
    "        self.cart_items = []\n",
    "\n",
    "    def purchase(self, item_id, transcation_id, timestamp):\n",
    "        \"\"\"\n",
    "        record a purchase\n",
    "        :param item_id: str\n",
    "        :param transcation_id: str\n",
    "        :param timestamp: str\n",
    "        :return: None\n",
    "        \"\"\"\n",
    "        self.purchased_items.append((item_id, transcation_id, timestamp))\n",
    "    def view(self, item_id, timestamp):\n",
    "        \"\"\"\n",
    "        record a view\n",
    "        :param item_id: str\n",
    "        :param timestamp: str\n",
    "        :return: None\n",
    "        \"\"\"\n",
    "        self.viewed_items.append((item_id,timestamp))\n",
    "    def add_to_cart(self, item_id, timestamp):\n",
    "        \"\"\"\n",
    "        record a add_to_cart\n",
    "        :param item_id: str\n",
    "        :param timestamp: str\n",
    "        :return: None\n",
    "        \"\"\"\n",
    "        self.cart_items.append((item_id,timestamp))\n",
    "    def purchases_record(self):\n",
    "        \"\"\"\n",
    "        return the record of the purchases of the person\n",
    "        :return: list\n",
    "        \"\"\"\n",
    "        return self.purchased_items\n",
    "    def carts_record(self):\n",
    "        \"\"\"\n",
    "        return the record of items have been added to the cart\n",
    "        :return: list\n",
    "        \"\"\"\n",
    "        return self.cart_items\n",
    "    def views_record(self):\n",
    "        \"\"\"\n",
    "        return the record of what the person have viewed\n",
    "        :return: list\n",
    "        \"\"\"\n",
    "        return self.viewed_items"
   ]
  },
  {
   "cell_type": "code",
   "execution_count": 7,
   "metadata": {
    "collapsed": true
   },
   "outputs": [],
   "source": [
    "class item:\n",
    "    \"\"\"\n",
    "    The item class, which record the change of the properties and the customer\n",
    "    of the item\n",
    "    \"\"\"\n",
    "    def __init__(self, id):\n",
    "        self.item_id = id\n",
    "        self.properties = {}\n",
    "        self.customers = []\n",
    "        self.viewers = []\n",
    "        self.cart_adders = []\n",
    "    def property_change(self, pro_name, value, timestamp):\n",
    "        \"\"\"\n",
    "        record a change of a property\n",
    "        :param pro_name: str\n",
    "        :param value: str\n",
    "        :param timestamp: str\n",
    "        :return:\n",
    "        \"\"\"\n",
    "        if pro_name not in self.properties:\n",
    "            self.properties[pro_name] = []\n",
    "        self.properties[pro_name].append((value, timestamp))\n",
    "    def purchase(self, customerID, transcation_id,timestamp):\n",
    "        \"\"\"\n",
    "        record a purchase\n",
    "        :param customerID: str\n",
    "        :param transcation_id: str\n",
    "        :param timestamp: str\n",
    "        :return: None\n",
    "        \"\"\"\n",
    "        self.customers.append((customerID,transcation_id, timestamp))\n",
    "    def view(self, customerID, timestamp):\n",
    "        \"\"\"\n",
    "        record a view\n",
    "        :param customerID: str\n",
    "        :param timestamp: str\n",
    "        :return: None\n",
    "        \"\"\"\n",
    "        self.viewers.append((customerID,timestamp))\n",
    "    def add_to_cart(self, customerID, timestamp):\n",
    "        \"\"\"\n",
    "        record a add_to_cart\n",
    "        :param customerID: str\n",
    "        :param timestamp: str\n",
    "        :return: None\n",
    "        \"\"\"\n",
    "        self.cart_adders.append((customerID,timestamp))\n",
    "    def customers_record(self):\n",
    "        \"\"\"\n",
    "        return the record of customers of the item\n",
    "        :return: list\n",
    "        \"\"\"\n",
    "        return self.customers\n",
    "    def carts_record(self):\n",
    "        \"\"\"\n",
    "        return the record of persons who added this item to the cart\n",
    "        :return: list\n",
    "        \"\"\"\n",
    "        return self.cart_adders\n",
    "    def viewers_record(self):\n",
    "        \"\"\"\n",
    "        return the record of persons who viewed this item\n",
    "        :return: list\n",
    "        \"\"\"\n",
    "        return self.viewers\n",
    "    def property_record(self, pro_name):\n",
    "        \"\"\"\n",
    "        return the record of a property of the item\n",
    "        :param pro_name: str\n",
    "        :return: list\n",
    "        \"\"\"\n",
    "        return self.properties[pro_name]"
   ]
  },
  {
   "cell_type": "code",
   "execution_count": 8,
   "metadata": {},
   "outputs": [],
   "source": [
    "class analyse():\n",
    "    \"\"\"\n",
    "    the class to read and store data\n",
    "    \"\"\"\n",
    "    def __init__(self):\n",
    "        self.persons = {}\n",
    "        self.items = {}\n",
    "    def read_property(self, property_file):\n",
    "        f, first = open(property_file, \"r\"), True\n",
    "        for line in f:\n",
    "            if first:\n",
    "                first = False\n",
    "                continue\n",
    "            property_info = line.split(\",\")\n",
    "            timestamp, item_id, pro_name, value = property_info[0], property_info[1], property_info[2], property_info[3]\n",
    "            if item_id not in self.items:\n",
    "                continue\n",
    "                self.items[item_id] = item(item_id)\n",
    "            self.items[item_id].property_change(pro_name, value, timestamp)\n",
    "    def read_event(self, event_file):\n",
    "        f, first = open(event_file, \"r\"), True\n",
    "        for line in f:\n",
    "            if first:\n",
    "                first = False\n",
    "                continue\n",
    "            event_info = line.split(\",\")\n",
    "            timestamp, person_id, event, item_id, transaction_id = datetime.datetime.strptime(event_info[0], '%Y-%m-%d'), event_info[1], event_info[2], event_info[3], event_info[4]\n",
    "            if person_id not in self.persons:\n",
    "                self.persons[person_id] = person(person_id)\n",
    "            if item_id not in self.items:\n",
    "                self.items[item_id] = item(item_id)\n",
    "            if event == \"transaction\":\n",
    "                self.persons[person_id].purchase(item_id, transaction_id, timestamp)\n",
    "                self.items[item_id].purchase(person_id, transaction_id,timestamp)\n",
    "            elif event == \"view\":\n",
    "                self.persons[person_id].view(item_id, timestamp)\n",
    "                self.items[item_id].view(person_id, timestamp)\n",
    "            else:\n",
    "                self.persons[person_id].add_to_cart(item_id, timestamp)\n",
    "                self.items[item_id].add_to_cart(person_id, timestamp)\n",
    "\n",
    "\n",
    "\n",
    "\n",
    "\n",
    "a = analyse()\n",
    "a.read_event(\"/Users/nihaozheng/Desktop/Personalization/project/retailrocket-recommender-system-dataset/events_cleaned_time.csv\")\n",
    "a.read_property(\"/Users/nihaozheng/Desktop/Personalization/project/retailrocket-recommender-system-dataset/item_properties_part1.csv\")\n",
    "a.read_property(\"/Users/nihaozheng/Desktop/Personalization/project/retailrocket-recommender-system-dataset/item_properties_part2.csv\")\n",
    "\n"
   ]
  },
  {
   "cell_type": "code",
   "execution_count": 9,
   "metadata": {
    "collapsed": true
   },
   "outputs": [],
   "source": [
    "def subset(threshold):\n",
    "    \"\"\"\n",
    "    preprocess users in a, filter the users according to its purchased, viewd, and carted items\n",
    "    :param threshold: int\n",
    "    :return: {}\n",
    "    \"\"\"\n",
    "    res = {}\n",
    "    for person_name, person in a.persons.items():\n",
    "        if len(person.viewed_items) + len(person.cart_items) > threshold and len(person.purchased_items) > threshold:\n",
    "            res[person_name] = copy.deepcopy(person)\n",
    "    return res"
   ]
  },
  {
   "cell_type": "code",
   "execution_count": 10,
   "metadata": {
    "collapsed": true
   },
   "outputs": [],
   "source": [
    "def subset_item(persons):\n",
    "    \"\"\"\n",
    "    preprocess users, filter the users according to its purchased, viewd, and carted items\n",
    "    :param person: {}\n",
    "    :return: {}\n",
    "    \"\"\"\n",
    "    res = {}\n",
    "    for person_name, person in persons.items():\n",
    "        \n",
    "        for item in person.viewed_items + person.purchased_items + person.cart_items:\n",
    "            \n",
    "            if item[0] not in res:\n",
    "                res[item[0]] = res.get(item[0], 0) + 1\n",
    "                \n",
    "    return res"
   ]
  },
  {
   "cell_type": "code",
   "execution_count": 11,
   "metadata": {
    "collapsed": true
   },
   "outputs": [],
   "source": [
    "def merge(item_after_subset):\n",
    "    \"\"\"\n",
    "    merge items with same categoryid\n",
    "    :param person: {}\n",
    "    :return: {}\n",
    "    \"\"\"\n",
    "    sec_subset_item = {}\n",
    "    for item in item_after_subset:\n",
    "        if \"categoryid\" not in a.items[item].properties:\n",
    "            sec_subset_item[item] = copy.deepcopy(a.items[item])\n",
    "            continue\n",
    "        category_id = a.items[item].property_record(\"categoryid\")[0][0][:-1]\n",
    "        if category_id not in sec_subset_item:\n",
    "            sec_subset_item[category_id] = copy.deepcopy(a.items[item])\n",
    "            sec_subset_item[category_id].item_id = category_id\n",
    "        else:\n",
    "            for pro_name, values in a.items[item].properties.items():\n",
    "                if pro_name not in sec_subset_item[category_id].properties:\n",
    "                    sec_subset_item[category_id].properties[pro_name] = []\n",
    "                sec_subset_item[category_id].properties[pro_name] += values\n",
    "            sec_subset_item[category_id].viewers += a.items[item].viewers\n",
    "            sec_subset_item[category_id].customers += a.items[item].customers\n",
    "            sec_subset_item[category_id].cart_adders += a.items[item].cart_adders\n",
    "    return sec_subset_item"
   ]
  },
  {
   "cell_type": "code",
   "execution_count": 12,
   "metadata": {},
   "outputs": [
    {
     "name": "stdout",
     "output_type": "stream",
     "text": [
      "2549 1016\n"
     ]
    }
   ],
   "source": [
    "user_dic1, user_dic2 = subset(1), subset(2)\n",
    "print(len(user_dic1), len(user_dic2))"
   ]
  },
  {
   "cell_type": "code",
   "execution_count": 13,
   "metadata": {},
   "outputs": [
    {
     "name": "stdout",
     "output_type": "stream",
     "text": [
      "30601 27487\n"
     ]
    }
   ],
   "source": [
    "item_sub_dic1,item_sub_dic2 = subset_item(user_dic1), subset_item(user_dic2)\n",
    "print(len(item_sub_dic1), len(item_sub_dic2))"
   ]
  },
  {
   "cell_type": "code",
   "execution_count": 14,
   "metadata": {},
   "outputs": [
    {
     "name": "stdout",
     "output_type": "stream",
     "text": [
      "2019 1957\n"
     ]
    }
   ],
   "source": [
    "merged_items1, merged_items2 = merge(item_sub_dic1), merge(item_sub_dic2)\n",
    "print(len(merged_items1), len(merged_items2))"
   ]
  },
  {
   "cell_type": "code",
   "execution_count": 15,
   "metadata": {
    "collapsed": true
   },
   "outputs": [],
   "source": [
    "def update_items_in_persons(subset_persons):\n",
    "    \"\"\"\n",
    "    update items' ids recorded in filtered users with categoryid\n",
    "    :param subset_persons: {}\n",
    "    :param merged_items: {}\n",
    "    :return: None\n",
    "    \"\"\"\n",
    "    \n",
    "    for person_name, person in subset_persons.items():\n",
    "        for index in range(len(person.viewed_items)):\n",
    "            if \"categoryid\" in a.items[person.viewed_items[index][0]].properties:\n",
    "                category_id = a.items[person.viewed_items[index][0]].properties[\"categoryid\"][0][0][:-1]\n",
    "                time_stamp = person.viewed_items[index][1]\n",
    "                person.viewed_items[index] = (category_id, time_stamp)\n",
    "                \n",
    "        for index in range(len(person.purchased_items)):\n",
    "            if \"categoryid\" in a.items[person.purchased_items[index][0]].properties:\n",
    "                category_id = a.items[person.purchased_items[index][0]].properties[\"categoryid\"][0][0][:-1]\n",
    "                time_stamp = person.purchased_items[index][2]\n",
    "                transaction_id = person.purchased_items[index][1]\n",
    "                person.purchased_items[index] = (category_id ,transaction_id, time_stamp)\n",
    "        for index in range(len(person.cart_items)):\n",
    "            if \"categoryid\" in a.items[person.cart_items[index][0]].properties:\n",
    "                category_id = a.items[person.cart_items[index][0]].properties[\"categoryid\"][0][0][:-1]\n",
    "                time_stamp = person.cart_items[index][1]\n",
    "                person.cart_items[index] = (category_id, time_stamp)"
   ]
  },
  {
   "cell_type": "code",
   "execution_count": 16,
   "metadata": {
    "collapsed": true
   },
   "outputs": [],
   "source": [
    "update_items_in_persons(user_dic2)"
   ]
  },
  {
   "cell_type": "code",
   "execution_count": 17,
   "metadata": {},
   "outputs": [
    {
     "data": {
      "text/plain": [
       "1016"
      ]
     },
     "execution_count": 17,
     "metadata": {},
     "output_type": "execute_result"
    }
   ],
   "source": [
    "len(user_dic2)"
   ]
  },
  {
   "cell_type": "markdown",
   "metadata": {},
   "source": [
    "# Change user_dic to a readable format for the timesvd++ functions"
   ]
  },
  {
   "cell_type": "code",
   "execution_count": 18,
   "metadata": {
    "collapsed": true
   },
   "outputs": [],
   "source": [
    "# map all users and items to natural number starting from 1:\n",
    "i = 1\n",
    "j = 1\n",
    "user_dict ={}\n",
    "item_dict = {}\n",
    "for user in user_dic2:\n",
    "    user_dict[user] = i\n",
    "    i = i +1\n",
    "    for record in user_dic2[user].purchases_record():\n",
    "        if record[0] not in item_dict.keys():\n",
    "            item_dict[record[0]] = j\n",
    "            j = j +1\n",
    "    for record in user_dic2[user].carts_record():\n",
    "        if record[0] not in item_dict.keys():\n",
    "            item_dict[record[0]] = j\n",
    "            j = j +1\n",
    "    for record in user_dic2[user].views_record():\n",
    "        if record[0] not in item_dict.keys():\n",
    "            item_dict[record[0]] = j\n",
    "            j = j +1\n"
   ]
  },
  {
   "cell_type": "code",
   "execution_count": 19,
   "metadata": {
    "collapsed": true
   },
   "outputs": [],
   "source": [
    "R = {}\n",
    "for user in user_dic2:\n",
    "    R[user_dict[user]]=[]\n",
    "    item =[]\n",
    "    action = []\n",
    "    time =[]\n",
    "    for record in user_dic2[user].purchases_record():\n",
    "        item.append(item_dict[record[0]])\n",
    "        action.append(5)\n",
    "        time.append(record[2])\n",
    "    for record in user_dic2[user].carts_record():\n",
    "        item.append(item_dict[record[0]])\n",
    "        action.append(2)\n",
    "        time.append(record[1])\n",
    "    for record in user_dic2[user].carts_record():\n",
    "        item.append(item_dict[record[0]])\n",
    "        action.append(1)\n",
    "        time.append(record[1])\n",
    "    summary = pd.DataFrame({'item':item,'action':action,'time':time},columns=['item','action','time'])\n",
    "    summary.sort_values(by='time',inplace=True)\n",
    "    for record in summary.itertuples():\n",
    "        l = [record[1],record[2],record[3]]\n",
    "        if l not in R[user_dict[user]]:\n",
    "            R[user_dict[user]].append(l)"
   ]
  },
  {
   "cell_type": "markdown",
   "metadata": {},
   "source": [
    "# Train-Test split"
   ]
  },
  {
   "cell_type": "code",
   "execution_count": 20,
   "metadata": {
    "collapsed": true
   },
   "outputs": [],
   "source": [
    "def split(data,ratio):\n",
    "    train ={}\n",
    "    test ={}\n",
    "    for user in data.keys():\n",
    "        train[user]=[]\n",
    "        test[user]=[]\n",
    "        n = len(data[user])\n",
    "        reserve = int(ratio*n)\n",
    "        #all items in test set must be seen before\n",
    "        l1 = data[user][:reserve]\n",
    "        l2 = data[user][reserve:]\n",
    "        l1_item = [r[0] for r in l1]\n",
    "        for r in l2:\n",
    "            if r[0] not in l1_item:\n",
    "                l1.append(r)\n",
    "                l2.remove(r)\n",
    "\n",
    "        train[user] = l1\n",
    "        test[user]=l2\n",
    "    return train,test\n",
    "        \n",
    "        "
   ]
  },
  {
   "cell_type": "code",
   "execution_count": 21,
   "metadata": {
    "collapsed": true
   },
   "outputs": [],
   "source": [
    "train,test = split(R,0.8)"
   ]
  },
  {
   "cell_type": "code",
   "execution_count": 22,
   "metadata": {
    "collapsed": true
   },
   "outputs": [],
   "source": [
    "train,valid = split(train,0.8)"
   ]
  },
  {
   "cell_type": "code",
   "execution_count": 24,
   "metadata": {
    "collapsed": true
   },
   "outputs": [],
   "source": [
    "id = list(train.keys())\n",
    "re = [train[key] for key in id]"
   ]
  },
  {
   "cell_type": "code",
   "execution_count": 25,
   "metadata": {
    "collapsed": true
   },
   "outputs": [],
   "source": [
    "train_table=pd.DataFrame({'id':id,'item':re})"
   ]
  },
  {
   "cell_type": "code",
   "execution_count": 26,
   "metadata": {
    "collapsed": true
   },
   "outputs": [],
   "source": [
    "id = list(valid.keys())\n",
    "re = [valid[key] for key in id]\n",
    "valid_table=pd.DataFrame({'id':id,'item':re})"
   ]
  },
  {
   "cell_type": "code",
   "execution_count": 27,
   "metadata": {
    "collapsed": true
   },
   "outputs": [],
   "source": [
    "id = list(test.keys())\n",
    "re = [test[key] for key in id]\n",
    "test_table=pd.DataFrame({'id':id,'item':re})"
   ]
  },
  {
   "cell_type": "code",
   "execution_count": 28,
   "metadata": {
    "collapsed": true
   },
   "outputs": [],
   "source": [
    "#train_table.to_csv('/Users/nihaozheng/Desktop/Personalization/project/project II/train.csv',index=False)\n",
    "#valid_table.to_csv('/Users/nihaozheng/Desktop/Personalization/project/project II/validation.csv',index=False)\n",
    "#test_table.to_csv('/Users/nihaozheng/Desktop/Personalization/project/project II/test.csv',index=False)"
   ]
  },
  {
   "cell_type": "markdown",
   "metadata": {
    "collapsed": true
   },
   "source": [
    "## Time SVD"
   ]
  },
  {
   "cell_type": "code",
   "execution_count": 29,
   "metadata": {
    "collapsed": true
   },
   "outputs": [],
   "source": [
    "class time_svd():\n",
    "    def __init__(self, userItems, nFactors, nBins,beta, lr, iterations):\n",
    "        '''\n",
    "        Initialize paramters in the model\n",
    "        \n",
    "        Arguments\n",
    "        - userItems   : user-item dictionaries\n",
    "            e.g. user1:[[item1,rating,timestamp],[item2,rating,timestamp]]...\n",
    "        - nFactors (int) : number of lantent factors \n",
    "        - nBins(int) : Number of bins to divide timestemps\n",
    "        - beta: Power in the definition of dev(t)\n",
    "        - lr (float) : learning rate in sgd\n",
    "        - iterations : number of sgd performed\n",
    "        \n",
    "        '''\n",
    "        self.userItems = userItems\n",
    "        self.factors = nFactors\n",
    "        self.lr = lr\n",
    "        self.iterations = iterations\n",
    "        self.nBins = nBins\n",
    "        self.beta =beta\n",
    "        start_end_time = {}\n",
    "        self.all_dates = set()\n",
    "        for person in userItems.keys():\n",
    "            start_end_time[person] = []\n",
    "            start = R[person][0][2]\n",
    "            end =R[person][-1][2]\n",
    "            t =[r[2] for r in R[person]] \n",
    "            length = (end-start).days\n",
    "            start_end_time[person] += [start,end,length]\n",
    "            self.all_dates.update(t)\n",
    "        \n",
    "        self.all_dates = list(self.all_dates)\n",
    "        self.all_dates.sort()\n",
    "        start = [i[1][0] for i in start_end_time.items() ]\n",
    "        end = [i[1][1] for i in start_end_time.items() ]\n",
    "        self.nDays = (max(end)-min(start)).days+1\n",
    "        self.start = min(start)\n",
    "        self.end = max(end)\n",
    "        \n",
    "        #------------------parameters in timesvd -----------------------'\n",
    "        \n",
    "        #initialize self.mu as average rating of all records:\n",
    "        n = 0\n",
    "        rate = []\n",
    "        for user in userItems.keys():\n",
    "            for record in userItems[user]:\n",
    "                n += 1\n",
    "                rate.append(record[1])\n",
    "        self.mu = sum(rate)/n\n",
    "        \n",
    "        nUsers = len(userItems.keys())\n",
    "        items = set()\n",
    "        for user in R.keys():\n",
    "            l = [i[0] for i in R[user]]\n",
    "            items.update(l)\n",
    "        nItems = max(items)\n",
    "        \n",
    "        #initialize other parameters from U[0,1]        \n",
    "        \n",
    "        #biases\n",
    "        self.bu = np.random.uniform(0, 1, nUsers + 1)\n",
    "        self.bi = np.random.uniform(0,1, nItems + 1) # dtype = 'float64'\n",
    "\n",
    "        # bi_bin = np.random.random((nItems + 1, nBins))\n",
    "        self.bi_bin = []\n",
    "        for b in range(nItems + 1):\n",
    "            bii = np.random.uniform(0, 1, nBins)\n",
    "            self.bi_bin.append(bii)\n",
    "\n",
    "        self.alpha_u = np.random.uniform(0, 1, nUsers + 1) # nUsers + 1, dtype = 'float64'\n",
    "\n",
    "        self.bu_t = np.zeros((nUsers + 1, self.nDays), dtype = 'float64')\n",
    "\n",
    "        #factors\n",
    "        # userFactors = np.random.random((nUsers + 1, nFactors))\n",
    "        self.userFactors = []\n",
    "        for b in range(nUsers + 1):\n",
    "            bii = np.random.uniform(0, 1, nFactors)\n",
    "            self.userFactors.append(bii)\n",
    "\n",
    "        # itemFactors = np.random.random((nItems + 1, nFactors))\n",
    "        self.itemFactors = []\n",
    "        for b in range(nItems + 1):\n",
    "            bii = np.random.uniform(0, 1, nFactors)\n",
    "            self.itemFactors.append(bii)\n",
    "\n",
    "\n",
    "\n",
    "        # sumMW = np.random.random((nUsers + 1, nFactors))\n",
    "        self.sumMW = []\n",
    "        for b in range(nUsers + 1):\n",
    "            bii = np.random.uniform(0, 1, nFactors)\n",
    "            self.sumMW.append(bii)\n",
    "\n",
    "        #time-based parameters\n",
    "        # alpha_u_k = np.random.random((nUsers + 1, nFactors))\n",
    "        self.alpha_u_k = []\n",
    "        for b in range(nUsers + 1):\n",
    "            bii = np.random.uniform(0, 1, nFactors)\n",
    "            self.alpha_u_k.append(bii)\n",
    "\n",
    "        self.userFactors_t = np.zeros((nUsers + 1, nFactors, self.nDays))\n",
    "    \n",
    "    def date_map(self,timestamp):\n",
    "        '''\n",
    "        Map each timestamp to natural number starting from 0:\n",
    "        \n",
    "        '''\n",
    "        index = self.all_dates.index(timestamp)\n",
    "        return index\n",
    "        \n",
    "    def prediction(self,userId,itemId,timestamp_):\n",
    "        \"\"\"\n",
    "        Get the predicted rating of user i and item j at timestamp_\n",
    "        \"\"\"\n",
    "        #print('user id is {}, date is {}\".format(userId,self.date_map(timestamp_)))\n",
    "        bi_ = self.bi[itemId]\n",
    "        bit_ =  self.bi_bin[itemId][self.calBin(timestamp_)]\n",
    "        bu_ = self.bu[userId]\n",
    "        but_ = self.bu_t[userId][self.date_map(timestamp_)]\n",
    "        au = self.alpha_u[userId]\n",
    "        dev_ = self.dev(userId, timestamp_)\n",
    "        #baseline\n",
    "        prediction = self.mu + bi_ + bit_ + bu_ + au * dev_+ but_\n",
    "        #add user-item interaction\n",
    "        for k in range(self.factors):\n",
    "            u_f = self.userFactors[userId][k]\n",
    "            u_f_t = self.userFactors_t[userId][k][self.date_map(timestamp_)]\n",
    "            auk = self.alpha_u_k[userId][k]\n",
    "            i_f = self.itemFactors[itemId][k]\n",
    "\n",
    "            # item factor\n",
    "            pukt = u_f + auk * dev_ + u_f_t\n",
    "            prediction += i_f * pukt\n",
    "        return prediction\n",
    "\n",
    "    def prediction_baseline(self,userId,itemId,timestamp_):\n",
    "        \"\"\"\n",
    "        Get the predicted rating of user i and item j at timestamp_ for baseline model\n",
    "        \"\"\"\n",
    "        #print('user id is {}, date is {}\".format(userId,self.date_map(timestamp_)))\n",
    "        bi_ = self.bi[itemId]\n",
    "        bit_ =  self.bi_bin[itemId][self.calBin(timestamp_)]\n",
    "        bu_ = self.bu[userId]\n",
    "        but_ = self.bu_t[userId][self.date_map(timestamp_)]\n",
    "        au = self.alpha_u[userId]\n",
    "        dev_ = self.dev(userId, timestamp_)\n",
    "        #baseline\n",
    "        prediction = self.mu + bi_ + bit_ + bu_ + au * dev_+ but_\n",
    "        return prediction\n",
    "    \n",
    "    def baseline(self):\n",
    "        '''\n",
    "        Train the baseline timesvd by sgd\n",
    "        '''\n",
    "        for userId, v in self.userItems.items():\n",
    "        #tmpSum = np.zeros(self.factors, dtype='float')\n",
    "\n",
    "        # if userId not in self.training_userItems:\n",
    "         #   continue\n",
    "            #print(userId)\n",
    "            sz = len(self.userItems[userId])\n",
    "\n",
    "            if sz > 0:\n",
    "                sqrtNum = 1/(math.sqrt(sz))\n",
    "                for it in range(sz):\n",
    "                    itemId = self.userItems[userId][it][0]\n",
    "                    rating = self.userItems[userId][it][1]\n",
    "                    timestamp_ = self.userItems[userId][it][2]\n",
    "\n",
    "                    li = [userId, itemId, rating, timestamp_]\n",
    "\n",
    "                    prediction = self.prediction_baseline(userId, itemId, timestamp_)\n",
    "                    error = rating - prediction\n",
    "                    bi_ = self.bi[itemId]\n",
    "                    bit_ =  self.bi_bin[itemId][self.calBin(timestamp_)]\n",
    "                    bu_ = self.bu[userId]\n",
    "                    \n",
    "\n",
    "                    but_ = self.bu_t[userId][self.date_map(timestamp_)]\n",
    "                    au = self.alpha_u[userId]\n",
    "                    dev_ = self.dev(userId, timestamp_)\n",
    "                   \n",
    "                    # print ('error = ', error)\n",
    "                    # user bias\n",
    "                    sgd = error + 0.01 * bu_\n",
    "                    self.bu[userId] += -0.01 * sgd\n",
    "\n",
    "                    # item bias\n",
    "                    sgd = error + 0.01 *bi_\n",
    "                    self.bi[itemId] += -0.01 * sgd\n",
    "\n",
    "\n",
    "                    # item bias bi, bin(t)\n",
    "                    #calBin is the bin number that this timestamp falls in\n",
    "                    sgd = error + 0.01 * bit_\n",
    "                    self.bi_bin[itemId][self.calBin(timestamp_)] += -0.01 * sgd\n",
    "\n",
    "                    # cu is the scale preference changing through time, which we don't consider it here\n",
    "                    \"\"\"sgd = error * (bi_ + bit_) - 0.01 * cu_\n",
    "                    self.cu[userId] += 0.01 * sgd\n",
    "\n",
    "                    #cu_t\n",
    "                    sgd = error * (bi_ + bit_) - 0.01 * cut_\n",
    "                    self.cu_t[userId][timestamp_] += 0.01 * sgd\"\"\"\n",
    "\n",
    "                    # bu_t\n",
    "                    sgd = error + 0.01 * but_\n",
    "                    delta = but_ - 0.01 * sgd\n",
    "                    self.bu_t[userId][self.date_map(timestamp_)] = delta\n",
    "\n",
    "                    # au\n",
    "                    sgd = error * dev_ + 0.01 * au\n",
    "                    self.alpha_u[userId] += -0.01 * sgd\n",
    "\n",
    "\n",
    "\n",
    "\n",
    "    def train(self):\n",
    "        '''\n",
    "        Train the timesvd by sgd\n",
    "        '''\n",
    "        for userId, v in self.userItems.items():\n",
    "        #tmpSum = np.zeros(self.factors, dtype='float')\n",
    "\n",
    "        # if userId not in self.training_userItems:\n",
    "         #   continue\n",
    "            #print(userId)\n",
    "            sz = len(self.userItems[userId])\n",
    "\n",
    "            if sz > 0:\n",
    "                sqrtNum = 1/(math.sqrt(sz))\n",
    "                for it in range(sz):\n",
    "                    itemId = self.userItems[userId][it][0]\n",
    "                    rating = self.userItems[userId][it][1]\n",
    "                    timestamp_ = self.userItems[userId][it][2]\n",
    "\n",
    "                    li = [userId, itemId, rating, timestamp_]\n",
    "\n",
    "                    prediction = self.prediction(userId, itemId, timestamp_)\n",
    "                    error = rating - prediction\n",
    "                    bi_ = self.bi[itemId]\n",
    "                    bit_ =  self.bi_bin[itemId][self.calBin(timestamp_)]\n",
    "                    bu_ = self.bu[userId]\n",
    "                    \n",
    "\n",
    "                    but_ = self.bu_t[userId][self.date_map(timestamp_)]\n",
    "                    au = self.alpha_u[userId]\n",
    "                    dev_ = self.dev(userId, timestamp_)\n",
    "                   \n",
    "                    # print ('error = ', error)\n",
    "                    # user bias\n",
    "                    sgd = error + 0.01 * bu_\n",
    "                    self.bu[userId] += -0.01 * sgd\n",
    "\n",
    "                    # item bias\n",
    "                    sgd = error + 0.01 *bi_\n",
    "                    self.bi[itemId] += -0.01 * sgd\n",
    "\n",
    "\n",
    "                    # item bias bi, bin(t)\n",
    "                    #calBin is the bin number that this timestamp falls in\n",
    "                    sgd = error + 0.01 * bit_\n",
    "                    self.bi_bin[itemId][self.calBin(timestamp_)] += -0.01 * sgd\n",
    "\n",
    "                    # cu is the scale preference changing through time, which we don't consider it here\n",
    "                    \"\"\"sgd = error * (bi_ + bit_) - 0.01 * cu_\n",
    "                    self.cu[userId] += 0.01 * sgd\n",
    "\n",
    "                    #cu_t\n",
    "                    sgd = error * (bi_ + bit_) - 0.01 * cut_\n",
    "                    self.cu_t[userId][timestamp_] += 0.01 * sgd\"\"\"\n",
    "\n",
    "                    # bu_t\n",
    "                    sgd = error + 0.01 * but_\n",
    "                    delta = but_ - 0.01 * sgd\n",
    "                    self.bu_t[userId][self.date_map(timestamp_)] = delta\n",
    "\n",
    "                    # au\n",
    "                    sgd = error * dev_ + 0.01 * au\n",
    "                    self.alpha_u[userId] += -0.01 * sgd\n",
    "\n",
    "\n",
    "                    # updating factors\n",
    "                    for k in range(self.factors):\n",
    "                        u_f = self.userFactors[userId][k]\n",
    "                        i_f = self.itemFactors[itemId][k]\n",
    "                        u_f_t = self.userFactors_t[userId][k][self.date_map(timestamp_)]\n",
    "                        auk = self.alpha_u_k[userId][k]\n",
    "\n",
    "                        # item factor\n",
    "                        pukt = u_f + auk * dev_ + u_f_t\n",
    "\n",
    "                        '''\n",
    "                        sum_yk = 0\n",
    "                        for j in range(sz):\n",
    "                            pos_item = self.userItems[userId][j][0]\n",
    "                            sum_yk += self.y_j[pos_item][k]\n",
    "                        '''\n",
    "\n",
    "\n",
    "                        sgd = error * pukt  + 0.01 * i_f\n",
    "                        self.itemFactors[itemId][k] += -0.01 * sgd\n",
    "\n",
    "                        #update user factor\n",
    "                        sgd = error * i_f + 0.01 * u_f\n",
    "                        self.userFactors[userId][k] += -0.01 * sgd\n",
    "\n",
    "                        # auk\n",
    "                        sgd  = error * i_f * dev_ + 0.01 * auk\n",
    "                        self.alpha_u_k[userId][k] += -0.01 * sgd\n",
    "\n",
    "                        # uf_t\n",
    "                        sgd = error * i_f + 0.01 * u_f_t\n",
    "                        delta = u_f_t - 0.01 * sgd\n",
    "                        self.userFactors_t[userId][k][self.date_map(timestamp_)] = delta\n",
    "\n",
    "                \n",
    "    def calBin(self,timestamp):\n",
    "        \n",
    "        '''\n",
    "        Calculate the bin number for each timestamp\n",
    "        '''\n",
    "        bin_width = self.nDays/self.nBins\n",
    "        bin_number = int((timestamp - self.start).days/bin_width)\n",
    "        if bin_number==self.nBins:\n",
    "            return self.nBins-1\n",
    "        return bin_number\n",
    "    \n",
    "    def dev(self,userId, timestamp):\n",
    "        user_date = [i[2] for i in self.userItems[userId]]\n",
    "        user_date.sort()\n",
    "        mean_date = user_date[round(len(user_date)/2)]\n",
    "\n",
    "        diff = (timestamp-mean_date).days\n",
    "        sign = np.sign(diff)\n",
    "        dev = sign*pow(abs(diff),self.beta)\n",
    "        \n",
    "        return dev\n",
    "        \n",
    "        \n",
    "\n",
    "\n"
   ]
  },
  {
   "cell_type": "code",
   "execution_count": 30,
   "metadata": {
    "collapsed": true
   },
   "outputs": [],
   "source": [
    "def cv(train,valid):\n",
    "    log = []\n",
    "    best_rate = 0\n",
    "    best_model =[]\n",
    "    for nFactors in [2,3,4,5,6,7,8,9,10,15,20,30]:\n",
    "        for nBins in [5,10,15,20,30]:\n",
    "            for beta in [0.01,0.05,0.1,0.3,0.5]:\n",
    "                for lr in [0.01,0.03,0.05,0.1,0.5]:\n",
    "                    for iterations in [10,20,30,50,100]:\n",
    "                        print(\"nFactors={},nBins={},beta={},lr={},iterations={}\".format(nFactors,nBins,beta,lr,iterations))\n",
    "                        total = 0\n",
    "                        hit = 0\n",
    "                        temp = time_svd(userItems=train, nFactors=nFactors, nBins=nBins, beta = beta, \n",
    "                                        lr=lr, iterations=iterations)\n",
    "                        for user in valid.keys():\n",
    "                            for record in valid[user]:\n",
    "                                total += 1\n",
    "                                pred = temp.prediction(user,record[0],record[2])\n",
    "                                if pred >= 5 and record[1]==5:\n",
    "                                    hit += 1\n",
    "                                elif pred < 5 and record[1] < 5:\n",
    "                                    hit += 1\n",
    "                        print(hit/total)\n",
    "                        log.append([nFactors,nBins,beta,lr,iterations,hit/total])\n",
    "                        if hit/total > best_rate:\n",
    "                            best_model = [nFactors,nBins,beta,lr,iterations]\n",
    "                            best_rate = hit/total\n",
    "    return best_model,best_rate,log\n",
    "\n",
    "\n"
   ]
  },
  {
   "cell_type": "markdown",
   "metadata": {},
   "source": [
    "# This line is cross validation, it can take several hours from your life!"
   ]
  },
  {
   "cell_type": "code",
   "execution_count": 31,
   "metadata": {},
   "outputs": [
    {
     "name": "stdout",
     "output_type": "stream",
     "text": [
      "nFactors=2,nBins=5,beta=0.01,lr=0.01,iterations=10\n",
      "0.4976452119309262\n",
      "nFactors=2,nBins=5,beta=0.01,lr=0.01,iterations=20\n",
      "0.48953427524856097\n",
      "nFactors=2,nBins=5,beta=0.01,lr=0.01,iterations=30\n",
      "0.47802197802197804\n",
      "nFactors=2,nBins=5,beta=0.01,lr=0.01,iterations=50\n",
      "0.52145473574045\n",
      "nFactors=2,nBins=5,beta=0.01,lr=0.01,iterations=100\n",
      "0.5013082155939299\n",
      "nFactors=2,nBins=5,beta=0.01,lr=0.03,iterations=10\n"
     ]
    },
    {
     "ename": "KeyboardInterrupt",
     "evalue": "",
     "output_type": "error",
     "traceback": [
      "\u001b[0;31m---------------------------------------------------------------------------\u001b[0m",
      "\u001b[0;31mKeyboardInterrupt\u001b[0m                         Traceback (most recent call last)",
      "\u001b[0;32m<ipython-input-31-334dddcf4373>\u001b[0m in \u001b[0;36m<module>\u001b[0;34m()\u001b[0m\n\u001b[0;32m----> 1\u001b[0;31m \u001b[0mbest_model\u001b[0m\u001b[0;34m,\u001b[0m\u001b[0mbest_rate\u001b[0m\u001b[0;34m,\u001b[0m\u001b[0mlog\u001b[0m\u001b[0;34m=\u001b[0m\u001b[0mcv\u001b[0m\u001b[0;34m(\u001b[0m\u001b[0mtrain\u001b[0m\u001b[0;34m,\u001b[0m\u001b[0mvalid\u001b[0m\u001b[0;34m)\u001b[0m\u001b[0;34m\u001b[0m\u001b[0m\n\u001b[0m",
      "\u001b[0;32m<ipython-input-30-6c76a6e23efb>\u001b[0m in \u001b[0;36mcv\u001b[0;34m(train, valid)\u001b[0m\n\u001b[1;32m     16\u001b[0m                             \u001b[0;32mfor\u001b[0m \u001b[0mrecord\u001b[0m \u001b[0;32min\u001b[0m \u001b[0mvalid\u001b[0m\u001b[0;34m[\u001b[0m\u001b[0muser\u001b[0m\u001b[0;34m]\u001b[0m\u001b[0;34m:\u001b[0m\u001b[0;34m\u001b[0m\u001b[0m\n\u001b[1;32m     17\u001b[0m                                 \u001b[0mtotal\u001b[0m \u001b[0;34m+=\u001b[0m \u001b[0;36m1\u001b[0m\u001b[0;34m\u001b[0m\u001b[0m\n\u001b[0;32m---> 18\u001b[0;31m                                 \u001b[0mpred\u001b[0m \u001b[0;34m=\u001b[0m \u001b[0mtemp\u001b[0m\u001b[0;34m.\u001b[0m\u001b[0mprediction\u001b[0m\u001b[0;34m(\u001b[0m\u001b[0muser\u001b[0m\u001b[0;34m,\u001b[0m\u001b[0mrecord\u001b[0m\u001b[0;34m[\u001b[0m\u001b[0;36m0\u001b[0m\u001b[0;34m]\u001b[0m\u001b[0;34m,\u001b[0m\u001b[0mrecord\u001b[0m\u001b[0;34m[\u001b[0m\u001b[0;36m2\u001b[0m\u001b[0;34m]\u001b[0m\u001b[0;34m)\u001b[0m\u001b[0;34m\u001b[0m\u001b[0m\n\u001b[0m\u001b[1;32m     19\u001b[0m                                 \u001b[0;32mif\u001b[0m \u001b[0mpred\u001b[0m \u001b[0;34m>=\u001b[0m \u001b[0;36m5\u001b[0m \u001b[0;32mand\u001b[0m \u001b[0mrecord\u001b[0m\u001b[0;34m[\u001b[0m\u001b[0;36m1\u001b[0m\u001b[0;34m]\u001b[0m\u001b[0;34m==\u001b[0m\u001b[0;36m5\u001b[0m\u001b[0;34m:\u001b[0m\u001b[0;34m\u001b[0m\u001b[0m\n\u001b[1;32m     20\u001b[0m                                     \u001b[0mhit\u001b[0m \u001b[0;34m+=\u001b[0m \u001b[0;36m1\u001b[0m\u001b[0;34m\u001b[0m\u001b[0m\n",
      "\u001b[0;32m<ipython-input-29-b3be27c72f71>\u001b[0m in \u001b[0;36mprediction\u001b[0;34m(self, userId, itemId, timestamp_)\u001b[0m\n\u001b[1;32m    121\u001b[0m         \u001b[0mbut_\u001b[0m \u001b[0;34m=\u001b[0m \u001b[0mself\u001b[0m\u001b[0;34m.\u001b[0m\u001b[0mbu_t\u001b[0m\u001b[0;34m[\u001b[0m\u001b[0muserId\u001b[0m\u001b[0;34m]\u001b[0m\u001b[0;34m[\u001b[0m\u001b[0mself\u001b[0m\u001b[0;34m.\u001b[0m\u001b[0mdate_map\u001b[0m\u001b[0;34m(\u001b[0m\u001b[0mtimestamp_\u001b[0m\u001b[0;34m)\u001b[0m\u001b[0;34m]\u001b[0m\u001b[0;34m\u001b[0m\u001b[0m\n\u001b[1;32m    122\u001b[0m         \u001b[0mau\u001b[0m \u001b[0;34m=\u001b[0m \u001b[0mself\u001b[0m\u001b[0;34m.\u001b[0m\u001b[0malpha_u\u001b[0m\u001b[0;34m[\u001b[0m\u001b[0muserId\u001b[0m\u001b[0;34m]\u001b[0m\u001b[0;34m\u001b[0m\u001b[0m\n\u001b[0;32m--> 123\u001b[0;31m         \u001b[0mdev_\u001b[0m \u001b[0;34m=\u001b[0m \u001b[0mself\u001b[0m\u001b[0;34m.\u001b[0m\u001b[0mdev\u001b[0m\u001b[0;34m(\u001b[0m\u001b[0muserId\u001b[0m\u001b[0;34m,\u001b[0m \u001b[0mtimestamp_\u001b[0m\u001b[0;34m)\u001b[0m\u001b[0;34m\u001b[0m\u001b[0m\n\u001b[0m\u001b[1;32m    124\u001b[0m         \u001b[0;31m#baseline\u001b[0m\u001b[0;34m\u001b[0m\u001b[0;34m\u001b[0m\u001b[0m\n\u001b[1;32m    125\u001b[0m         \u001b[0mprediction\u001b[0m \u001b[0;34m=\u001b[0m \u001b[0mself\u001b[0m\u001b[0;34m.\u001b[0m\u001b[0mmu\u001b[0m \u001b[0;34m+\u001b[0m \u001b[0mbi_\u001b[0m \u001b[0;34m+\u001b[0m \u001b[0mbit_\u001b[0m \u001b[0;34m+\u001b[0m \u001b[0mbu_\u001b[0m \u001b[0;34m+\u001b[0m \u001b[0mau\u001b[0m \u001b[0;34m*\u001b[0m \u001b[0mdev_\u001b[0m\u001b[0;34m+\u001b[0m \u001b[0mbut_\u001b[0m\u001b[0;34m\u001b[0m\u001b[0m\n",
      "\u001b[0;32m<ipython-input-29-b3be27c72f71>\u001b[0m in \u001b[0;36mdev\u001b[0;34m(self, userId, timestamp)\u001b[0m\n\u001b[1;32m    334\u001b[0m         \u001b[0mmean_date\u001b[0m \u001b[0;34m=\u001b[0m \u001b[0muser_date\u001b[0m\u001b[0;34m[\u001b[0m\u001b[0mround\u001b[0m\u001b[0;34m(\u001b[0m\u001b[0mlen\u001b[0m\u001b[0;34m(\u001b[0m\u001b[0muser_date\u001b[0m\u001b[0;34m)\u001b[0m\u001b[0;34m/\u001b[0m\u001b[0;36m2\u001b[0m\u001b[0;34m)\u001b[0m\u001b[0;34m]\u001b[0m\u001b[0;34m\u001b[0m\u001b[0m\n\u001b[1;32m    335\u001b[0m \u001b[0;34m\u001b[0m\u001b[0m\n\u001b[0;32m--> 336\u001b[0;31m         \u001b[0mdiff\u001b[0m \u001b[0;34m=\u001b[0m \u001b[0;34m(\u001b[0m\u001b[0mtimestamp\u001b[0m\u001b[0;34m-\u001b[0m\u001b[0mmean_date\u001b[0m\u001b[0;34m)\u001b[0m\u001b[0;34m.\u001b[0m\u001b[0mdays\u001b[0m\u001b[0;34m\u001b[0m\u001b[0m\n\u001b[0m\u001b[1;32m    337\u001b[0m         \u001b[0msign\u001b[0m \u001b[0;34m=\u001b[0m \u001b[0mnp\u001b[0m\u001b[0;34m.\u001b[0m\u001b[0msign\u001b[0m\u001b[0;34m(\u001b[0m\u001b[0mdiff\u001b[0m\u001b[0;34m)\u001b[0m\u001b[0;34m\u001b[0m\u001b[0m\n\u001b[1;32m    338\u001b[0m         \u001b[0mdev\u001b[0m \u001b[0;34m=\u001b[0m \u001b[0msign\u001b[0m\u001b[0;34m*\u001b[0m\u001b[0mpow\u001b[0m\u001b[0;34m(\u001b[0m\u001b[0mabs\u001b[0m\u001b[0;34m(\u001b[0m\u001b[0mdiff\u001b[0m\u001b[0;34m)\u001b[0m\u001b[0;34m,\u001b[0m\u001b[0mself\u001b[0m\u001b[0;34m.\u001b[0m\u001b[0mbeta\u001b[0m\u001b[0;34m)\u001b[0m\u001b[0;34m\u001b[0m\u001b[0m\n",
      "\u001b[0;31mKeyboardInterrupt\u001b[0m: "
     ]
    }
   ],
   "source": [
    "best_model,best_rate,log=cv(train,valid)"
   ]
  },
  {
   "cell_type": "code",
   "execution_count": null,
   "metadata": {},
   "outputs": [],
   "source": [
    "best_rate"
   ]
  },
  {
   "cell_type": "code",
   "execution_count": 32,
   "metadata": {
    "collapsed": true
   },
   "outputs": [],
   "source": [
    "def cv_baseline(train,valid):\n",
    "    log = []\n",
    "    best_rate = 0\n",
    "    best_model =[]\n",
    "    for nFactors in [2,3,4,5,6,7,8,9,10,15,20,30]:\n",
    "        for nBins in [5,10,15,20,30]:\n",
    "            for beta in [0.01,0.05,0.1,0.3,0.5]:\n",
    "                for lr in [0.01,0.03,0.05,0.1,0.5]:\n",
    "                    for iterations in [10,20,30,50,100]:\n",
    "                        print(\"nFactors={},nBins={},beta={},lr={},iterations={}\".format(nFactors,nBins,beta,lr,iterations))\n",
    "                        total = 0\n",
    "                        hit = 0\n",
    "                        temp = time_svd(userItems=train, nFactors=nFactors, nBins=nBins, beta = beta, \n",
    "                                        lr=lr, iterations=iterations)\n",
    "                        for user in valid.keys():\n",
    "                            for record in valid[user]:\n",
    "                                total += 1\n",
    "                                pred = temp.prediction_baseline(user,record[0],record[2])\n",
    "                                if pred >= 5 and record[1]==5:\n",
    "                                    hit += 1\n",
    "                                elif pred < 5 and record[1] < 5:\n",
    "                                    hit += 1\n",
    "                        print(hit/total)\n",
    "                        log.append([nFactors,nBins,beta,lr,iterations,hit/total])\n",
    "                        if hit/total > best_rate:\n",
    "                            best_model = [nFactors,nBins,beta,lr,iterations]\n",
    "                            best_rate = hit/total\n",
    "    return best_model,best_rate,log\n",
    "\n",
    "\n",
    "\n"
   ]
  },
  {
   "cell_type": "markdown",
   "metadata": {},
   "source": [
    "# This line is cross validation for baseline model, it can also takes several hours!"
   ]
  },
  {
   "cell_type": "code",
   "execution_count": 33,
   "metadata": {},
   "outputs": [
    {
     "name": "stdout",
     "output_type": "stream",
     "text": [
      "nFactors=2,nBins=5,beta=0.01,lr=0.01,iterations=10\n",
      "0.6365777080062794\n",
      "nFactors=2,nBins=5,beta=0.01,lr=0.01,iterations=20\n",
      "0.6598639455782312\n",
      "nFactors=2,nBins=5,beta=0.01,lr=0.01,iterations=30\n",
      "0.6645735217163788\n",
      "nFactors=2,nBins=5,beta=0.01,lr=0.01,iterations=50\n",
      "0.6747776033490319\n",
      "nFactors=2,nBins=5,beta=0.01,lr=0.01,iterations=100\n",
      "0.6462585034013606\n",
      "nFactors=2,nBins=5,beta=0.01,lr=0.03,iterations=10\n"
     ]
    },
    {
     "ename": "KeyboardInterrupt",
     "evalue": "",
     "output_type": "error",
     "traceback": [
      "\u001b[0;31m---------------------------------------------------------------------------\u001b[0m",
      "\u001b[0;31mKeyboardInterrupt\u001b[0m                         Traceback (most recent call last)",
      "\u001b[0;32m<ipython-input-33-34c78a2b52a2>\u001b[0m in \u001b[0;36m<module>\u001b[0;34m()\u001b[0m\n\u001b[0;32m----> 1\u001b[0;31m \u001b[0mbest_model\u001b[0m\u001b[0;34m,\u001b[0m\u001b[0mbest_rate\u001b[0m\u001b[0;34m,\u001b[0m\u001b[0mlog\u001b[0m\u001b[0;34m=\u001b[0m\u001b[0mcv_baseline\u001b[0m\u001b[0;34m(\u001b[0m\u001b[0mtrain\u001b[0m\u001b[0;34m,\u001b[0m\u001b[0mvalid\u001b[0m\u001b[0;34m)\u001b[0m\u001b[0;34m\u001b[0m\u001b[0m\n\u001b[0m",
      "\u001b[0;32m<ipython-input-32-99f4b2553756>\u001b[0m in \u001b[0;36mcv_baseline\u001b[0;34m(train, valid)\u001b[0m\n\u001b[1;32m     12\u001b[0m                         \u001b[0mhit\u001b[0m \u001b[0;34m=\u001b[0m \u001b[0;36m0\u001b[0m\u001b[0;34m\u001b[0m\u001b[0m\n\u001b[1;32m     13\u001b[0m                         temp = time_svd(userItems=train, nFactors=nFactors, nBins=nBins, beta = beta, \n\u001b[0;32m---> 14\u001b[0;31m                                         lr=lr, iterations=iterations)\n\u001b[0m\u001b[1;32m     15\u001b[0m                         \u001b[0;32mfor\u001b[0m \u001b[0muser\u001b[0m \u001b[0;32min\u001b[0m \u001b[0mvalid\u001b[0m\u001b[0;34m.\u001b[0m\u001b[0mkeys\u001b[0m\u001b[0;34m(\u001b[0m\u001b[0;34m)\u001b[0m\u001b[0;34m:\u001b[0m\u001b[0;34m\u001b[0m\u001b[0m\n\u001b[1;32m     16\u001b[0m                             \u001b[0;32mfor\u001b[0m \u001b[0mrecord\u001b[0m \u001b[0;32min\u001b[0m \u001b[0mvalid\u001b[0m\u001b[0;34m[\u001b[0m\u001b[0muser\u001b[0m\u001b[0;34m]\u001b[0m\u001b[0;34m:\u001b[0m\u001b[0;34m\u001b[0m\u001b[0m\n",
      "\u001b[0;32m<ipython-input-29-b3be27c72f71>\u001b[0m in \u001b[0;36m__init__\u001b[0;34m(self, userItems, nFactors, nBins, beta, lr, iterations)\u001b[0m\n\u001b[1;32m     54\u001b[0m         \u001b[0;32mfor\u001b[0m \u001b[0muser\u001b[0m \u001b[0;32min\u001b[0m \u001b[0mR\u001b[0m\u001b[0;34m.\u001b[0m\u001b[0mkeys\u001b[0m\u001b[0;34m(\u001b[0m\u001b[0;34m)\u001b[0m\u001b[0;34m:\u001b[0m\u001b[0;34m\u001b[0m\u001b[0m\n\u001b[1;32m     55\u001b[0m             \u001b[0ml\u001b[0m \u001b[0;34m=\u001b[0m \u001b[0;34m[\u001b[0m\u001b[0mi\u001b[0m\u001b[0;34m[\u001b[0m\u001b[0;36m0\u001b[0m\u001b[0;34m]\u001b[0m \u001b[0;32mfor\u001b[0m \u001b[0mi\u001b[0m \u001b[0;32min\u001b[0m \u001b[0mR\u001b[0m\u001b[0;34m[\u001b[0m\u001b[0muser\u001b[0m\u001b[0;34m]\u001b[0m\u001b[0;34m]\u001b[0m\u001b[0;34m\u001b[0m\u001b[0m\n\u001b[0;32m---> 56\u001b[0;31m             \u001b[0mitems\u001b[0m\u001b[0;34m.\u001b[0m\u001b[0mupdate\u001b[0m\u001b[0;34m(\u001b[0m\u001b[0ml\u001b[0m\u001b[0;34m)\u001b[0m\u001b[0;34m\u001b[0m\u001b[0m\n\u001b[0m\u001b[1;32m     57\u001b[0m         \u001b[0mnItems\u001b[0m \u001b[0;34m=\u001b[0m \u001b[0mmax\u001b[0m\u001b[0;34m(\u001b[0m\u001b[0mitems\u001b[0m\u001b[0;34m)\u001b[0m\u001b[0;34m\u001b[0m\u001b[0m\n\u001b[1;32m     58\u001b[0m \u001b[0;34m\u001b[0m\u001b[0m\n",
      "\u001b[0;31mKeyboardInterrupt\u001b[0m: "
     ]
    }
   ],
   "source": [
    "best_model,best_rate,log=cv_baseline(train,valid)"
   ]
  },
  {
   "cell_type": "code",
   "execution_count": null,
   "metadata": {},
   "outputs": [],
   "source": [
    "best_rate"
   ]
  },
  {
   "cell_type": "code",
   "execution_count": null,
   "metadata": {
    "collapsed": true
   },
   "outputs": [],
   "source": [
    "nFactors,nBins,beta,lr,iterations,rate= [],[],[],[],[],[]\n",
    "for record in log:\n",
    "    nFactors.append(record[0])\n",
    "    nBins.append(record[1])\n",
    "    beta.append(record[2])\n",
    "    lr.append(record[3])\n",
    "    iterations.append(record[4])\n",
    "    rate.append(record[5])"
   ]
  },
  {
   "cell_type": "code",
   "execution_count": null,
   "metadata": {
    "collapsed": true
   },
   "outputs": [],
   "source": [
    "base_result=pd.DataFrame({'nFactors':nFactors,'nBins':nBins,'beta':beta,'lr':lr,'iterations':iterations,'rate':rate})"
   ]
  },
  {
   "cell_type": "code",
   "execution_count": 97,
   "metadata": {
    "collapsed": true
   },
   "outputs": [],
   "source": [
    "#base_result.to_csv(\"/Users/nihaozheng/Desktop/Personalization/project/project II/base_result.csv\")"
   ]
  },
  {
   "cell_type": "code",
   "execution_count": 60,
   "metadata": {
    "collapsed": true
   },
   "outputs": [],
   "source": [
    "#result = pd.read_csv(\"/Users/nihaozheng/Desktop/Personalization/project/project II/result.csv\")"
   ]
  },
  {
   "cell_type": "code",
   "execution_count": null,
   "metadata": {},
   "outputs": [],
   "source": [
    "#result.sort_values('rate',ascending=False)"
   ]
  },
  {
   "cell_type": "code",
   "execution_count": 34,
   "metadata": {
    "collapsed": true
   },
   "outputs": [],
   "source": [
    "def predict_full(train,test,nFactors,nBins,beta,lr,iterations):\n",
    "    total = 0\n",
    "    hit = 0\n",
    "    temp = time_svd(userItems=train, nFactors=nFactors, nBins=nBins, beta = beta, \n",
    "                    lr=lr, iterations=iterations)\n",
    "    for user in test.keys():\n",
    "        for record in test[user]:\n",
    "            total += 1\n",
    "            pred = temp.prediction(user,record[0],record[2])\n",
    "            if pred >= 5 and record[1]==5:\n",
    "                hit += 1\n",
    "            elif pred < 5 and record[1] < 5:\n",
    "                hit += 1\n",
    "    return hit/total\n",
    "\n",
    "\n",
    "\n"
   ]
  },
  {
   "cell_type": "code",
   "execution_count": 35,
   "metadata": {
    "collapsed": true
   },
   "outputs": [],
   "source": [
    "def predict_baseline(train,test,nFactors,nBins,beta,lr,iterations):\n",
    "    total = 0\n",
    "    hit = 0\n",
    "    temp = time_svd(userItems=train, nFactors=nFactors, nBins=nBins, beta = beta, \n",
    "                    lr=lr, iterations=iterations)\n",
    "    for user in test.keys():\n",
    "        for record in test[user]:\n",
    "            total += 1\n",
    "            pred = temp.prediction_baseline(user,record[0],record[2])\n",
    "            if pred >= 5 and record[1]==5:\n",
    "                hit += 1\n",
    "            elif pred < 5 and record[1] < 5:\n",
    "                hit += 1\n",
    "    return hit/total\n",
    "\n",
    "\n",
    "\n",
    "\n"
   ]
  },
  {
   "cell_type": "code",
   "execution_count": 36,
   "metadata": {},
   "outputs": [
    {
     "data": {
      "text/plain": [
       "0.4539366883116883"
      ]
     },
     "execution_count": 36,
     "metadata": {},
     "output_type": "execute_result"
    }
   ],
   "source": [
    "pred_full = predict_full(train,test,nFactors=2,nBins=15,beta=0.05,lr=0.01,iterations=50)\n",
    "pred_full"
   ]
  },
  {
   "cell_type": "code",
   "execution_count": 37,
   "metadata": {},
   "outputs": [
    {
     "data": {
      "text/plain": [
       "0.6647727272727273"
      ]
     },
     "execution_count": 37,
     "metadata": {},
     "output_type": "execute_result"
    }
   ],
   "source": [
    "pred_baseline = predict_baseline(train,test,nFactors=5,nBins=20,beta=0.01,lr=0.01,iterations=50)\n",
    "pred_baseline"
   ]
  },
  {
   "cell_type": "markdown",
   "metadata": {},
   "source": [
    "# Compare with svd"
   ]
  },
  {
   "cell_type": "code",
   "execution_count": 38,
   "metadata": {
    "collapsed": true
   },
   "outputs": [],
   "source": [
    "import numpy as np\n",
    "import pandas as pd\n",
    "import heapq\n",
    "import time\n",
    "import matplotlib.pyplot as plt\n",
    "\n",
    "class MF():\n",
    "\n",
    "    def __init__(self, R, K, alpha, beta, iterations):\n",
    "        \"\"\"\n",
    "        Perform matrix factorization to predict empty\n",
    "        entries in a matrix.\n",
    "\n",
    "        Arguments\n",
    "        - R (ndarray)   : user-item rating matrix\n",
    "        - K (int)       : number of latent dimensions\n",
    "        - alpha (float) : learning rate\n",
    "        - beta (float)  : regularization parameter\n",
    "        \"\"\"\n",
    "\n",
    "        self.R = R\n",
    "        self.num_users, self.num_items = R.shape\n",
    "        self.K = K\n",
    "        self.alpha = alpha\n",
    "        self.beta = beta\n",
    "        self.iterations = iterations\n",
    "\n",
    "    def train(self):\n",
    "        # Initialize user and item latent feature matrice\n",
    "        self.P = np.random.normal(scale=1./self.K, size=(self.num_users, self.K))\n",
    "        self.Q = np.random.normal(scale=1./self.K, size=(self.num_items, self.K))\n",
    "\n",
    "        # Initialize the biases\n",
    "        self.b_u = np.zeros(self.num_users)\n",
    "        self.b_i = np.zeros(self.num_items)\n",
    "        self.b = np.mean(self.R[np.where(self.R != 0)])\n",
    "\n",
    "        # Create a list of training samples\n",
    "        self.samples = [\n",
    "            (i, j, self.R[i, j])\n",
    "            for i in range(self.num_users)\n",
    "            for j in range(self.num_items)\n",
    "            if self.R[i, j] > 0\n",
    "        ]\n",
    "\n",
    "        # Perform stochastic gradient descent for number of iterations\n",
    "        training_process = []\n",
    "        for i in range(self.iterations):\n",
    "            np.random.shuffle(self.samples)\n",
    "            self.sgd()\n",
    "            mse = self.mse()\n",
    "            training_process.append((i, mse))\n",
    "            if (i+1) % 10 == 0:\n",
    "                print(\"Iteration: %d ; error = %.4f\" % (i+1, mse))\n",
    "\n",
    "        return training_process\n",
    "\n",
    "    def mse(self):\n",
    "        \"\"\"\n",
    "        A function to compute the total mean square error\n",
    "        \"\"\"\n",
    "        xs, ys = self.R.nonzero()\n",
    "        predicted = self.full_matrix()\n",
    "        error = 0\n",
    "        for x, y in zip(xs, ys):\n",
    "            error += pow(self.R[x, y] - predicted[x, y], 2)\n",
    "        return np.sqrt(error)\n",
    "\n",
    "    def sgd(self):\n",
    "        \"\"\"\n",
    "        Perform stochastic graident descent\n",
    "        \"\"\"\n",
    "        for i, j, r in self.samples:\n",
    "            # Computer prediction and error\n",
    "            prediction = self.get_rating(i, j)\n",
    "            e = (r - prediction)\n",
    "\n",
    "            # Update biases\n",
    "            self.b_u[i] += self.alpha * (e - self.beta * self.b_u[i])\n",
    "            self.b_i[j] += self.alpha * (e - self.beta * self.b_i[j])\n",
    "\n",
    "            # Update user and item latent feature matrices\n",
    "            self.P[i, :] += self.alpha * (e * self.Q[j, :] - self.beta * self.P[i,:])\n",
    "            self.Q[j, :] += self.alpha * (e * self.P[i, :] - self.beta * self.Q[j,:])\n",
    "\n",
    "    def get_rating(self, i, j):\n",
    "        \"\"\"\n",
    "        Get the predicted rating of user i and item j\n",
    "        \"\"\"\n",
    "        prediction = self.b + self.b_u[i] + self.b_i[j] + self.P[i, :].dot(self.Q[j, :].T)\n",
    "        return prediction\n",
    "\n",
    "    def full_matrix(self):\n",
    "        \"\"\"\n",
    "        Computer the full matrix using the resultant biases, P and Q\n",
    "        \"\"\"\n",
    "        return self.b + self.b_u[:,np.newaxis] + self.b_i[np.newaxis:,] + self.P.dot(self.Q.T)"
   ]
  },
  {
   "cell_type": "code",
   "execution_count": 39,
   "metadata": {
    "collapsed": true
   },
   "outputs": [],
   "source": [
    "class BaseLine():\n",
    "\n",
    "    def __init__(self, R, K, alpha, beta, iterations):\n",
    "        \"\"\"\n",
    "        Perform matrix factorization to predict empty\n",
    "        entries in a matrix.\n",
    "\n",
    "        Arguments\n",
    "        - R (ndarray)   : user-item rating matrix\n",
    "        - K (int)       : number of latent dimensions\n",
    "        - alpha (float) : learning rate\n",
    "        - beta (float)  : regularization parameter\n",
    "        \"\"\"\n",
    "\n",
    "        self.R = R\n",
    "        self.num_users, self.num_items = R.shape\n",
    "        self.K = K\n",
    "        self.alpha = alpha\n",
    "        self.beta = beta\n",
    "        self.iterations = iterations\n",
    "\n",
    "    def train(self):\n",
    "        # Initialize user and item latent feature matrice\n",
    "        self.P = np.random.normal(scale=1./self.K, size=(self.num_users, self.K))\n",
    "        self.Q = np.random.normal(scale=1./self.K, size=(self.num_items, self.K))\n",
    "\n",
    "        # Initialize the biases\n",
    "        self.b_u = np.zeros(self.num_users)\n",
    "        self.b_i = np.zeros(self.num_items)\n",
    "        self.b = np.mean(self.R[np.where(self.R != 0)])\n",
    "\n",
    "        # Create a list of training samples\n",
    "        self.samples = [\n",
    "            (i, j, self.R[i, j])\n",
    "            for i in range(self.num_users)\n",
    "            for j in range(self.num_items)\n",
    "            if self.R[i, j] > 0\n",
    "        ]\n",
    "\n",
    "        # Perform stochastic gradient descent for number of iterations\n",
    "        training_process = []\n",
    "        for i in range(self.iterations):\n",
    "            np.random.shuffle(self.samples)\n",
    "            self.sgd()\n",
    "            mse = self.mse()\n",
    "            training_process.append((i, mse))\n",
    "            if (i+1) % 10 == 0:\n",
    "                print(\"Iteration: %d ; error = %.4f\" % (i+1, mse))\n",
    "\n",
    "        return training_process\n",
    "\n",
    "    def mse(self):\n",
    "        \"\"\"\n",
    "        A function to compute the total mean square error\n",
    "        \"\"\"\n",
    "        xs, ys = self.R.nonzero()\n",
    "        predicted = self.full_matrix()\n",
    "        error = 0\n",
    "        for x, y in zip(xs, ys):\n",
    "            error += pow(self.R[x, y] - predicted[x, y], 2)\n",
    "        return np.sqrt(error)\n",
    "\n",
    "    def sgd(self):\n",
    "        \"\"\"\n",
    "        Perform stochastic graident descent\n",
    "        \"\"\"\n",
    "        for i, j, r in self.samples:\n",
    "            # Computer prediction and error\n",
    "            prediction = self.get_rating(i, j)\n",
    "            e = (r - prediction)\n",
    "\n",
    "            # Update biases\n",
    "            self.b_u[i] += self.alpha * (e - self.beta * self.b_u[i])\n",
    "            self.b_i[j] += self.alpha * (e - self.beta * self.b_i[j])\n",
    "\n",
    "            # Update user and item latent feature matrices\n",
    "            self.P[i, :] += self.alpha * (e * self.Q[j, :] - self.beta * self.P[i,:])\n",
    "            self.Q[j, :] += self.alpha * (e * self.P[i, :] - self.beta * self.Q[j,:])\n",
    "\n",
    "    def get_rating(self, i, j):\n",
    "        \"\"\"\n",
    "        Get the predicted rating of user i and item j\n",
    "        \"\"\"\n",
    "        prediction = self.b + self.b_u[i] + self.b_i[j]\n",
    "        return prediction\n",
    "\n",
    "    def full_matrix(self):\n",
    "        \"\"\"\n",
    "        Computer the full matrix using the resultant biases, P and Q\n",
    "        \"\"\"\n",
    "        return self.b + self.b_u[:,np.newaxis] + self.b_i[np.newaxis:,] + self.P.dot(self.Q.T)"
   ]
  },
  {
   "cell_type": "code",
   "execution_count": 40,
   "metadata": {
    "collapsed": true
   },
   "outputs": [],
   "source": [
    "def predict(best_model,training_sub,test):\n",
    "    \"\"\"\n",
    "    use the best model from cv to do prediction\n",
    "    \"\"\"\n",
    "    rate_svd = 0\n",
    "    rate_base = 0\n",
    "    alpha =0.01\n",
    "    n_recommended=50\n",
    "    R = training_sub.values\n",
    "    #test = test.set_index(['user'])\n",
    "    if best_model['K']>0:                    \n",
    "        mf = MF(R, K=best_model['K'], alpha=alpha, beta=best_model['beta'], iterations=best_model['iterations'])\n",
    "        mf.train()    \n",
    "        base = BaseLine(R, K=best_model['K'], alpha=alpha, beta=best_model['beta'], iterations=best_model['iterations'])\n",
    "        base.train()\n",
    "        pred_svd = pd.DataFrame(mf.full_matrix(),index=training_sub.index,columns=training_sub.columns)\n",
    "       # return  pred_svd\n",
    "        pred_base = pd.DataFrame(base.full_matrix(),index=training_sub.index,columns=training_sub.columns)\n",
    "\n",
    "        available_svd = 0\n",
    "        hit_svd = 0\n",
    "        available_base = 0\n",
    "        hit_base = 0\n",
    "        \n",
    "        for i in test.index:\n",
    "            available_svd += 1\n",
    "            available_base += 1\n",
    "            if pred_svd.loc[test.loc[i,'user'],test.loc[i,'category']] >=5 and test.loc[i,'action']==5:\n",
    "                hit_svd += 1\n",
    "            if pred_svd.loc[test.loc[i,'user'],test.loc[i,'category']] <3  and test.loc[i,'action']<5:\n",
    "                hit_svd += 1\n",
    "            if pred_base.loc[test.loc[i,'user'],test.loc[i,'category']] >=5 and test.loc[i,'action']==5:\n",
    "                hit_base+= 1\n",
    "            if pred_base.loc[test.loc[i,'user'],test.loc[i,'category']] <3 and test.loc[i,'action']<5:\n",
    "                hit_base += 1\n",
    "                \n",
    "    return hit_base/available_base, hit_svd/available_svd\n",
    "    "
   ]
  },
  {
   "cell_type": "code",
   "execution_count": 41,
   "metadata": {
    "collapsed": true
   },
   "outputs": [],
   "source": [
    "user_id = R.keys()"
   ]
  },
  {
   "cell_type": "code",
   "execution_count": 42,
   "metadata": {
    "collapsed": true
   },
   "outputs": [],
   "source": [
    "item_id = [item_dict[i] for i in item_dict.keys()]"
   ]
  },
  {
   "cell_type": "code",
   "execution_count": 43,
   "metadata": {
    "collapsed": true
   },
   "outputs": [],
   "source": [
    "svd_input = pd.DataFrame(index=user_id,columns=item_id)"
   ]
  },
  {
   "cell_type": "code",
   "execution_count": 44,
   "metadata": {
    "collapsed": true
   },
   "outputs": [],
   "source": [
    "for user in train.keys():\n",
    "    for record in train[user]:\n",
    "        svd_input.loc[user,record[0]]=record[1]"
   ]
  },
  {
   "cell_type": "code",
   "execution_count": 45,
   "metadata": {
    "collapsed": true
   },
   "outputs": [],
   "source": [
    "svd_input=svd_input.fillna(0)"
   ]
  },
  {
   "cell_type": "code",
   "execution_count": 46,
   "metadata": {
    "collapsed": true
   },
   "outputs": [],
   "source": [
    "user = []\n",
    "category =[]\n",
    "action =[]\n",
    "for u in test.keys():\n",
    "    for r in test[u]:\n",
    "        user.append(u)\n",
    "        category.append(r[0])\n",
    "        action.append(r[1])"
   ]
  },
  {
   "cell_type": "code",
   "execution_count": 47,
   "metadata": {
    "collapsed": true
   },
   "outputs": [],
   "source": [
    "svd_test = pd.DataFrame({'user':user,'category':category,'action':action})"
   ]
  },
  {
   "cell_type": "code",
   "execution_count": 48,
   "metadata": {
    "collapsed": true
   },
   "outputs": [],
   "source": [
    "#result of cross validation\n",
    "best_model = {'K':100, 'beta':0.01, 'iterations':20}"
   ]
  },
  {
   "cell_type": "code",
   "execution_count": 49,
   "metadata": {},
   "outputs": [
    {
     "name": "stdout",
     "output_type": "stream",
     "text": [
      "Iteration: 10 ; error = 135.2036\n",
      "Iteration: 20 ; error = 108.8027\n",
      "Iteration: 10 ; error = 135.1722\n",
      "Iteration: 20 ; error = 174.1092\n"
     ]
    }
   ],
   "source": [
    "#prediction\n",
    "svd_full, svd_baseline= predict(best_model,svd_input,svd_test)"
   ]
  },
  {
   "cell_type": "code",
   "execution_count": 50,
   "metadata": {},
   "outputs": [
    {
     "data": {
      "text/plain": [
       "0.46732954545454547"
      ]
     },
     "execution_count": 50,
     "metadata": {},
     "output_type": "execute_result"
    }
   ],
   "source": [
    "svd_full"
   ]
  },
  {
   "cell_type": "code",
   "execution_count": 51,
   "metadata": {},
   "outputs": [
    {
     "data": {
      "text/plain": [
       "0.4594155844155844"
      ]
     },
     "execution_count": 51,
     "metadata": {},
     "output_type": "execute_result"
    }
   ],
   "source": [
    "svd_baseline"
   ]
  },
  {
   "cell_type": "code",
   "execution_count": 52,
   "metadata": {},
   "outputs": [
    {
     "data": {
      "text/plain": [
       "0.4539366883116883"
      ]
     },
     "execution_count": 52,
     "metadata": {},
     "output_type": "execute_result"
    }
   ],
   "source": [
    "pred_full"
   ]
  },
  {
   "cell_type": "code",
   "execution_count": 53,
   "metadata": {},
   "outputs": [
    {
     "data": {
      "text/plain": [
       "0.6647727272727273"
      ]
     },
     "execution_count": 53,
     "metadata": {},
     "output_type": "execute_result"
    }
   ],
   "source": [
    "pred_baseline"
   ]
  },
  {
   "cell_type": "code",
   "execution_count": 54,
   "metadata": {},
   "outputs": [
    {
     "data": {
      "text/plain": [
       "<matplotlib.text.Text at 0x2f94e06d8>"
      ]
     },
     "execution_count": 54,
     "metadata": {},
     "output_type": "execute_result"
    },
    {
     "data": {
      "text/plain": [
       "<matplotlib.text.Text at 0x2fc32d828>"
      ]
     },
     "execution_count": 54,
     "metadata": {},
     "output_type": "execute_result"
    },
    {
     "data": {
      "text/plain": [
       "[<matplotlib.axis.XTick at 0x2f94e8b38>,\n",
       " <matplotlib.axis.XTick at 0x2f94e8c18>]"
      ]
     },
     "execution_count": 54,
     "metadata": {},
     "output_type": "execute_result"
    },
    {
     "data": {
      "text/plain": [
       "[<matplotlib.text.Text at 0x2f94e0080>, <matplotlib.text.Text at 0x2f95fed30>]"
      ]
     },
     "execution_count": 54,
     "metadata": {},
     "output_type": "execute_result"
    },
    {
     "data": {
      "image/png": "[encoded data removed]",
      "text/plain": [
       "<matplotlib.figure.Figure at 0x2f92d17f0>"
      ]
     },
     "metadata": {},
     "output_type": "display_data"
    }
   ],
   "source": [
    "n_groups = 2\n",
    "\n",
    "svd = [ svd_full,pred_full ]\n",
    "base = [svd_baseline,pred_baseline]\n",
    "\n",
    "\n",
    "fig, ax = plt.subplots()\n",
    "\n",
    "index = np.arange(n_groups)\n",
    "bar_width = 0.35\n",
    "\n",
    "\n",
    "\n",
    "rects1 = ax.bar(index, [base[0],base[1]], bar_width,\n",
    "                label='Baseline Model')\n",
    "\n",
    "rects2 = ax.bar(index + bar_width, [svd[0],svd[1]], bar_width,\n",
    "                label='Full Model')\n",
    "\n",
    "ax.set_ylabel('Hit Rate')\n",
    "ax.set_title('Comparison of Hit Rate',fontsize=15)\n",
    "ax.set_xticks(index + bar_width / 2)\n",
    "ax.set_xticklabels(['Normal SVD','Time SVD'])\n",
    "legend = ax.legend(bbox_to_anchor=(1.05, 1), loc=2, borderaxespad=0., shadow=True, fontsize='x-large')\n",
    "\n",
    "        \n",
    "plt.show()"
   ]
  },
  {
   "cell_type": "code",
   "execution_count": 269,
   "metadata": {
    "collapsed": true
   },
   "outputs": [],
   "source": [
    "def comparison(x,y,parameter):\n",
    "    fig, ax = plt.subplots()\n",
    "    ax.plot(x[parameter].unique(), x.groupby(parameter).mean()['rate'],'-o', label='full model')\n",
    "    ax.plot(y[parameter].unique(), y.groupby(parameter).mean()['rate'],'-o', label='baseline model')  \n",
    "    legend = ax.legend(bbox_to_anchor=(1.05, 1), loc=2, borderaxespad=0., shadow=True, fontsize='x-large')\n",
    "    plt.xlabel(parameter)\n",
    "    plt.ylabel('hit rate')\n",
    "    if parameter == 'lr':\n",
    "        parameter = 'learning rate'\n",
    "    plt.title(\"{} and hit rate\".format(parameter))\n",
    "    plt.savefig('/Users/nihaozheng/Desktop/Personalization/project/project II/plot/{} and hit rate.png'.format(parameter))\n",
    "    plt.show()\n",
    "\n"
   ]
  },
  {
   "cell_type": "code",
   "execution_count": null,
   "metadata": {
    "collapsed": true
   },
   "outputs": [],
   "source": []
  },
  {
   "cell_type": "markdown",
   "metadata": {},
   "source": [
    "# Analyze Timestamp of records"
   ]
  },
  {
   "cell_type": "code",
   "execution_count": 55,
   "metadata": {
    "collapsed": true
   },
   "outputs": [],
   "source": [
    "time = {}\n",
    "for person in user_dic2.keys():\n",
    "    time[person] = []\n",
    "    t1 = [ i[2] for i in user_dic2[person].purchases_record()]\n",
    "    t2 = [ i[1]for i in user_dic2[person].carts_record()]\n",
    "    t3 = [ i[1] for i in user_dic2[person].views_record()]\n",
    "    time[person] += t1+t2+t3"
   ]
  },
  {
   "cell_type": "code",
   "execution_count": 56,
   "metadata": {
    "collapsed": true
   },
   "outputs": [],
   "source": [
    "start_end_time = {}\n",
    "for person in user_dic2.keys():\n",
    "    start_end_time[person] = []\n",
    "    t1 = [ i[2] for i in user_dic2[person].purchases_record()]\n",
    "    t2 = [ i[1] for i in user_dic2[person].carts_record()]\n",
    "    t3 = [ i[1] for i in user_dic2[person].views_record()]\n",
    "    end = max(t1+t2+t3)\n",
    "    start = min(t1+t2+t3)\n",
    "    length = (end-start).days\n",
    "    start_end_time[person] += [start,end,length]"
   ]
  },
  {
   "cell_type": "code",
   "execution_count": 57,
   "metadata": {},
   "outputs": [
    {
     "name": "stdout",
     "output_type": "stream",
     "text": [
      "344\n"
     ]
    }
   ],
   "source": [
    "n=0\n",
    "for person in user_dic2.keys():\n",
    "    if start_end_time[person][2]==0:\n",
    "        n+=1\n",
    "        #print(\"Customer ID is {}\".format(person))\n",
    "        #print(\"The date is {}\".format(start_end_time[person][1]))\n",
    "        #print(\"Purchase history is {}\".format(user_dic2[person].purchases_record()))\n",
    "        #print(\"Add_to_Cart history is {}\".format(user_dic2[person].carts_record())) \n",
    "        #print(\"Views history is {}\".format(user_dic2[person].views_record()))\n",
    "        #print('----------------------------------------------------------------------')\n",
    "print(n)"
   ]
  },
  {
   "cell_type": "code",
   "execution_count": 58,
   "metadata": {
    "collapsed": true
   },
   "outputs": [],
   "source": [
    "length = [i[1][2] for i in start_end_time.items()]"
   ]
  },
  {
   "cell_type": "code",
   "execution_count": 59,
   "metadata": {},
   "outputs": [
    {
     "data": {
      "text/plain": [
       "<matplotlib.text.Text at 0x302d9e208>"
      ]
     },
     "execution_count": 59,
     "metadata": {},
     "output_type": "execute_result"
    },
    {
     "data": {
      "text/plain": [
       "<matplotlib.text.Text at 0x2fc315588>"
      ]
     },
     "execution_count": 59,
     "metadata": {},
     "output_type": "execute_result"
    },
    {
     "data": {
      "text/plain": [
       "<matplotlib.text.Text at 0x2fc315550>"
      ]
     },
     "execution_count": 59,
     "metadata": {},
     "output_type": "execute_result"
    },
    {
     "data": {
      "text/plain": [
       "<matplotlib.text.Text at 0x302dc9c88>"
      ]
     },
     "execution_count": 59,
     "metadata": {},
     "output_type": "execute_result"
    },
    {
     "data": {
      "text/plain": [
       "<matplotlib.text.Text at 0x302dc9d30>"
      ]
     },
     "execution_count": 59,
     "metadata": {},
     "output_type": "execute_result"
    },
    {
     "data": {
      "text/plain": [
       "<matplotlib.text.Text at 0x302dd6438>"
      ]
     },
     "execution_count": 59,
     "metadata": {},
     "output_type": "execute_result"
    },
    {
     "data": {
      "text/plain": [
       "<matplotlib.text.Text at 0x302dd6860>"
      ]
     },
     "execution_count": 59,
     "metadata": {},
     "output_type": "execute_result"
    },
    {
     "data": {
      "text/plain": [
       "<matplotlib.text.Text at 0x302dd6c50>"
      ]
     },
     "execution_count": 59,
     "metadata": {},
     "output_type": "execute_result"
    },
    {
     "data": {
      "text/plain": [
       "<matplotlib.text.Text at 0x302dd6f28>"
      ]
     },
     "execution_count": 59,
     "metadata": {},
     "output_type": "execute_result"
    },
    {
     "data": {
      "text/plain": [
       "<matplotlib.text.Text at 0x302de13c8>"
      ]
     },
     "execution_count": 59,
     "metadata": {},
     "output_type": "execute_result"
    },
    {
     "data": {
      "text/plain": [
       "<matplotlib.text.Text at 0x302de1780>"
      ]
     },
     "execution_count": 59,
     "metadata": {},
     "output_type": "execute_result"
    },
    {
     "data": {
      "text/plain": [
       "<matplotlib.text.Text at 0x302de1ba8>"
      ]
     },
     "execution_count": 59,
     "metadata": {},
     "output_type": "execute_result"
    },
    {
     "data": {
      "text/plain": [
       "<matplotlib.text.Text at 0x302de1ef0>"
      ]
     },
     "execution_count": 59,
     "metadata": {},
     "output_type": "execute_result"
    },
    {
     "data": {
      "text/plain": [
       "<matplotlib.text.Text at 0x302de62e8>"
      ]
     },
     "execution_count": 59,
     "metadata": {},
     "output_type": "execute_result"
    },
    {
     "data": {
      "text/plain": [
       "<matplotlib.text.Text at 0x2fc223cc0>"
      ]
     },
     "execution_count": 59,
     "metadata": {},
     "output_type": "execute_result"
    },
    {
     "data": {
      "text/plain": [
       "<matplotlib.text.Text at 0x302d7aeb8>"
      ]
     },
     "execution_count": 59,
     "metadata": {},
     "output_type": "execute_result"
    },
    {
     "data": {
      "text/plain": [
       "<matplotlib.text.Text at 0x2fc3180b8>"
      ]
     },
     "execution_count": 59,
     "metadata": {},
     "output_type": "execute_result"
    },
    {
     "data": {
      "image/png": "[encoded data removed]",
      "text/plain": [
       "<matplotlib.figure.Figure at 0x2f99fc198>"
      ]
     },
     "metadata": {},
     "output_type": "display_data"
    }
   ],
   "source": [
    "arr=plt.hist(length,bins=14)\n",
    "for i in range(14):\n",
    "    plt.text(arr[1][i],arr[0][i],str(int(arr[0][i])))\n",
    "plt.title(\"1016 Users in Total\")\n",
    "plt.xlabel('length of record in days')\n",
    "plt.ylabel('number of custormers')\n",
    "plt.show()"
   ]
  },
  {
   "cell_type": "code",
   "execution_count": null,
   "metadata": {
    "collapsed": true
   },
   "outputs": [],
   "source": []
  }
 ],
 "metadata": {
  "kernelspec": {
   "display_name": "Python 3",
   "language": "python",
   "name": "python3"
  },
  "language_info": {
   "codemirror_mode": {
    "name": "ipython",
    "version": 3
   },
   "file_extension": ".py",
   "mimetype": "text/x-python",
   "name": "python",
   "nbconvert_exporter": "python",
   "pygments_lexer": "ipython3",
   "version": "3.6.1"
  }
 },
 "nbformat": 4,
 "nbformat_minor": 2
}
