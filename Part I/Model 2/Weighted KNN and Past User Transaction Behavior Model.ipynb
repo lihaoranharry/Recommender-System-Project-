{
 "cells": [
  {
   "cell_type": "code",
   "execution_count": 1,
   "metadata": {
    "collapsed": true
   },
   "outputs": [],
   "source": [
    "import copy\n",
    "class person:\n",
    "    \"\"\"\n",
    "    The item class, which record the change of the properties and the customer\n",
    "    of the item\n",
    "    \"\"\"\n",
    "    def __init__(self, id):\n",
    "        self.person_id = id\n",
    "        self.purchased_category = {}\n",
    "        self.viewed_or_carted_category = {}\n",
    "        self.total_purchased_num = 0\n",
    "        self.total_viewd_or_carted_num = 0"
   ]
  },
  {
   "cell_type": "code",
   "execution_count": 2,
   "metadata": {
    "collapsed": false
   },
   "outputs": [
    {
     "name": "stdout",
     "output_type": "stream",
     "text": [
      "2756101 255585\n"
     ]
    }
   ],
   "source": [
    "class analyse():\n",
    "    \"\"\"\n",
    "    the class to read and store data\n",
    "    \"\"\"\n",
    "    def __init__(self):\n",
    "        self.persons = {}\n",
    "        self.category_id_dic = {}\n",
    "        self.category_to_id_dic = {}\n",
    "    def find_category_id(self, property_file):\n",
    "        \"\"\"\n",
    "        find the corresponding category id for each id\n",
    "        \"\"\"\n",
    "        f, first = open(property_file, \"r\"), True\n",
    "        for line in f:\n",
    "            if first:\n",
    "                first = False\n",
    "                continue\n",
    "            property_info = line.split(\",\")\n",
    "            \n",
    "            item_id, pro_name, value = property_info[1], property_info[2], property_info[3]\n",
    "            if len(pro_name)>0 and pro_name[-1] == \"\\n\":\n",
    "                pro_name = pro_name[:-1]\n",
    "            if pro_name != \"categoryid\":\n",
    "                continue\n",
    "            if len(value)>0 and value[-1] == \"\\n\":\n",
    "                value = value[:-1]\n",
    "            if len(item_id)>0 and item_id[-1] == \"\\n\":\n",
    "                item_id = item_id[:-1]\n",
    "            self.category_id_dic[item_id] = value\n",
    "            if value not in self.category_to_id_dic:\n",
    "                self.category_to_id_dic[value] = []\n",
    "            self.category_to_id_dic[value].append(item_id)\n",
    "    def read_event(self, event_file):\n",
    "        f, first = open(event_file, \"r\"), True\n",
    "        count, no_cate = 0, 0\n",
    "        for line in f:\n",
    "            if first:\n",
    "                first = False\n",
    "                continue\n",
    "            count += 1\n",
    "            event_info = line.split(\",\")\n",
    "            person_id, event, item_id =  event_info[1], event_info[2], event_info[3]\n",
    "            category_id = None\n",
    "            if len(item_id) > 0 and item_id[-1] == \"\\n\":\n",
    "                item_id = item_id[:-1]\n",
    "            if item_id not in self.category_id_dic:\n",
    "                no_cate += 1\n",
    "                category_id = item_id\n",
    "            else:\n",
    "                category_id = self.category_id_dic[item_id]\n",
    "            if person_id not in self.persons:\n",
    "                self.persons[person_id] = person(person_id)\n",
    "            \n",
    "            if event == \"transaction\":\n",
    "                self.persons[person_id].purchased_category[category_id] = self.persons[person_id].purchased_category.get(category_id, 0) + 1\n",
    "                self.persons[person_id].total_purchased_num += 1\n",
    "            else:\n",
    "                self.persons[person_id].viewed_or_carted_category[category_id] = self.persons[person_id].viewed_or_carted_category.get(category_id, 0) + 1\n",
    "                self.persons[person_id].total_viewd_or_carted_num += 1\n",
    "        print count, no_cate\n",
    "data = analyse()\n",
    "data.find_category_id(\"/Users/Kiki/Downloads/retailrocket-recommender-system-dataset/item_properties_part1.csv\")\n",
    "data.find_category_id(\"/Users/Kiki/Downloads/retailrocket-recommender-system-dataset/item_properties_part2.csv\")\n",
    "data.read_event(\"/Users/Kiki/Downloads/retailrocket-recommender-system-dataset/events.csv\")"
   ]
  },
  {
   "cell_type": "code",
   "execution_count": 3,
   "metadata": {
    "collapsed": true
   },
   "outputs": [],
   "source": [
    "def subset(data, threshold):\n",
    "    \"\"\"\n",
    "    preprocess users in a, filter the users according to its purchased, viewd, and carted items\n",
    "    :param threshold: int\n",
    "    :return: {}\n",
    "    \"\"\"\n",
    "    res = {}\n",
    "    for p_name, person in data.persons.items():\n",
    "        if person.total_purchased_num > threshold and person.total_viewd_or_carted_num > threshold:\n",
    "            res[p_name] = copy.deepcopy(person)\n",
    "    return res"
   ]
  },
  {
   "cell_type": "code",
   "execution_count": 4,
   "metadata": {
    "collapsed": false
   },
   "outputs": [
    {
     "name": "stdout",
     "output_type": "stream",
     "text": [
      "1016\n"
     ]
    }
   ],
   "source": [
    "subset_persons = subset(data, 2)\n",
    "\n",
    "print len(subset_persons.keys())"
   ]
  },
  {
   "cell_type": "code",
   "execution_count": 5,
   "metadata": {
    "collapsed": false
   },
   "outputs": [],
   "source": [
    "def category(persons):\n",
    "    \"\"\"\n",
    "    give back a list of category given the persons\n",
    "    :param persons: dic\n",
    "    :return: []\n",
    "    \"\"\"\n",
    "    res = []\n",
    "    dic = {}\n",
    "    \n",
    "    for p_name, person in persons.items():\n",
    "        \n",
    "        for category_id in person.purchased_category:\n",
    "            if category_id not in dic:\n",
    "                res.append(category_id)\n",
    "                dic[category_id] = True\n",
    "        for category_id in person.viewed_or_carted_category:\n",
    "            if category_id not in dic:\n",
    "                res.append(category_id)\n",
    "                dic[category_id] = True\n",
    "    \n",
    "    return res"
   ]
  },
  {
   "cell_type": "code",
   "execution_count": 6,
   "metadata": {
    "collapsed": false
   },
   "outputs": [],
   "source": [
    "subset_category = category(subset_persons)"
   ]
  },
  {
   "cell_type": "code",
   "execution_count": 7,
   "metadata": {
    "collapsed": false
   },
   "outputs": [],
   "source": [
    "def cal_score(persons, categories):\n",
    "    \"\"\"\n",
    "    give back a scores dictionary recording the score of each category for each person\n",
    "    :param persons: dic\n",
    "    :param categories: list\n",
    "    :return: {}\n",
    "    \"\"\"\n",
    "    scores = {}\n",
    "    for p_name, person in persons.items():\n",
    "        scores[p_name], total = {}, 0\n",
    "        for c_id in categories:\n",
    "            scores[p_name][c_id] = 0\n",
    "        for c_id, times in person.purchased_category.items():\n",
    "            scores[p_name][c_id]  += times\n",
    "            total += times\n",
    "        for c_id, times in person.viewed_or_carted_category.items():\n",
    "            scores[p_name][c_id] += 0.5 * times\n",
    "            total += 0.5 * times\n",
    "        for k in scores[p_name]:\n",
    "            scores[p_name][k] = (scores[p_name][k]*1.0/total)\n",
    "        \n",
    "    return scores\n",
    "        "
   ]
  },
  {
   "cell_type": "code",
   "execution_count": 8,
   "metadata": {
    "collapsed": false
   },
   "outputs": [],
   "source": [
    "scores = cal_score(subset_persons, subset_category)"
   ]
  },
  {
   "cell_type": "code",
   "execution_count": 9,
   "metadata": {
    "collapsed": false
   },
   "outputs": [],
   "source": [
    "import pandas as pd\n",
    "import numpy as np"
   ]
  },
  {
   "cell_type": "code",
   "execution_count": 10,
   "metadata": {
    "collapsed": true
   },
   "outputs": [],
   "source": [
    "import random\n",
    "def create_table(scores, categories):\n",
    "    \"\"\"\n",
    "    create a scores table\n",
    "    :param scores: dic\n",
    "    :param categories: list\n",
    "    :return: {}\n",
    "    \"\"\"\n",
    "    persons_names = scores.keys()\n",
    "    categories\n",
    "    person_list = []\n",
    "    category_list = []\n",
    "    score_list = []\n",
    "    for person_name in persons_names:\n",
    "        for c_id in categories:\n",
    "            person_list.append(person_name)\n",
    "            category_list.append(c_id)\n",
    "            score_list.append(scores[person_name][c_id])\n",
    "    dic = {\"person\" : person_list, 'categoryid':category_list, 'score':score_list}\n",
    "    return pd.DataFrame(dic,columns=['person','categoryid','score'])\n",
    "\n",
    "    "
   ]
  },
  {
   "cell_type": "code",
   "execution_count": 11,
   "metadata": {
    "collapsed": false
   },
   "outputs": [],
   "source": [
    "df = create_table(scores, subset_category)"
   ]
  },
  {
   "cell_type": "code",
   "execution_count": 12,
   "metadata": {
    "collapsed": false
   },
   "outputs": [
    {
     "data": {
      "text/html": [
       "<div>\n",
       "<table border=\"1\" class=\"dataframe\">\n",
       "  <thead>\n",
       "    <tr style=\"text-align: right;\">\n",
       "      <th></th>\n",
       "      <th>person</th>\n",
       "      <th>categoryid</th>\n",
       "      <th>score</th>\n",
       "    </tr>\n",
       "  </thead>\n",
       "  <tbody>\n",
       "    <tr>\n",
       "      <th>0</th>\n",
       "      <td>625795</td>\n",
       "      <td>1421</td>\n",
       "      <td>0.050725</td>\n",
       "    </tr>\n",
       "    <tr>\n",
       "      <th>1</th>\n",
       "      <td>625795</td>\n",
       "      <td>618</td>\n",
       "      <td>0.090580</td>\n",
       "    </tr>\n",
       "    <tr>\n",
       "      <th>2</th>\n",
       "      <td>625795</td>\n",
       "      <td>619</td>\n",
       "      <td>0.014493</td>\n",
       "    </tr>\n",
       "    <tr>\n",
       "      <th>3</th>\n",
       "      <td>625795</td>\n",
       "      <td>352</td>\n",
       "      <td>0.014493</td>\n",
       "    </tr>\n",
       "    <tr>\n",
       "      <th>4</th>\n",
       "      <td>625795</td>\n",
       "      <td>1261</td>\n",
       "      <td>0.003623</td>\n",
       "    </tr>\n",
       "  </tbody>\n",
       "</table>\n",
       "</div>"
      ],
      "text/plain": [
       "   person categoryid     score\n",
       "0  625795       1421  0.050725\n",
       "1  625795        618  0.090580\n",
       "2  625795        619  0.014493\n",
       "3  625795        352  0.014493\n",
       "4  625795       1261  0.003623"
      ]
     },
     "execution_count": 12,
     "metadata": {},
     "output_type": "execute_result"
    }
   ],
   "source": [
    "df.head()"
   ]
  },
  {
   "cell_type": "code",
   "execution_count": 13,
   "metadata": {
    "collapsed": true
   },
   "outputs": [],
   "source": [
    "def find_sets(df, percentage):\n",
    "    \"\"\"\n",
    "    find a training set and a test set, and add(change) the random column\n",
    "    :param df: DataFrame\n",
    "    :return: {}, {}\n",
    "    \"\"\"\n",
    "    ran_list, tr_set, te_set  = [], {}, {}\n",
    "    num_tr, num_te = 0, 0\n",
    "    for i in range(df.shape[0]):\n",
    "        if i % 100000 == 0:\n",
    "            print \"dividing sets finished \" + str(100.0*i/df.shape[0]) +\"%\"\n",
    "        ran_num = round(random.uniform(0, 1),2)\n",
    "        ran_list.append(ran_num)\n",
    "        p_name , c_id, score = df.loc[i, \"person\"], df.loc[i, \"categoryid\"],df.loc[i, \"score\"]\n",
    "        if ran_num < percentage and p_name in tr_set:\n",
    "            num_te += 1\n",
    "            if p_name not in te_set:\n",
    "                te_set[p_name] = {}\n",
    "            te_set[p_name][c_id] = score\n",
    "        else:\n",
    "            num_tr += 1\n",
    "            if p_name not in tr_set:\n",
    "                tr_set[p_name] = {}\n",
    "            tr_set[p_name][c_id] = score\n",
    "    print \"number of data in training set: \" + str(num_tr)\n",
    "    print \"number of data in test set:\" + str(num_te)    \n",
    "    df.assign(random = ran_list)\n",
    "    return tr_set, te_set"
   ]
  },
  {
   "cell_type": "code",
   "execution_count": 164,
   "metadata": {
    "collapsed": false
   },
   "outputs": [
    {
     "name": "stdout",
     "output_type": "stream",
     "text": [
      "finished 0.0%\n",
      "finished 5.01657476302%\n",
      "finished 10.033149526%\n",
      "finished 15.0497242891%\n",
      "finished 20.0662990521%\n",
      "finished 25.0828738151%\n",
      "finished 30.0994485781%\n",
      "finished 35.1160233411%\n",
      "finished 40.1325981041%\n",
      "finished 45.1491728672%\n",
      "finished 50.1657476302%\n",
      "finished 55.1823223932%\n",
      "finished 60.1988971562%\n",
      "finished 65.2154719192%\n",
      "finished 70.2320466822%\n",
      "finished 75.2486214453%\n",
      "finished 80.2651962083%\n",
      "finished 85.2817709713%\n",
      "finished 90.2983457343%\n",
      "finished 95.3149204973%\n",
      "number of data in training set: 1603819\n",
      "number of data in test set:389573\n"
     ]
    }
   ],
   "source": [
    "tr_set, te_set = find_sets(df,0.2)"
   ]
  },
  {
   "cell_type": "code",
   "execution_count": 14,
   "metadata": {
    "collapsed": false
   },
   "outputs": [],
   "source": [
    "import math\n",
    "def pearson(person1, person2):\n",
    "    p1_key = person1.keys()\n",
    "    p2_key = person2.keys()\n",
    "    common_cate_id = list(set(p1_key).intersection(p2_key))\n",
    "    aver_person1 = sum(person1.values())*1.0/ len(person1)\n",
    "    aver_person2 = sum(person2.values())*1.0/ len(person2)\n",
    "    numerator = 0\n",
    "    for c_id in common_cate_id:\n",
    "        numerator += (person1[c_id] - aver_person1)*(person2[c_id] - aver_person2)\n",
    "    denominator,temp1,temp2 = 0, 0, 0 \n",
    "    for c_id in common_cate_id:\n",
    "        temp1 += (person1[c_id] - aver_person1)**2\n",
    "        temp2 += (person2[c_id] - aver_person2)**2\n",
    "     \n",
    "    denominator = math.sqrt(temp1) * math.sqrt(temp2)\n",
    "    if denominator == 0:\n",
    "        return -float(\"inf\")\n",
    "    return numerator*1.0/denominator"
   ]
  },
  {
   "cell_type": "code",
   "execution_count": 15,
   "metadata": {
    "collapsed": true
   },
   "outputs": [],
   "source": [
    "def Jaccard(person1, person2):\n",
    "    p1_key = person1.keys()\n",
    "    p2_key = person2.keys()\n",
    "    common_cate_id = set(p1_key).intersection(p2_key)\n",
    "    return len(common_cate_id)*1.0/(len(p1_key) + len(p2_key) - len(common_cate_id))"
   ]
  },
  {
   "cell_type": "code",
   "execution_count": 16,
   "metadata": {
    "collapsed": false
   },
   "outputs": [],
   "source": [
    "import Queue as Q\n",
    "def knn_list(scores, k, test_set):\n",
    "    knn = {}\n",
    "    if k > len(scores) - 1:\n",
    "        raise Exception('k can not be larger than len(scores) - 1!')\n",
    "    persons_list = scores.keys()\n",
    "    index  = 0\n",
    "    for p_name, p_scores in scores.items():\n",
    "        if index % 1000 ==0 :\n",
    "            print \"finding \"+str(k)+ \" nearest neighbours finished \" + str(100.0*index/len(scores)) +\"%\"\n",
    "        index += 1\n",
    "        if p_name not in test_set:\n",
    "            continue\n",
    "        temp_q, knn[p_name] = Q.PriorityQueue(), []\n",
    "        \n",
    "        for other_pname in persons_list:\n",
    "            if other_pname == p_name:\n",
    "                continue\n",
    "            person2_scores = scores[other_pname]\n",
    "            p_score = pearson(p_scores, person2_scores)\n",
    "            j_score = Jaccard(p_scores, person2_scores)\n",
    "            neg = False\n",
    "            \n",
    "            if p_score < 0:\n",
    "                neg = True\n",
    "            score = 0.5* abs(p_score)+ 0.5 * j_score\n",
    "            if neg:\n",
    "                score = - score\n",
    "            temp_q.put((- score, other_pname))\n",
    "            \n",
    "        for i in range(k):\n",
    "            temp_score = temp_q.get()\n",
    "            knn[p_name].append((temp_score[1], -temp_score[0]))\n",
    "    return knn\n",
    "        "
   ]
  },
  {
   "cell_type": "code",
   "execution_count": 16,
   "metadata": {
    "collapsed": false
   },
   "outputs": [],
   "source": [
    "def ave(scores_set):\n",
    "    res_dic = {}\n",
    "    for p_name, p_scores in scores_set.items():\n",
    "        tot_v, tot_n = 0, 0\n",
    "        for c_id, score in p_scores.items():\n",
    "            if score >0 :\n",
    "                tot_v += score\n",
    "                tot_n += 1\n",
    "        if tot_n == 0:\n",
    "            res_dic[p_name] = 0\n",
    "        else:\n",
    "            res_dic[p_name] = 1.0* tot_v / tot_n\n",
    "    return res_dic"
   ]
  },
  {
   "cell_type": "code",
   "execution_count": 364,
   "metadata": {
    "collapsed": false
   },
   "outputs": [],
   "source": [
    "tra_ave = ave(tr_set)"
   ]
  },
  {
   "cell_type": "code",
   "execution_count": 17,
   "metadata": {
    "collapsed": false
   },
   "outputs": [],
   "source": [
    "import math\n",
    "def prediction(training_set, knn, test_set):\n",
    "    pre = {}\n",
    "    index = 1.0\n",
    "    for p_name, p_scores in test_set.items():\n",
    "        # the scores recorded in test_set\n",
    "        if p_name not in pre:\n",
    "            pre[p_name] = {}\n",
    "        \n",
    "        index += 1\n",
    "        \n",
    "        for c_id in p_scores:\n",
    "            numerator, denominator = 0, 0\n",
    "            \n",
    "            for nei_name, sim_score in knn[p_name]:\n",
    "                if c_id not in training_set[nei_name]:\n",
    "                    continue\n",
    "                if abs(sim_score) == float('inf'):\n",
    "                    break\n",
    "                \n",
    "                \n",
    "                denominator += abs(sim_score) \n",
    "                numerator += training_set[nei_name][c_id] * sim_score\n",
    "            if denominator!= 0:\n",
    "                pre[p_name][c_id] =  1.0*numerator/denominator\n",
    "            else:\n",
    "                pre[p_name][c_id] = 0\n",
    "    return pre\n",
    "            "
   ]
  },
  {
   "cell_type": "code",
   "execution_count": 240,
   "metadata": {
    "collapsed": false
   },
   "outputs": [
    {
     "name": "stdout",
     "output_type": "stream",
     "text": [
      "finding 1015 nearest neighbours finished 0.0%\n",
      "finding 1015 nearest neighbours finished 9.84251968504%\n",
      "finding 1015 nearest neighbours finished 19.6850393701%\n",
      "finding 1015 nearest neighbours finished 29.5275590551%\n",
      "finding 1015 nearest neighbours finished 39.3700787402%\n",
      "finding 1015 nearest neighbours finished 49.2125984252%\n",
      "finding 1015 nearest neighbours finished 59.0551181102%\n",
      "finding 1015 nearest neighbours finished 68.8976377953%\n",
      "finding 1015 nearest neighbours finished 78.7401574803%\n",
      "finding 1015 nearest neighbours finished 88.5826771654%\n",
      "finding 1015 nearest neighbours finished 98.4251968504%\n"
     ]
    }
   ],
   "source": [
    "neighbours= knn_list(tr_set,len(tr_set)-1,te_set)\n",
    "#dont touch it!!!!!!!!!!!!!!!!!!!!!!!!!!!!!!!!!!!!!!!!!"
   ]
  },
  {
   "cell_type": "code",
   "execution_count": 366,
   "metadata": {
    "collapsed": false
   },
   "outputs": [],
   "source": [
    "neighbours_list = [{} for _ in range(len(tr_set)-1)]\n",
    "#dont touch it!!!!!!!!!!!!!!!!!!!!!!!!!!!!!!!!!!!!!!!!!\n",
    "for p_name in neighbours:\n",
    "    for i in range(len(tr_set)-1):\n",
    "        neighbours_list[i][p_name] =neighbours[p_name][:i+1]"
   ]
  },
  {
   "cell_type": "code",
   "execution_count": 18,
   "metadata": {
    "collapsed": true
   },
   "outputs": [],
   "source": [
    "def baseline(tr_set, test_set):\n",
    "    pre = {}\n",
    "    ave = {}\n",
    "    num = {}\n",
    "    for p_name, p_scores in tr_set.items():\n",
    "        for c_id, score in p_scores.items():\n",
    "            ave[c_id] = ave.get(c_id, 0) + score\n",
    "            num[c_id] = num.get(c_id, 0) + 1\n",
    "    for c_id in ave:\n",
    "        ave[c_id] = ave[c_id] * 1.0 / num[c_id]\n",
    "    for p_name, p_scores in test_set.items():\n",
    "        # the scores recorded in test_set\n",
    "        if p_name not in pre:\n",
    "            pre[p_name] = {}\n",
    "        for c_id in p_scores:\n",
    "            if c_id in ave:\n",
    "                pre[p_name][c_id] = ave[c_id]\n",
    "            else:\n",
    "                pre[p_name][c_id] = 0\n",
    "    return pre"
   ]
  },
  {
   "cell_type": "code",
   "execution_count": 381,
   "metadata": {
    "collapsed": false
   },
   "outputs": [],
   "source": [
    "bl = baseline(tr_set, te_set)"
   ]
  },
  {
   "cell_type": "code",
   "execution_count": 19,
   "metadata": {
    "collapsed": true
   },
   "outputs": [],
   "source": [
    "\n",
    "def MSE(pre_set, te_set):\n",
    "    tot_num, res = 0, 0\n",
    "    for p_name, p_scores in pre_set.items():\n",
    "        for c_id in p_scores:\n",
    "            res += (pre_set[p_name][c_id] - te_set[p_name][c_id])**2\n",
    "            tot_num += 1\n",
    "    return res*1.0/tot_num"
   ]
  },
  {
   "cell_type": "code",
   "execution_count": 383,
   "metadata": {
    "collapsed": false
   },
   "outputs": [
    {
     "name": "stdout",
     "output_type": "stream",
     "text": [
      "the MSE for baseline model is 0.00016669992478\n"
     ]
    }
   ],
   "source": [
    "resbl = MSE(bl, te_set)\n",
    "print(\"the MSE for baseline model is \" + str(resbl))\n"
   ]
  },
  {
   "cell_type": "code",
   "execution_count": 446,
   "metadata": {
    "collapsed": false
   },
   "outputs": [
    {
     "name": "stdout",
     "output_type": "stream",
     "text": [
      "the MSE for 1nn model is 0.000490256096601\n",
      "the MSE for 2nn model is 0.000388349001133\n",
      "the MSE for 3nn model is 0.000307454659837\n",
      "the MSE for 4nn model is 0.0002581811936\n",
      "the MSE for 5nn model is 0.000235224157189\n",
      "the MSE for 6nn model is 0.00022003248498\n",
      "the MSE for 7nn model is 0.000207982902947\n",
      "the MSE for 8nn model is 0.000199291347219\n",
      "the MSE for 9nn model is 0.000193789896009\n",
      "the MSE for 10nn model is 0.000188973551276\n",
      "the MSE for 11nn model is 0.000185764424111\n",
      "the MSE for 12nn model is 0.000182203955404\n",
      "the MSE for 13nn model is 0.000179279513345\n",
      "the MSE for 14nn model is 0.000177021356475\n",
      "the MSE for 15nn model is 0.000175275188676\n",
      "the MSE for 16nn model is 0.000173797617944\n",
      "the MSE for 17nn model is 0.000172724370913\n",
      "the MSE for 18nn model is 0.000171721276613\n",
      "the MSE for 19nn model is 0.000170870714055\n",
      "the MSE for 20nn model is 0.000170090274979\n",
      "the MSE for 21nn model is 0.000169326107148\n",
      "the MSE for 22nn model is 0.000168406461871\n",
      "the MSE for 23nn model is 0.000167759875688\n",
      "the MSE for 24nn model is 0.000167227487407\n",
      "the MSE for 25nn model is 0.000166612888386\n",
      "the MSE for 26nn model is 0.000166297650281\n",
      "the MSE for 27nn model is 0.000165775023564\n",
      "the MSE for 28nn model is 0.000165285369527\n",
      "the MSE for 29nn model is 0.000164942358103\n",
      "the MSE for 30nn model is 0.000164536882467\n",
      "the MSE for 31nn model is 0.000164133550404\n",
      "the MSE for 32nn model is 0.000163961794609\n",
      "the MSE for 33nn model is 0.000163668849277\n",
      "the MSE for 34nn model is 0.000163505018389\n",
      "the MSE for 35nn model is 0.000163328027436\n",
      "the MSE for 36nn model is 0.000163179113568\n",
      "the MSE for 37nn model is 0.000162947364328\n",
      "the MSE for 38nn model is 0.000162874816831\n",
      "the MSE for 39nn model is 0.00016277892522\n",
      "the MSE for 40nn model is 0.000162611696621\n",
      "the MSE for 41nn model is 0.000162511835213\n",
      "the MSE for 42nn model is 0.000162408641053\n",
      "the MSE for 43nn model is 0.000162353068507\n",
      "the MSE for 44nn model is 0.000162291755992\n",
      "the MSE for 45nn model is 0.000162236584043\n",
      "the MSE for 46nn model is 0.000162200796891\n",
      "the MSE for 47nn model is 0.00016216840564\n",
      "the MSE for 48nn model is 0.000162118406631\n",
      "the MSE for 49nn model is 0.000162054086145\n",
      "the MSE for 50nn model is 0.00016201182704\n",
      "the MSE for 51nn model is 0.000161936264494\n",
      "the MSE for 52nn model is 0.000161893433819\n",
      "the MSE for 53nn model is 0.000161830123829\n",
      "the MSE for 54nn model is 0.000161828422785\n",
      "the MSE for 55nn model is 0.000161826390894\n",
      "the MSE for 56nn model is 0.000161810743659\n",
      "the MSE for 57nn model is 0.000161735425319\n",
      "the MSE for 58nn model is 0.000161716339404\n",
      "the MSE for 59nn model is 0.000161687443243\n",
      "the MSE for 60nn model is 0.000161670830052\n",
      "the MSE for 61nn model is 0.000161640656011\n",
      "the MSE for 62nn model is 0.000161646894551\n",
      "the MSE for 63nn model is 0.000161668619398\n",
      "the MSE for 64nn model is 0.000161615109031\n",
      "the MSE for 65nn model is 0.000161612557726\n",
      "the MSE for 66nn model is 0.000161617445836\n",
      "the MSE for 67nn model is 0.00016162326566\n",
      "the MSE for 68nn model is 0.000161635866723\n",
      "the MSE for 69nn model is 0.00016164482317\n",
      "the MSE for 70nn model is 0.000161624462085\n",
      "the MSE for 71nn model is 0.00016161707427\n",
      "the MSE for 72nn model is 0.000161634703723\n",
      "the MSE for 73nn model is 0.000161626955471\n",
      "the MSE for 74nn model is 0.000161630367152\n",
      "the MSE for 75nn model is 0.000161622242042\n",
      "the MSE for 76nn model is 0.000161628200948\n",
      "the MSE for 77nn model is 0.000161655491347\n",
      "the MSE for 78nn model is 0.000161662372035\n",
      "the MSE for 79nn model is 0.000161654830183\n",
      "the MSE for 80nn model is 0.000161652866056\n",
      "the MSE for 81nn model is 0.000161644614247\n",
      "the MSE for 82nn model is 0.000161677496044\n",
      "the MSE for 83nn model is 0.000161661196598\n",
      "the MSE for 84nn model is 0.000161680578171\n",
      "the MSE for 85nn model is 0.000161724248918\n",
      "the MSE for 86nn model is 0.000161736816616\n",
      "the MSE for 87nn model is 0.000161772721191\n",
      "the MSE for 88nn model is 0.000161775954915\n",
      "the MSE for 89nn model is 0.000161822408963\n",
      "the MSE for 90nn model is 0.000161810406081\n",
      "the MSE for 91nn model is 0.000161826875228\n",
      "the MSE for 92nn model is 0.000161815583063\n",
      "the MSE for 93nn model is 0.000161813535864\n",
      "the MSE for 94nn model is 0.000161818756221\n",
      "the MSE for 95nn model is 0.000161825513508\n",
      "the MSE for 96nn model is 0.00016185872741\n",
      "the MSE for 97nn model is 0.000161864637436\n",
      "the MSE for 98nn model is 0.000161867491536\n",
      "the MSE for 99nn model is 0.000161897066571\n",
      "the MSE for 100nn model is 0.00016192361848\n",
      "the MSE for 101nn model is 0.000161908233156\n",
      "the MSE for 102nn model is 0.000161909645897\n",
      "the MSE for 103nn model is 0.000161949047777\n",
      "the MSE for 104nn model is 0.000161950688322\n",
      "the MSE for 105nn model is 0.000161990200733\n",
      "the MSE for 106nn model is 0.000162023096666\n",
      "the MSE for 107nn model is 0.000162034320241\n",
      "the MSE for 108nn model is 0.000162047726775\n",
      "the MSE for 109nn model is 0.000162097260425\n",
      "the MSE for 110nn model is 0.000162108969289\n",
      "the MSE for 111nn model is 0.000162121987627\n",
      "the MSE for 112nn model is 0.000162140683036\n",
      "the MSE for 113nn model is 0.000162146547745\n",
      "the MSE for 114nn model is 0.000162170572578\n",
      "the MSE for 115nn model is 0.000162213357863\n",
      "the MSE for 116nn model is 0.000162227891682\n",
      "the MSE for 117nn model is 0.000162214449033\n",
      "the MSE for 118nn model is 0.000162217802259\n",
      "the MSE for 119nn model is 0.000162228598141\n",
      "the MSE for 120nn model is 0.000162249031156\n",
      "the MSE for 121nn model is 0.000162258454814\n",
      "the MSE for 122nn model is 0.000162274354789\n",
      "the MSE for 123nn model is 0.000162282591097\n",
      "the MSE for 124nn model is 0.000162277459906\n",
      "the MSE for 125nn model is 0.000162288849871\n",
      "the MSE for 126nn model is 0.000162285493404\n",
      "the MSE for 127nn model is 0.000162321217865\n",
      "the MSE for 128nn model is 0.000162322411385\n",
      "the MSE for 129nn model is 0.000162292962983\n",
      "the MSE for 130nn model is 0.000162300495145\n",
      "the MSE for 131nn model is 0.000162279940915\n",
      "the MSE for 132nn model is 0.000162274537315\n",
      "the MSE for 133nn model is 0.000162303678549\n",
      "the MSE for 134nn model is 0.000162336701454\n",
      "the MSE for 135nn model is 0.000162356663313\n",
      "the MSE for 136nn model is 0.000162360026817\n",
      "the MSE for 137nn model is 0.000162373660697\n",
      "the MSE for 138nn model is 0.000162397200342\n",
      "the MSE for 139nn model is 0.000162408614214\n",
      "the MSE for 140nn model is 0.000162423190321\n",
      "the MSE for 141nn model is 0.000162432437721\n",
      "the MSE for 142nn model is 0.000162437364375\n",
      "the MSE for 143nn model is 0.000162457073018\n",
      "the MSE for 144nn model is 0.000162480584692\n",
      "the MSE for 145nn model is 0.000162480929493\n",
      "the MSE for 146nn model is 0.000162492163131\n",
      "the MSE for 147nn model is 0.000162469602278\n",
      "the MSE for 148nn model is 0.000162491418926\n",
      "the MSE for 149nn model is 0.00016247772731\n",
      "the MSE for 150nn model is 0.000162479173217\n",
      "the MSE for 151nn model is 0.000162492467668\n",
      "the MSE for 152nn model is 0.000162486737255\n",
      "the MSE for 153nn model is 0.000162484105495\n",
      "the MSE for 154nn model is 0.000162501184251\n",
      "the MSE for 155nn model is 0.00016250374719\n",
      "the MSE for 156nn model is 0.000162519247327\n",
      "the MSE for 157nn model is 0.000162525462393\n",
      "the MSE for 158nn model is 0.000162536501204\n",
      "the MSE for 159nn model is 0.000162532739141\n",
      "the MSE for 160nn model is 0.000162546700019\n",
      "the MSE for 161nn model is 0.000162556804309\n",
      "the MSE for 162nn model is 0.000162565438855\n",
      "the MSE for 163nn model is 0.000162532442651\n",
      "the MSE for 164nn model is 0.000162548434208\n",
      "the MSE for 165nn model is 0.000162551538402\n",
      "the MSE for 166nn model is 0.000162553996255\n",
      "the MSE for 167nn model is 0.00016257084399\n",
      "the MSE for 168nn model is 0.000162582057578\n",
      "the MSE for 169nn model is 0.000162585597269\n",
      "the MSE for 170nn model is 0.000162591415008\n",
      "the MSE for 171nn model is 0.000162605856372\n",
      "the MSE for 172nn model is 0.000162600754387\n",
      "the MSE for 173nn model is 0.00016260611953\n",
      "the MSE for 174nn model is 0.000162625864269\n",
      "the MSE for 175nn model is 0.000162644946573\n",
      "the MSE for 176nn model is 0.000162657119861\n",
      "the MSE for 177nn model is 0.000162678620834\n",
      "the MSE for 178nn model is 0.000162686985725\n",
      "the MSE for 179nn model is 0.000162697795614\n",
      "the MSE for 180nn model is 0.000162715693067\n",
      "the MSE for 181nn model is 0.00016271326752\n",
      "the MSE for 182nn model is 0.00016271955979\n",
      "the MSE for 183nn model is 0.000162740829179\n",
      "the MSE for 184nn model is 0.000162756025494\n",
      "the MSE for 185nn model is 0.000162773245072\n",
      "the MSE for 186nn model is 0.00016278082298\n",
      "the MSE for 187nn model is 0.000162793311435\n",
      "the MSE for 188nn model is 0.000162812618043\n",
      "the MSE for 189nn model is 0.00016283408827\n",
      "the MSE for 190nn model is 0.000162842729656\n",
      "the MSE for 191nn model is 0.000162849016764\n",
      "the MSE for 192nn model is 0.000162859506822\n",
      "the MSE for 193nn model is 0.000162890808934\n",
      "the MSE for 194nn model is 0.000162898191817\n",
      "the MSE for 195nn model is 0.000162910158265\n",
      "the MSE for 196nn model is 0.000162912849421\n",
      "the MSE for 197nn model is 0.000162927683768\n",
      "the MSE for 198nn model is 0.000162950725978\n",
      "the MSE for 199nn model is 0.000162957017499\n",
      "the MSE for 200nn model is 0.000162962898178\n",
      "the MSE for 201nn model is 0.000162973347734\n",
      "the MSE for 202nn model is 0.000162983044185\n",
      "the MSE for 203nn model is 0.000162998324589\n",
      "the MSE for 204nn model is 0.00016300669883\n",
      "the MSE for 205nn model is 0.000163017987485\n",
      "the MSE for 206nn model is 0.000163043929288\n",
      "the MSE for 207nn model is 0.00016305341959\n",
      "the MSE for 208nn model is 0.000163069147458\n",
      "the MSE for 209nn model is 0.000163088111296\n",
      "the MSE for 210nn model is 0.000163099732477\n",
      "the MSE for 211nn model is 0.000163117558944\n",
      "the MSE for 212nn model is 0.000163128816758\n",
      "the MSE for 213nn model is 0.000163132450394\n",
      "the MSE for 214nn model is 0.000163140836299\n",
      "the MSE for 215nn model is 0.000163152706837\n",
      "the MSE for 216nn model is 0.000163163612659\n",
      "the MSE for 217nn model is 0.000163179014257\n",
      "the MSE for 218nn model is 0.000163184624168\n",
      "the MSE for 219nn model is 0.000163193768168\n",
      "the MSE for 220nn model is 0.000163208303848\n",
      "the MSE for 221nn model is 0.000163217049573\n",
      "the MSE for 222nn model is 0.000163221525128\n",
      "the MSE for 223nn model is 0.000163238074856\n",
      "the MSE for 224nn model is 0.000163250447333\n",
      "the MSE for 225nn model is 0.000163262653958\n",
      "the MSE for 226nn model is 0.00016326080159\n",
      "the MSE for 227nn model is 0.000163272064306\n",
      "the MSE for 228nn model is 0.000163278619241\n",
      "the MSE for 229nn model is 0.000163288604965\n",
      "the MSE for 230nn model is 0.000163292591456\n",
      "the MSE for 231nn model is 0.000163299486713\n",
      "the MSE for 232nn model is 0.000163304728736\n",
      "the MSE for 233nn model is 0.000163316823853\n",
      "the MSE for 234nn model is 0.000163332068884\n",
      "the MSE for 235nn model is 0.000163345530182\n",
      "the MSE for 236nn model is 0.000163348671723\n",
      "the MSE for 237nn model is 0.00016336555202\n",
      "the MSE for 238nn model is 0.000163371813789\n",
      "the MSE for 239nn model is 0.000163379709225\n",
      "the MSE for 240nn model is 0.000163396939553\n",
      "the MSE for 241nn model is 0.000163419275897\n",
      "the MSE for 242nn model is 0.000163430761327\n",
      "the MSE for 243nn model is 0.000163429462468\n",
      "the MSE for 244nn model is 0.000163433655389\n",
      "the MSE for 245nn model is 0.000163446328824\n",
      "the MSE for 246nn model is 0.000163451715842\n",
      "the MSE for 247nn model is 0.000163464665147\n",
      "the MSE for 248nn model is 0.00016348273279\n",
      "the MSE for 249nn model is 0.000163489841253\n",
      "the MSE for 250nn model is 0.000163494364989\n",
      "the MSE for 251nn model is 0.000163505097055\n",
      "the MSE for 252nn model is 0.000163515431593\n",
      "the MSE for 253nn model is 0.000163526942505\n",
      "the MSE for 254nn model is 0.000163537854007\n",
      "the MSE for 255nn model is 0.000163556012436\n",
      "the MSE for 256nn model is 0.000163566734751\n",
      "the MSE for 257nn model is 0.00016357453502\n",
      "the MSE for 258nn model is 0.000163584117823\n",
      "the MSE for 259nn model is 0.00016359394723\n",
      "the MSE for 260nn model is 0.000163605808685\n",
      "the MSE for 261nn model is 0.00016361086661\n",
      "the MSE for 262nn model is 0.000163619420232\n",
      "the MSE for 263nn model is 0.000163626524191\n",
      "the MSE for 264nn model is 0.000163634164437\n",
      "the MSE for 265nn model is 0.000163651127301\n",
      "the MSE for 266nn model is 0.000163659710459\n",
      "the MSE for 267nn model is 0.000163675861219\n",
      "the MSE for 268nn model is 0.00016368539917\n",
      "the MSE for 269nn model is 0.000163700032075\n",
      "the MSE for 270nn model is 0.000163708551458\n",
      "the MSE for 271nn model is 0.000163718694277\n",
      "the MSE for 272nn model is 0.000163724950302\n",
      "the MSE for 273nn model is 0.000163734616278\n",
      "the MSE for 274nn model is 0.000163743138519\n",
      "the MSE for 275nn model is 0.000163754408926\n",
      "the MSE for 276nn model is 0.000163766554182\n",
      "the MSE for 277nn model is 0.000163773844466\n",
      "the MSE for 278nn model is 0.000163787712011\n",
      "the MSE for 279nn model is 0.000163798869202\n",
      "the MSE for 280nn model is 0.000163810303574\n",
      "the MSE for 281nn model is 0.00016383253418\n",
      "the MSE for 282nn model is 0.000163851227174\n",
      "the MSE for 283nn model is 0.000163868228352\n",
      "the MSE for 284nn model is 0.000163873921439\n",
      "the MSE for 285nn model is 0.000163886955415\n",
      "the MSE for 286nn model is 0.000163897536402\n",
      "the MSE for 287nn model is 0.000163904599089\n",
      "the MSE for 288nn model is 0.000163917280438\n",
      "the MSE for 289nn model is 0.000163926099371\n",
      "the MSE for 290nn model is 0.000163938375622\n",
      "the MSE for 291nn model is 0.000163945648135\n",
      "the MSE for 292nn model is 0.000163956413681\n",
      "the MSE for 293nn model is 0.000163966641482\n",
      "the MSE for 294nn model is 0.000163980239172\n",
      "the MSE for 295nn model is 0.00016398684029\n",
      "the MSE for 296nn model is 0.000164002092981\n",
      "the MSE for 297nn model is 0.000164010925719\n",
      "the MSE for 298nn model is 0.000164025105089\n",
      "the MSE for 299nn model is 0.000164039026626\n",
      "the MSE for 300nn model is 0.000164048118264\n",
      "the MSE for 301nn model is 0.000164059262563\n",
      "the MSE for 302nn model is 0.000164067039447\n",
      "the MSE for 303nn model is 0.000164080694953\n",
      "the MSE for 304nn model is 0.000164095326739\n",
      "the MSE for 305nn model is 0.000164106597019\n",
      "the MSE for 306nn model is 0.000164114353636\n",
      "the MSE for 307nn model is 0.000164130870646\n",
      "the MSE for 308nn model is 0.00016413657548\n",
      "the MSE for 309nn model is 0.000164148268609\n",
      "the MSE for 310nn model is 0.000164159497988\n",
      "the MSE for 311nn model is 0.000164175544691\n",
      "the MSE for 312nn model is 0.000164180794941\n",
      "the MSE for 313nn model is 0.0001641880486\n",
      "the MSE for 314nn model is 0.000164198561918\n",
      "the MSE for 315nn model is 0.000164214410134\n",
      "the MSE for 316nn model is 0.000164220004022\n",
      "the MSE for 317nn model is 0.000164234854194\n",
      "the MSE for 318nn model is 0.000164248911691\n",
      "the MSE for 319nn model is 0.000164275481618\n",
      "the MSE for 320nn model is 0.000164282789694\n",
      "the MSE for 321nn model is 0.00016428978659\n",
      "the MSE for 322nn model is 0.000164308212207\n",
      "the MSE for 323nn model is 0.000164333136073\n",
      "the MSE for 324nn model is 0.000164343123507\n",
      "the MSE for 325nn model is 0.000164359160345\n",
      "the MSE for 326nn model is 0.000164366626449\n",
      "the MSE for 327nn model is 0.000164375798008\n",
      "the MSE for 328nn model is 0.000164383802007\n",
      "the MSE for 329nn model is 0.000164393893516\n",
      "the MSE for 330nn model is 0.000164406164782\n",
      "the MSE for 331nn model is 0.000164413280932\n",
      "the MSE for 332nn model is 0.000164422564621\n",
      "the MSE for 333nn model is 0.000164431973623\n",
      "the MSE for 334nn model is 0.000164437320353\n",
      "the MSE for 335nn model is 0.000164445348281\n",
      "the MSE for 336nn model is 0.000164454999754\n",
      "the MSE for 337nn model is 0.000164474766787\n",
      "the MSE for 338nn model is 0.000164484831482\n",
      "the MSE for 339nn model is 0.000164494385175\n",
      "the MSE for 340nn model is 0.000164509527201\n",
      "the MSE for 341nn model is 0.000164523522842\n",
      "the MSE for 342nn model is 0.000164531471268\n",
      "the MSE for 343nn model is 0.00016454098687\n",
      "the MSE for 344nn model is 0.000164552534191\n",
      "the MSE for 345nn model is 0.000164562501303\n",
      "the MSE for 346nn model is 0.000164572565178\n",
      "the MSE for 347nn model is 0.000164587089665\n",
      "the MSE for 348nn model is 0.000164596433271\n",
      "the MSE for 349nn model is 0.000164608801817\n",
      "the MSE for 350nn model is 0.000164621471837\n",
      "the MSE for 351nn model is 0.000164633320552\n",
      "the MSE for 352nn model is 0.000164640179788\n",
      "the MSE for 353nn model is 0.000164648405012\n",
      "the MSE for 354nn model is 0.000164657031835\n",
      "the MSE for 355nn model is 0.000164670400787\n",
      "the MSE for 356nn model is 0.000164679256436\n",
      "the MSE for 357nn model is 0.000164697003786\n",
      "the MSE for 358nn model is 0.000164703766767\n",
      "the MSE for 359nn model is 0.000164715633254\n",
      "the MSE for 360nn model is 0.000164728623751\n",
      "the MSE for 361nn model is 0.000164740486075\n",
      "the MSE for 362nn model is 0.000164756064589\n",
      "the MSE for 363nn model is 0.000164771357019\n",
      "the MSE for 364nn model is 0.00016479281091\n",
      "the MSE for 365nn model is 0.000164803740539\n",
      "the MSE for 366nn model is 0.000164817130021\n",
      "the MSE for 367nn model is 0.000164831371054\n",
      "the MSE for 368nn model is 0.000164838550871\n",
      "the MSE for 369nn model is 0.000164850057594\n",
      "the MSE for 370nn model is 0.000164856630779\n",
      "the MSE for 371nn model is 0.000164868441381\n",
      "the MSE for 372nn model is 0.000164877289829\n",
      "the MSE for 373nn model is 0.000164883052152\n",
      "the MSE for 374nn model is 0.000164894244001\n",
      "the MSE for 375nn model is 0.00016490822762\n",
      "the MSE for 376nn model is 0.000164917885003\n",
      "the MSE for 377nn model is 0.0001649290451\n",
      "the MSE for 378nn model is 0.000164938056125\n",
      "the MSE for 379nn model is 0.000164944815005\n",
      "the MSE for 380nn model is 0.000164952554089\n",
      "the MSE for 381nn model is 0.000164960009414\n",
      "the MSE for 382nn model is 0.000164968978924\n",
      "the MSE for 383nn model is 0.00016497707142\n",
      "the MSE for 384nn model is 0.000164988786729\n",
      "the MSE for 385nn model is 0.00016499819225\n",
      "the MSE for 386nn model is 0.000165007716883\n",
      "the MSE for 387nn model is 0.000165017730779\n",
      "the MSE for 388nn model is 0.000165028684777\n",
      "the MSE for 389nn model is 0.000165042508946\n",
      "the MSE for 390nn model is 0.000165053252705\n",
      "the MSE for 391nn model is 0.000165061519607\n",
      "the MSE for 392nn model is 0.00016507544612\n",
      "the MSE for 393nn model is 0.00016508676187\n",
      "the MSE for 394nn model is 0.000165096274065\n",
      "the MSE for 395nn model is 0.000165109211031\n",
      "the MSE for 396nn model is 0.000165116048063\n",
      "the MSE for 397nn model is 0.000165125769003\n",
      "the MSE for 398nn model is 0.000165132477721\n",
      "the MSE for 399nn model is 0.000165140228837\n",
      "the MSE for 400nn model is 0.000165148156946\n",
      "the MSE for 401nn model is 0.000165155043387\n",
      "the MSE for 402nn model is 0.000165165665267\n",
      "the MSE for 403nn model is 0.000165173055607\n",
      "the MSE for 404nn model is 0.000165194635661\n",
      "the MSE for 405nn model is 0.000165206720384\n",
      "the MSE for 406nn model is 0.000165215773576\n",
      "the MSE for 407nn model is 0.000165223549046\n",
      "the MSE for 408nn model is 0.000165234720425\n",
      "the MSE for 409nn model is 0.000165245594558\n",
      "the MSE for 410nn model is 0.000165252438855\n",
      "the MSE for 411nn model is 0.00016526156764\n",
      "the MSE for 412nn model is 0.000165271220198\n",
      "the MSE for 413nn model is 0.00016529399706\n",
      "the MSE for 414nn model is 0.00016530276768\n",
      "the MSE for 415nn model is 0.000165309564162\n",
      "the MSE for 416nn model is 0.000165319260606\n",
      "the MSE for 417nn model is 0.000165327283802\n",
      "the MSE for 418nn model is 0.000165337766882\n",
      "the MSE for 419nn model is 0.000165343015224\n",
      "the MSE for 420nn model is 0.000165350488346\n",
      "the MSE for 421nn model is 0.000165358752063\n",
      "the MSE for 422nn model is 0.000165371227324\n",
      "the MSE for 423nn model is 0.000165382268408\n",
      "the MSE for 424nn model is 0.00016539141677\n",
      "the MSE for 425nn model is 0.000165401095399\n",
      "the MSE for 426nn model is 0.000165413994833\n",
      "the MSE for 427nn model is 0.000165425506589\n",
      "the MSE for 428nn model is 0.000165441166767\n",
      "the MSE for 429nn model is 0.000165448073468\n",
      "the MSE for 430nn model is 0.000165452669512\n",
      "the MSE for 431nn model is 0.00016546879109\n",
      "the MSE for 432nn model is 0.000165480806046\n",
      "the MSE for 433nn model is 0.000165491043435\n",
      "the MSE for 434nn model is 0.000165500591686\n",
      "the MSE for 435nn model is 0.000165507334516\n",
      "the MSE for 436nn model is 0.000165512425151\n",
      "the MSE for 437nn model is 0.000165524313241\n",
      "the MSE for 438nn model is 0.000165538258476\n",
      "the MSE for 439nn model is 0.000165544785489\n",
      "the MSE for 440nn model is 0.000165553132633\n",
      "the MSE for 441nn model is 0.0001655643399\n",
      "the MSE for 442nn model is 0.000165575544569\n",
      "the MSE for 443nn model is 0.000165595012623\n",
      "the MSE for 444nn model is 0.00016560178527\n",
      "the MSE for 445nn model is 0.000165608457594\n",
      "the MSE for 446nn model is 0.000165619128081\n",
      "the MSE for 447nn model is 0.000165627025198\n",
      "the MSE for 448nn model is 0.000165633662577\n",
      "the MSE for 449nn model is 0.000165638653648\n",
      "the MSE for 450nn model is 0.000165647398172\n",
      "the MSE for 451nn model is 0.000165654706516\n",
      "the MSE for 452nn model is 0.000165672864829\n",
      "the MSE for 453nn model is 0.000165682940676\n",
      "the MSE for 454nn model is 0.00016568856104\n",
      "the MSE for 455nn model is 0.000165699481213\n",
      "the MSE for 456nn model is 0.000165707685755\n",
      "the MSE for 457nn model is 0.000165727794462\n",
      "the MSE for 458nn model is 0.000165735096258\n",
      "the MSE for 459nn model is 0.000165742507066\n",
      "the MSE for 460nn model is 0.000165750887556\n",
      "the MSE for 461nn model is 0.000165761192982\n",
      "the MSE for 462nn model is 0.000165767855522\n",
      "the MSE for 463nn model is 0.000165774305936\n",
      "the MSE for 464nn model is 0.000165789111657\n",
      "the MSE for 465nn model is 0.000165796026367\n",
      "the MSE for 466nn model is 0.000165801450189\n",
      "the MSE for 467nn model is 0.000165808222486\n"
     ]
    },
    {
     "ename": "KeyboardInterrupt",
     "evalue": "",
     "output_type": "error",
     "traceback": [
      "\u001b[0;31m---------------------------------------------------------------------------\u001b[0m",
      "\u001b[0;31mKeyboardInterrupt\u001b[0m                         Traceback (most recent call last)",
      "\u001b[0;32m<ipython-input-446-334145589806>\u001b[0m in \u001b[0;36m<module>\u001b[0;34m()\u001b[0m\n\u001b[1;32m      4\u001b[0m \u001b[0;32mfor\u001b[0m \u001b[0mi\u001b[0m \u001b[0;32min\u001b[0m \u001b[0mrange\u001b[0m\u001b[0;34m(\u001b[0m\u001b[0mlen\u001b[0m\u001b[0;34m(\u001b[0m\u001b[0mtr_set\u001b[0m\u001b[0;34m)\u001b[0m\u001b[0;34m-\u001b[0m\u001b[0;36m1\u001b[0m\u001b[0;34m)\u001b[0m\u001b[0;34m:\u001b[0m\u001b[0;34m\u001b[0m\u001b[0m\n\u001b[1;32m      5\u001b[0m \u001b[0;34m\u001b[0m\u001b[0m\n\u001b[0;32m----> 6\u001b[0;31m     \u001b[0mprediction_list\u001b[0m\u001b[0;34m[\u001b[0m\u001b[0mi\u001b[0m\u001b[0;34m]\u001b[0m \u001b[0;34m=\u001b[0m \u001b[0mprediction\u001b[0m\u001b[0;34m(\u001b[0m\u001b[0mtr_set\u001b[0m\u001b[0;34m,\u001b[0m \u001b[0mneighbours_list\u001b[0m\u001b[0;34m[\u001b[0m\u001b[0mi\u001b[0m\u001b[0;34m]\u001b[0m\u001b[0;34m,\u001b[0m \u001b[0mte_set\u001b[0m\u001b[0;34m)\u001b[0m\u001b[0;34m\u001b[0m\u001b[0m\n\u001b[0m\u001b[1;32m      7\u001b[0m     \u001b[0mres\u001b[0m \u001b[0;34m=\u001b[0m \u001b[0mMSE\u001b[0m\u001b[0;34m(\u001b[0m\u001b[0mprediction_list\u001b[0m\u001b[0;34m[\u001b[0m\u001b[0mi\u001b[0m\u001b[0;34m]\u001b[0m\u001b[0;34m,\u001b[0m \u001b[0mte_set\u001b[0m\u001b[0;34m)\u001b[0m\u001b[0;34m\u001b[0m\u001b[0m\n\u001b[1;32m      8\u001b[0m     \u001b[0;32mif\u001b[0m \u001b[0mmin_MSE\u001b[0m \u001b[0;34m>\u001b[0m \u001b[0mres\u001b[0m\u001b[0;34m:\u001b[0m\u001b[0;34m\u001b[0m\u001b[0m\n",
      "\u001b[0;32m<ipython-input-385-b4e30a837d01>\u001b[0m in \u001b[0;36mprediction\u001b[0;34m(training_set, knn, test_set)\u001b[0m\n\u001b[1;32m     15\u001b[0m                 \u001b[0;32mif\u001b[0m \u001b[0mc_id\u001b[0m \u001b[0;32mnot\u001b[0m \u001b[0;32min\u001b[0m \u001b[0mtraining_set\u001b[0m\u001b[0;34m[\u001b[0m\u001b[0mnei_name\u001b[0m\u001b[0;34m]\u001b[0m\u001b[0;34m:\u001b[0m\u001b[0;34m\u001b[0m\u001b[0m\n\u001b[1;32m     16\u001b[0m                     \u001b[0;32mcontinue\u001b[0m\u001b[0;34m\u001b[0m\u001b[0m\n\u001b[0;32m---> 17\u001b[0;31m                 \u001b[0;32mif\u001b[0m \u001b[0mabs\u001b[0m\u001b[0;34m(\u001b[0m\u001b[0msim_score\u001b[0m\u001b[0;34m)\u001b[0m \u001b[0;34m==\u001b[0m \u001b[0mfloat\u001b[0m\u001b[0;34m(\u001b[0m\u001b[0;34m'inf'\u001b[0m\u001b[0;34m)\u001b[0m\u001b[0;34m:\u001b[0m\u001b[0;34m\u001b[0m\u001b[0m\n\u001b[0m\u001b[1;32m     18\u001b[0m                     \u001b[0;32mbreak\u001b[0m\u001b[0;34m\u001b[0m\u001b[0m\n\u001b[1;32m     19\u001b[0m \u001b[0;34m\u001b[0m\u001b[0m\n",
      "\u001b[0;31mKeyboardInterrupt\u001b[0m: "
     ]
    }
   ],
   "source": [
    "prediction_list = [None for _ in range(len(tr_set)-1)]\n",
    "min_MSE, optimal_k = float(\"inf\"), None\n",
    "MSE_res = []\n",
    "for i in range(len(tr_set)-1):\n",
    "    \n",
    "    prediction_list[i] = prediction(tr_set, neighbours_list[i], te_set)\n",
    "    res = MSE(prediction_list[i], te_set)\n",
    "    if min_MSE > res:\n",
    "        min_MSE = res\n",
    "        optimal_k = i + 1\n",
    "    MSE_res.append(res)\n",
    "    print(\"the MSE for \" + str(i+1) + \"nn model is \" + str(res))"
   ]
  },
  {
   "cell_type": "code",
   "execution_count": 20,
   "metadata": {
    "collapsed": false
   },
   "outputs": [],
   "source": [
    "\n",
    "import heapq\n",
    "import heapq\n",
    "def recommend_dic(tr_set, pre_set):\n",
    "    hq_dic = {}\n",
    "    com_dic = {}    \n",
    "    for p_name, p_scores in tr_set.items():\n",
    "        hq_dic[p_name] = []\n",
    "        com_dic[p_name] = []\n",
    "        for c_id, score in p_scores.items():\n",
    "            heapq.heappush(hq_dic[p_name],(- score,c_id))\n",
    "        if p_name in pre_set:\n",
    "            for c_id, score in pre_set[p_name].items():\n",
    "                heapq.heappush(hq_dic[p_name],(- score,c_id))\n",
    "        \n",
    "        for i in range(20):\n",
    "            score, c_id = heapq.heappop(hq_dic[p_name])\n",
    "            score = - score\n",
    "            com_dic[p_name].append(c_id)\n",
    "    return com_dic\n",
    "def real_dic(tr_set, pre_set):\n",
    "    hq_dic = {}\n",
    "    com_dic = {}    \n",
    "    for p_name, p_scores in tr_set.items():\n",
    "        hq_dic[p_name] = []\n",
    "        com_dic[p_name] = []\n",
    "        for c_id, score in p_scores.items():\n",
    "            if score > 0:\n",
    "                heapq.heappush(hq_dic[p_name],(- score,c_id))\n",
    "        if p_name in pre_set:\n",
    "            for c_id, score in pre_set[p_name].items():\n",
    "                if score > 0 :\n",
    "                    heapq.heappush(hq_dic[p_name],(- score,c_id))\n",
    "        index  = 0\n",
    "        while i < 20 and len(hq_dic[p_name])>0:\n",
    "            score, c_id = heapq.heappop(hq_dic[p_name])\n",
    "            score = - score\n",
    "            com_dic[p_name].append(c_id)\n",
    "            index += 1\n",
    "    return com_dic\n",
    "\n",
    "\n",
    "        "
   ]
  },
  {
   "cell_type": "code",
   "execution_count": 410,
   "metadata": {
    "collapsed": false
   },
   "outputs": [],
   "source": [
    "predicted_recom = recommend_dic(tr_set, prediction_list[64])\n",
    "real_recom = real_dic(tr_set, te_set)\n",
    "res = {}\n",
    "for p_name in real_recom:\n",
    "    pre_set = set(predicted_recom[p_name])\n",
    "    rea_set = set(real_recom[p_name])\n",
    "    res[p_name] = 1.0*len(pre_set.intersection(rea_set))/len(rea_set)"
   ]
  },
  {
   "cell_type": "code",
   "execution_count": 411,
   "metadata": {
    "collapsed": false
   },
   "outputs": [
    {
     "name": "stdout",
     "output_type": "stream",
     "text": [
      "Accuracy :0.801877264406\n"
     ]
    }
   ],
   "source": [
    "print \"Accuracy :\" + str(sum(res.values())/len(res.values()))"
   ]
  },
  {
   "cell_type": "code",
   "execution_count": 447,
   "metadata": {
    "collapsed": false
   },
   "outputs": [
    {
     "data": {
      "image/png": "[encoded data removed]",
      "text/plain": [
       "<matplotlib.figure.Figure at 0x2036bc710>"
      ]
     },
     "metadata": {},
     "output_type": "display_data"
    }
   ],
   "source": [
    "import pylab as pl\n",
    "x = []\n",
    "for i in range(len(MSE_res)):\n",
    "    x.append(i+1)\n",
    "pl.plot(x, MSE_res)\n",
    "pl.title('the MSE of the models')\n",
    "pl.xlabel('the number of neighbours')\n",
    "pl.ylabel('MSE')\n",
    "pl.show()"
   ]
  },
  {
   "cell_type": "code",
   "execution_count": 451,
   "metadata": {
    "collapsed": false
   },
   "outputs": [
    {
     "data": {
      "image/png": "[encoded data removed]",
      "text/plain": [
       "<matplotlib.figure.Figure at 0x1b3850610>"
      ]
     },
     "metadata": {},
     "output_type": "display_data"
    }
   ],
   "source": [
    "\n",
    "pl.plot(x[20:], MSE_res[20:])\n",
    "pl.title('the MSE of the models')\n",
    "pl.xlabel('the number of neighbours')\n",
    "pl.ylabel('MSE')\n",
    "pl.show()"
   ]
  },
  {
   "cell_type": "code",
   "execution_count": 452,
   "metadata": {
    "collapsed": false
   },
   "outputs": [
    {
     "name": "stdout",
     "output_type": "stream",
     "text": [
      "Accuracy of 1nn = 0.734805689605\n",
      "Accuracy of 2nn = 0.747328909122\n",
      "Accuracy of 3nn = 0.7572014867\n",
      "Accuracy of 4nn = 0.764605811364\n",
      "Accuracy of 5nn = 0.769549493772\n",
      "Accuracy of 6nn = 0.773567470326\n",
      "Accuracy of 7nn = 0.779821296816\n",
      "Accuracy of 8nn = 0.781911985527\n",
      "Accuracy of 9nn = 0.783398509644\n",
      "Accuracy of 10nn = 0.786183055474\n",
      "Accuracy of 11nn = 0.788477662087\n",
      "Accuracy of 12nn = 0.790411823446\n",
      "Accuracy of 13nn = 0.79217108951\n",
      "Accuracy of 14nn = 0.79394696229\n",
      "Accuracy of 15nn = 0.795490804184\n",
      "Accuracy of 16nn = 0.794725338824\n",
      "Accuracy of 17nn = 0.796259759149\n",
      "Accuracy of 18nn = 0.79688122517\n",
      "Accuracy of 19nn = 0.796041498401\n",
      "Accuracy of 20nn = 0.797046736192\n",
      "Accuracy of 21nn = 0.797296835778\n",
      "Accuracy of 22nn = 0.799007062707\n",
      "Accuracy of 23nn = 0.799304212989\n",
      "Accuracy of 24nn = 0.799804811067\n",
      "Accuracy of 25nn = 0.800150691689\n",
      "Accuracy of 26nn = 0.80039007475\n",
      "Accuracy of 27nn = 0.800788115982\n",
      "Accuracy of 28nn = 0.80111085954\n",
      "Accuracy of 29nn = 0.80164681319\n",
      "Accuracy of 30nn = 0.802747144395\n",
      "Accuracy of 31nn = 0.803159563727\n",
      "Accuracy of 32nn = 0.804071218713\n",
      "Accuracy of 33nn = 0.803394122025\n",
      "Accuracy of 34nn = 0.804562454965\n",
      "Accuracy of 35nn = 0.804376623114\n",
      "Accuracy of 36nn = 0.804155400187\n",
      "Accuracy of 37nn = 0.803060029639\n",
      "Accuracy of 38nn = 0.802763779549\n",
      "Accuracy of 39nn = 0.802851671528\n",
      "Accuracy of 40nn = 0.803279254814\n",
      "Accuracy of 41nn = 0.803109766639\n",
      "Accuracy of 42nn = 0.802831919775\n",
      "Accuracy of 43nn = 0.802370845559\n",
      "Accuracy of 44nn = 0.801804247783\n",
      "Accuracy of 45nn = 0.801985928696\n",
      "Accuracy of 46nn = 0.801756739954\n",
      "Accuracy of 47nn = 0.800822518457\n",
      "Accuracy of 48nn = 0.800561296783\n",
      "Accuracy of 49nn = 0.800125777668\n",
      "Accuracy of 50nn = 0.800135873786\n",
      "Accuracy of 51nn = 0.80027737838\n",
      "Accuracy of 52nn = 0.800397741815\n",
      "Accuracy of 53nn = 0.800442360114\n",
      "Accuracy of 54nn = 0.800713734472\n",
      "Accuracy of 55nn = 0.800790972748\n",
      "Accuracy of 56nn = 0.800743644847\n",
      "Accuracy of 57nn = 0.801192962152\n",
      "Accuracy of 58nn = 0.801011539752\n",
      "Accuracy of 59nn = 0.801229620011\n",
      "Accuracy of 60nn = 0.801510320885\n",
      "Accuracy of 61nn = 0.801491693497\n",
      "Accuracy of 62nn = 0.80188337926\n",
      "Accuracy of 63nn = 0.801269615695\n",
      "Accuracy of 64nn = 0.802230609446\n",
      "Accuracy of 65nn = 0.801877264406\n",
      "Accuracy of 66nn = 0.802051409388\n",
      "Accuracy of 67nn = 0.801566146735\n",
      "Accuracy of 68nn = 0.802044929109\n",
      "Accuracy of 69nn = 0.802375482561\n",
      "Accuracy of 70nn = 0.802601953339\n",
      "Accuracy of 71nn = 0.802554230811\n",
      "Accuracy of 72nn = 0.802424588442\n",
      "Accuracy of 73nn = 0.802247192517\n",
      "Accuracy of 74nn = 0.801513996123\n",
      "Accuracy of 75nn = 0.801472985624\n",
      "Accuracy of 76nn = 0.801222835408\n",
      "Accuracy of 77nn = 0.801396951083\n",
      "Accuracy of 78nn = 0.801525218499\n",
      "Accuracy of 79nn = 0.801840272585\n",
      "Accuracy of 80nn = 0.801279772819\n",
      "Accuracy of 81nn = 0.801292723503\n",
      "Accuracy of 82nn = 0.80131069547\n",
      "Accuracy of 83nn = 0.801579945191\n",
      "Accuracy of 84nn = 0.801439266753\n",
      "Accuracy of 85nn = 0.801603509498\n",
      "Accuracy of 86nn = 0.801635181957\n",
      "Accuracy of 87nn = 0.801437199913\n",
      "Accuracy of 88nn = 0.801524117687\n",
      "Accuracy of 89nn = 0.801624229339\n",
      "Accuracy of 90nn = 0.801416633938\n",
      "Accuracy of 91nn = 0.801472265571\n",
      "Accuracy of 92nn = 0.801632447014\n",
      "Accuracy of 93nn = 0.801586235662\n",
      "Accuracy of 94nn = 0.801559481194\n",
      "Accuracy of 95nn = 0.801758963277\n",
      "Accuracy of 96nn = 0.801727446711\n",
      "Accuracy of 97nn = 0.801502096807\n",
      "Accuracy of 98nn = 0.801444073139\n",
      "Accuracy of 99nn = 0.801290477712\n",
      "Accuracy of 100nn = 0.801383350509\n",
      "Accuracy of 101nn = 0.801202386911\n",
      "Accuracy of 102nn = 0.801166306745\n",
      "Accuracy of 103nn = 0.801304174392\n",
      "Accuracy of 104nn = 0.801330080655\n",
      "Accuracy of 105nn = 0.801231655458\n",
      "Accuracy of 106nn = 0.801264769525\n",
      "Accuracy of 107nn = 0.800858836445\n",
      "Accuracy of 108nn = 0.800201299486\n",
      "Accuracy of 109nn = 0.799970774633\n",
      "Accuracy of 110nn = 0.800383115271\n",
      "Accuracy of 111nn = 0.800537003224\n",
      "Accuracy of 112nn = 0.80022088749\n",
      "Accuracy of 113nn = 0.800342699187\n",
      "Accuracy of 114nn = 0.800151904606\n",
      "Accuracy of 115nn = 0.799799552897\n",
      "Accuracy of 116nn = 0.799803080086\n",
      "Accuracy of 117nn = 0.799920561179\n",
      "Accuracy of 118nn = 0.799924158022\n",
      "Accuracy of 119nn = 0.799735984112\n",
      "Accuracy of 120nn = 0.79962353597\n",
      "Accuracy of 121nn = 0.800094417913\n",
      "Accuracy of 122nn = 0.799882038859\n",
      "Accuracy of 123nn = 0.79983114365\n",
      "Accuracy of 124nn = 0.799590463708\n",
      "Accuracy of 125nn = 0.799677668141\n",
      "Accuracy of 126nn = 0.799471828579\n",
      "Accuracy of 127nn = 0.798975220145\n",
      "Accuracy of 128nn = 0.798950566028\n",
      "Accuracy of 129nn = 0.798634367887\n",
      "Accuracy of 130nn = 0.798405807071\n",
      "Accuracy of 131nn = 0.798039477164\n",
      "Accuracy of 132nn = 0.797498446288\n",
      "Accuracy of 133nn = 0.797387522654\n",
      "Accuracy of 134nn = 0.797041655033\n",
      "Accuracy of 135nn = 0.796972254912\n",
      "Accuracy of 136nn = 0.796854990158\n",
      "Accuracy of 137nn = 0.797259627079\n",
      "Accuracy of 138nn = 0.797288617023\n",
      "Accuracy of 139nn = 0.797480693928\n",
      "Accuracy of 140nn = 0.797543104693\n",
      "Accuracy of 141nn = 0.797533790217\n",
      "Accuracy of 142nn = 0.797471639095\n",
      "Accuracy of 143nn = 0.797460029969\n",
      "Accuracy of 144nn = 0.797385755052\n",
      "Accuracy of 145nn = 0.797741179374\n",
      "Accuracy of 146nn = 0.797957175285\n",
      "Accuracy of 147nn = 0.79802948327\n",
      "Accuracy of 148nn = 0.797806228891\n",
      "Accuracy of 149nn = 0.798257879215\n",
      "Accuracy of 150nn = 0.798315073252\n",
      "Accuracy of 151nn = 0.798243988388\n",
      "Accuracy of 152nn = 0.798194775789\n",
      "Accuracy of 153nn = 0.798293200986\n",
      "Accuracy of 154nn = 0.79792387861\n",
      "Accuracy of 155nn = 0.797672617501\n",
      "Accuracy of 156nn = 0.797945803136\n",
      "Accuracy of 157nn = 0.797707459768\n",
      "Accuracy of 158nn = 0.797543417773\n",
      "Accuracy of 159nn = 0.797641823634\n",
      "Accuracy of 160nn = 0.797627242124\n",
      "Accuracy of 161nn = 0.797638789393\n",
      "Accuracy of 162nn = 0.797660241039\n",
      "Accuracy of 163nn = 0.797687055596\n",
      "Accuracy of 164nn = 0.797525004774\n",
      "Accuracy of 165nn = 0.797525004774\n",
      "Accuracy of 166nn = 0.797432726544\n",
      "Accuracy of 167nn = 0.797294657865\n",
      "Accuracy of 168nn = 0.797206620329\n",
      "Accuracy of 169nn = 0.797032865321\n",
      "Accuracy of 170nn = 0.796967397762\n",
      "Accuracy of 171nn = 0.796842923884\n",
      "Accuracy of 172nn = 0.796941349081\n",
      "Accuracy of 173nn = 0.796996222284\n",
      "Accuracy of 174nn = 0.797127912239\n",
      "Accuracy of 175nn = 0.796974230791\n",
      "Accuracy of 176nn = 0.796974230791\n",
      "Accuracy of 177nn = 0.796656579375\n",
      "Accuracy of 178nn = 0.796860111954\n",
      "Accuracy of 179nn = 0.796867554014\n",
      "Accuracy of 180nn = 0.796904062608\n",
      "Accuracy of 181nn = 0.796816774012\n",
      "Accuracy of 182nn = 0.796379472589\n",
      "Accuracy of 183nn = 0.796101742882\n",
      "Accuracy of 184nn = 0.796165996896\n",
      "Accuracy of 185nn = 0.796072449483\n",
      "Accuracy of 186nn = 0.796113008242\n",
      "Accuracy of 187nn = 0.796484248149\n",
      "Accuracy of 188nn = 0.796308626719\n",
      "Accuracy of 189nn = 0.796250729544\n",
      "Accuracy of 190nn = 0.796265030641\n",
      "Accuracy of 191nn = 0.795805336323\n",
      "Accuracy of 192nn = 0.79553583876\n",
      "Accuracy of 193nn = 0.795396877397\n",
      "Accuracy of 194nn = 0.795460564289\n",
      "Accuracy of 195nn = 0.79547630992\n",
      "Accuracy of 196nn = 0.795297778487\n",
      "Accuracy of 197nn = 0.79528239955\n",
      "Accuracy of 198nn = 0.795329424363\n",
      "Accuracy of 199nn = 0.795206392867\n",
      "Accuracy of 200nn = 0.795272009665\n",
      "Accuracy of 201nn = 0.795182532213\n",
      "Accuracy of 202nn = 0.79526701052\n",
      "Accuracy of 203nn = 0.795244747678\n",
      "Accuracy of 204nn = 0.795353748058\n",
      "Accuracy of 205nn = 0.795213140634\n",
      "Accuracy of 206nn = 0.7953760109\n",
      "Accuracy of 207nn = 0.796189229937\n",
      "Accuracy of 208nn = 0.795970724497\n",
      "Accuracy of 209nn = 0.795920129668\n",
      "Accuracy of 210nn = 0.795920129668\n",
      "Accuracy of 211nn = 0.796141761172\n",
      "Accuracy of 212nn = 0.796136113478\n",
      "Accuracy of 213nn = 0.79589023876\n",
      "Accuracy of 214nn = 0.795904335783\n",
      "Accuracy of 215nn = 0.796839615249\n",
      "Accuracy of 216nn = 0.796865166341\n",
      "Accuracy of 217nn = 0.796986481118\n",
      "Accuracy of 218nn = 0.797241228687\n",
      "Accuracy of 219nn = 0.797705371036\n",
      "Accuracy of 220nn = 0.797392347101\n",
      "Accuracy of 221nn = 0.797375555965\n",
      "Accuracy of 222nn = 0.797670831556\n",
      "Accuracy of 223nn = 0.797763759445\n",
      "Accuracy of 224nn = 0.797716673317\n",
      "Accuracy of 225nn = 0.797603360465\n",
      "Accuracy of 226nn = 0.797609436094\n",
      "Accuracy of 227nn = 0.797403694349\n",
      "Accuracy of 228nn = 0.797239652354\n",
      "Accuracy of 229nn = 0.797359784118\n",
      "Accuracy of 230nn = 0.797359784118\n",
      "Accuracy of 231nn = 0.797408996716\n",
      "Accuracy of 232nn = 0.797809493356\n",
      "Accuracy of 233nn = 0.798333485786\n",
      "Accuracy of 234nn = 0.798409197476\n",
      "Accuracy of 235nn = 0.798433350989\n",
      "Accuracy of 236nn = 0.79878486955\n",
      "Accuracy of 237nn = 0.79875963232\n",
      "Accuracy of 238nn = 0.798864126021\n",
      "Accuracy of 239nn = 0.798839312946\n",
      "Accuracy of 240nn = 0.798839312946\n",
      "Accuracy of 241nn = 0.799003837417\n",
      "Accuracy of 242nn = 0.79881203447\n",
      "Accuracy of 243nn = 0.798750063049\n",
      "Accuracy of 244nn = 0.798816310778\n",
      "Accuracy of 245nn = 0.798871982601\n",
      "Accuracy of 246nn = 0.798866158625\n",
      "Accuracy of 247nn = 0.79896366486\n",
      "Accuracy of 248nn = 0.798820513615\n",
      "Accuracy of 249nn = 0.798832587399\n",
      "Accuracy of 250nn = 0.79879397966\n",
      "Accuracy of 251nn = 0.798851876835\n",
      "Accuracy of 252nn = 0.799014760886\n",
      "Accuracy of 253nn = 0.799147556787\n",
      "Accuracy of 254nn = 0.798927942159\n",
      "Accuracy of 255nn = 0.798697459989\n",
      "Accuracy of 256nn = 0.798512068051\n",
      "Accuracy of 257nn = 0.798398062032\n",
      "Accuracy of 258nn = 0.798423025916\n",
      "Accuracy of 259nn = 0.79827888873\n",
      "Accuracy of 260nn = 0.798377313927\n",
      "Accuracy of 261nn = 0.798234150004\n",
      "Accuracy of 262nn = 0.798210715434\n",
      "Accuracy of 263nn = 0.798391161628\n",
      "Accuracy of 264nn = 0.79853421903\n",
      "Accuracy of 265nn = 0.798351038802\n",
      "Accuracy of 266nn = 0.798440516254\n",
      "Accuracy of 267nn = 0.798362280841\n",
      "Accuracy of 268nn = 0.798228064663\n",
      "Accuracy of 269nn = 0.798291300207\n",
      "Accuracy of 270nn = 0.797769520477\n",
      "Accuracy of 271nn = 0.797599271488\n",
      "Accuracy of 272nn = 0.797842841441\n",
      "Accuracy of 273nn = 0.797931171746\n",
      "Accuracy of 274nn = 0.797790564322\n",
      "Accuracy of 275nn = 0.797790564322\n",
      "Accuracy of 276nn = 0.797882680211\n",
      "Accuracy of 277nn = 0.79786173868\n",
      "Accuracy of 278nn = 0.797947634891\n",
      "Accuracy of 279nn = 0.798238614144\n",
      "Accuracy of 280nn = 0.79805023826\n",
      "Accuracy of 281nn = 0.79805023826\n",
      "Accuracy of 282nn = 0.797819448143\n",
      "Accuracy of 283nn = 0.797819448143\n",
      "Accuracy of 284nn = 0.797900257007\n",
      "Accuracy of 285nn = 0.797433368253\n",
      "Accuracy of 286nn = 0.797449450222\n",
      "Accuracy of 287nn = 0.797401565752\n",
      "Accuracy of 288nn = 0.797109935539\n",
      "Accuracy of 289nn = 0.797122718032\n",
      "Accuracy of 290nn = 0.7971412347\n",
      "Accuracy of 291nn = 0.797326505659\n",
      "Accuracy of 292nn = 0.797290051882\n",
      "Accuracy of 293nn = 0.797263450477\n",
      "Accuracy of 294nn = 0.79707242406\n",
      "Accuracy of 295nn = 0.79720964649\n",
      "Accuracy of 296nn = 0.797203337183\n",
      "Accuracy of 297nn = 0.797203337183\n",
      "Accuracy of 298nn = 0.797239475147\n",
      "Accuracy of 299nn = 0.796917700465\n",
      "Accuracy of 300nn = 0.796758531005\n",
      "Accuracy of 301nn = 0.796758531005\n",
      "Accuracy of 302nn = 0.797138417729\n",
      "Accuracy of 303nn = 0.797174871506\n",
      "Accuracy of 304nn = 0.79692261825\n",
      "Accuracy of 305nn = 0.797185363479\n",
      "Accuracy of 306nn = 0.797185363479\n",
      "Accuracy of 307nn = 0.797288836122\n",
      "Accuracy of 308nn = 0.797370857119\n",
      "Accuracy of 309nn = 0.797300553407\n",
      "Accuracy of 310nn = 0.797275505512\n",
      "Accuracy of 311nn = 0.797275505512\n",
      "Accuracy of 312nn = 0.79738096108\n",
      "Accuracy of 313nn = 0.796888835096\n",
      "Accuracy of 314nn = 0.796495134308\n",
      "Accuracy of 315nn = 0.796635741732\n",
      "Accuracy of 316nn = 0.796791728094\n",
      "Accuracy of 317nn = 0.79689835539\n",
      "Accuracy of 318nn = 0.796413300182\n",
      "Accuracy of 319nn = 0.796422949711\n",
      "Accuracy of 320nn = 0.796259932978\n",
      "Accuracy of 321nn = 0.796212262655\n",
      "Accuracy of 322nn = 0.79637630465\n",
      "Accuracy of 323nn = 0.79643177452\n",
      "Accuracy of 324nn = 0.796398966121\n",
      "Accuracy of 325nn = 0.796398966121\n",
      "Accuracy of 326nn = 0.79642294149\n",
      "Accuracy of 327nn = 0.796453159752\n",
      "Accuracy of 328nn = 0.796474101283\n",
      "Accuracy of 329nn = 0.79644016156\n",
      "Accuracy of 330nn = 0.796511957128\n",
      "Accuracy of 331nn = 0.796422479676\n",
      "Accuracy of 332nn = 0.796603951133\n",
      "Accuracy of 333nn = 0.796646744697\n",
      "Accuracy of 334nn = 0.796657443088\n",
      "Accuracy of 335nn = 0.796985527077\n",
      "Accuracy of 336nn = 0.796959220228\n",
      "Accuracy of 337nn = 0.797035821158\n",
      "Accuracy of 338nn = 0.797045806323\n",
      "Accuracy of 339nn = 0.797052024993\n",
      "Accuracy of 340nn = 0.796994468658\n",
      "Accuracy of 341nn = 0.797063281017\n",
      "Accuracy of 342nn = 0.79685821904\n",
      "Accuracy of 343nn = 0.796803538375\n",
      "Accuracy of 344nn = 0.796670451542\n",
      "Accuracy of 345nn = 0.796651865265\n",
      "Accuracy of 346nn = 0.796901895926\n",
      "Accuracy of 347nn = 0.796901895926\n",
      "Accuracy of 348nn = 0.797134288752\n",
      "Accuracy of 349nn = 0.797072559165\n",
      "Accuracy of 350nn = 0.797061860774\n",
      "Accuracy of 351nn = 0.796702530691\n",
      "Accuracy of 352nn = 0.796772834403\n",
      "Accuracy of 353nn = 0.796772834403\n",
      "Accuracy of 354nn = 0.796772834403\n",
      "Accuracy of 355nn = 0.7968384512\n",
      "Accuracy of 356nn = 0.796872390923\n",
      "Accuracy of 357nn = 0.797036432918\n",
      "Accuracy of 358nn = 0.797161247479\n",
      "Accuracy of 359nn = 0.797007260821\n",
      "Accuracy of 360nn = 0.796668314147\n",
      "Accuracy of 361nn = 0.796426067423\n",
      "Accuracy of 362nn = 0.796420568809\n",
      "Accuracy of 363nn = 0.796365059885\n",
      "Accuracy of 364nn = 0.796365059885\n",
      "Accuracy of 365nn = 0.796226346164\n",
      "Accuracy of 366nn = 0.795908845529\n",
      "Accuracy of 367nn = 0.795968255332\n",
      "Accuracy of 368nn = 0.795983634269\n",
      "Accuracy of 369nn = 0.795983634269\n",
      "Accuracy of 370nn = 0.796094841959\n",
      "Accuracy of 371nn = 0.796012820962\n",
      "Accuracy of 372nn = 0.796042646779\n",
      "Accuracy of 373nn = 0.795904236346\n",
      "Accuracy of 374nn = 0.795756598551\n",
      "Accuracy of 375nn = 0.79564369906\n",
      "Accuracy of 376nn = 0.795812470193\n",
      "Accuracy of 377nn = 0.796183409173\n",
      "Accuracy of 378nn = 0.796324016597\n",
      "Accuracy of 379nn = 0.796829093265\n",
      "Accuracy of 380nn = 0.796933017076\n",
      "Accuracy of 381nn = 0.796962906353\n",
      "Accuracy of 382nn = 0.797072267682\n",
      "Accuracy of 383nn = 0.797334734874\n",
      "Accuracy of 384nn = 0.797334734874\n",
      "Accuracy of 385nn = 0.797394853058\n",
      "Accuracy of 386nn = 0.797424695938\n",
      "Accuracy of 387nn = 0.797195037145\n",
      "Accuracy of 388nn = 0.797195037145\n",
      "Accuracy of 389nn = 0.797216433927\n",
      "Accuracy of 390nn = 0.797216433927\n",
      "Accuracy of 391nn = 0.797183625528\n",
      "Accuracy of 392nn = 0.79773726726\n",
      "Accuracy of 393nn = 0.79773726726\n",
      "Accuracy of 394nn = 0.798229393245\n",
      "Accuracy of 395nn = 0.798348459394\n",
      "Accuracy of 396nn = 0.79801487679\n",
      "Accuracy of 397nn = 0.798008271072\n",
      "Accuracy of 398nn = 0.79807388787\n",
      "Accuracy of 399nn = 0.798128260869\n",
      "Accuracy of 400nn = 0.798156382353\n",
      "Accuracy of 401nn = 0.798636928903\n",
      "Accuracy of 402nn = 0.798669737302\n",
      "Accuracy of 403nn = 0.798756266958\n",
      "Accuracy of 404nn = 0.798646905629\n",
      "Accuracy of 405nn = 0.798318821639\n",
      "Accuracy of 406nn = 0.79830241744\n",
      "Accuracy of 407nn = 0.798269609041\n",
      "Accuracy of 408nn = 0.798269609041\n",
      "Accuracy of 409nn = 0.798426079866\n",
      "Accuracy of 410nn = 0.798097995877\n",
      "Accuracy of 411nn = 0.798097995877\n",
      "Accuracy of 412nn = 0.797758194602\n",
      "Accuracy of 413nn = 0.79779362633\n",
      "Accuracy of 414nn = 0.797817207367\n",
      "Accuracy of 415nn = 0.797822705981\n",
      "Accuracy of 416nn = 0.797628445724\n",
      "Accuracy of 417nn = 0.797628445724\n",
      "Accuracy of 418nn = 0.797486275996\n",
      "Accuracy of 419nn = 0.797486275996\n",
      "Accuracy of 420nn = 0.797486275996\n",
      "Accuracy of 421nn = 0.79750891571\n",
      "Accuracy of 422nn = 0.79750891571\n",
      "Accuracy of 423nn = 0.797538741527\n",
      "Accuracy of 424nn = 0.797579752025\n",
      "Accuracy of 425nn = 0.797579752025\n",
      "Accuracy of 426nn = 0.797579752025\n",
      "Accuracy of 427nn = 0.797579752025\n",
      "Accuracy of 428nn = 0.797595130963\n",
      "Accuracy of 429nn = 0.797636235307\n",
      "Accuracy of 430nn = 0.797636235307\n",
      "Accuracy of 431nn = 0.797677245805\n",
      "Accuracy of 432nn = 0.797185119821\n",
      "Accuracy of 433nn = 0.797213294067\n",
      "Accuracy of 434nn = 0.797236728638\n",
      "Accuracy of 435nn = 0.797166424926\n",
      "Accuracy of 436nn = 0.797032208749\n",
      "Accuracy of 437nn = 0.797353254919\n",
      "Accuracy of 438nn = 0.797566701375\n",
      "Accuracy of 439nn = 0.797222213186\n",
      "Accuracy of 440nn = 0.796730087201\n",
      "Accuracy of 441nn = 0.796669055243\n",
      "Accuracy of 442nn = 0.796427466124\n",
      "Accuracy of 443nn = 0.796627961895\n",
      "Accuracy of 444nn = 0.796645391357\n",
      "Accuracy of 445nn = 0.79647820932\n",
      "Accuracy of 446nn = 0.796474743644\n",
      "Accuracy of 447nn = 0.795990074114\n",
      "Accuracy of 448nn = 0.796015311344\n",
      "Accuracy of 449nn = 0.796015311344\n",
      "Accuracy of 450nn = 0.795687227355\n",
      "Accuracy of 451nn = 0.79602702863\n",
      "Accuracy of 452nn = 0.795544126891\n",
      "Accuracy of 453nn = 0.795555844177\n",
      "Accuracy of 454nn = 0.795621460975\n",
      "Accuracy of 455nn = 0.795916736565\n",
      "Accuracy of 456nn = 0.795885978691\n",
      "Accuracy of 457nn = 0.795994601093\n",
      "Accuracy of 458nn = 0.795994601093\n",
      "Accuracy of 459nn = 0.79585594655\n",
      "Accuracy of 460nn = 0.795880273232\n",
      "Accuracy of 461nn = 0.795671705553\n",
      "Accuracy of 462nn = 0.795671705553\n",
      "Accuracy of 463nn = 0.795671705553\n",
      "Accuracy of 464nn = 0.795683422838\n",
      "Accuracy of 465nn = 0.795698801775\n",
      "Accuracy of 466nn = 0.795698801775\n",
      "Accuracy of 467nn = 0.796026885765\n"
     ]
    }
   ],
   "source": [
    "\n",
    "acc = []\n",
    "for i in range(len(x)):\n",
    "    \n",
    "    predicted_recom = recommend_dic(tr_set, prediction_list[i])\n",
    "    res = {}\n",
    "    for p_name in real_recom:\n",
    "        pre_set = set(predicted_recom[p_name])\n",
    "        rea_set = set(real_recom[p_name])\n",
    "        res[p_name] = 1.0*len(pre_set.intersection(rea_set))/len(rea_set)\n",
    "    acc.append(sum(res.values())/len(res.values()))\n",
    "    print \"Accuracy of \" +str(i+1) + \"nn = \" + str(acc[-1])\n",
    "    "
   ]
  },
  {
   "cell_type": "code",
   "execution_count": 453,
   "metadata": {
    "collapsed": false
   },
   "outputs": [
    {
     "data": {
      "image/png": "[encoded data removed]",
      "text/plain": [
       "<matplotlib.figure.Figure at 0x205f46690>"
      ]
     },
     "metadata": {},
     "output_type": "display_data"
    }
   ],
   "source": [
    "\n",
    "pl.plot(x, acc)\n",
    "pl.title('the Accuracy of the models')\n",
    "pl.xlabel('the number of neighbours')\n",
    "pl.ylabel('Accuracy')\n",
    "pl.show()"
   ]
  },
  {
   "cell_type": "code",
   "execution_count": 454,
   "metadata": {
    "collapsed": false
   },
   "outputs": [
    {
     "data": {
      "image/png": "[encoded data removed]",
      "text/plain": [
       "<matplotlib.figure.Figure at 0x205f6e290>"
      ]
     },
     "metadata": {},
     "output_type": "display_data"
    }
   ],
   "source": [
    "pl.plot(x[20:], acc[20:])\n",
    "pl.title('the Accuracy of the models')\n",
    "pl.xlabel('the number of neighbours')\n",
    "pl.ylabel('Accuracy')\n",
    "pl.show()"
   ]
  },
  {
   "cell_type": "code",
   "execution_count": 455,
   "metadata": {
    "collapsed": false
   },
   "outputs": [
    {
     "name": "stdout",
     "output_type": "stream",
     "text": [
      "when k = 34, the model reach the highest accuracy, the highest accuracy is 0.804562454965\n"
     ]
    }
   ],
   "source": [
    "print \"when k = \" + str(acc.index(max(acc))+1) + \", the model reach the highest accuracy, the highest accuracy is \" + str(max(acc))"
   ]
  },
  {
   "cell_type": "code",
   "execution_count": 21,
   "metadata": {
    "collapsed": false
   },
   "outputs": [
    {
     "name": "stdout",
     "output_type": "stream",
     "text": [
      "dividing sets finished 0.0%\n",
      "dividing sets finished 5.01657476302%\n",
      "dividing sets finished 10.033149526%\n",
      "dividing sets finished 15.0497242891%\n",
      "dividing sets finished 20.0662990521%\n",
      "dividing sets finished 25.0828738151%\n",
      "dividing sets finished 30.0994485781%\n",
      "dividing sets finished 35.1160233411%\n",
      "dividing sets finished 40.1325981041%\n",
      "dividing sets finished 45.1491728672%\n",
      "dividing sets finished 50.1657476302%\n",
      "dividing sets finished 55.1823223932%\n",
      "dividing sets finished 60.1988971562%\n",
      "dividing sets finished 65.2154719192%\n",
      "dividing sets finished 70.2320466822%\n",
      "dividing sets finished 75.2486214453%\n",
      "dividing sets finished 80.2651962083%\n",
      "dividing sets finished 85.2817709713%\n",
      "dividing sets finished 90.2983457343%\n",
      "dividing sets finished 95.3149204973%\n",
      "number of data in training set: 1106683\n",
      "number of data in test set:886709\n"
     ]
    }
   ],
   "source": [
    "tr_set55, te_set55 = find_sets(df,0.45)"
   ]
  },
  {
   "cell_type": "code",
   "execution_count": 22,
   "metadata": {
    "collapsed": false
   },
   "outputs": [
    {
     "name": "stdout",
     "output_type": "stream",
     "text": [
      "dividing sets finished 0.0%\n",
      "dividing sets finished 5.01657476302%\n",
      "dividing sets finished 10.033149526%\n",
      "dividing sets finished 15.0497242891%\n",
      "dividing sets finished 20.0662990521%\n",
      "dividing sets finished 25.0828738151%\n",
      "dividing sets finished 30.0994485781%\n",
      "dividing sets finished 35.1160233411%\n",
      "dividing sets finished 40.1325981041%\n",
      "dividing sets finished 45.1491728672%\n",
      "dividing sets finished 50.1657476302%\n",
      "dividing sets finished 55.1823223932%\n",
      "dividing sets finished 60.1988971562%\n",
      "dividing sets finished 65.2154719192%\n",
      "dividing sets finished 70.2320466822%\n",
      "dividing sets finished 75.2486214453%\n",
      "dividing sets finished 80.2651962083%\n",
      "dividing sets finished 85.2817709713%\n",
      "dividing sets finished 90.2983457343%\n",
      "dividing sets finished 95.3149204973%\n",
      "number of data in training set: 1205179\n",
      "number of data in test set:788213\n"
     ]
    }
   ],
   "source": [
    "tr_set60, te_set60 = find_sets(df,0.40)"
   ]
  },
  {
   "cell_type": "code",
   "execution_count": 23,
   "metadata": {
    "collapsed": false
   },
   "outputs": [
    {
     "name": "stdout",
     "output_type": "stream",
     "text": [
      "dividing sets finished 0.0%\n",
      "dividing sets finished 5.01657476302%\n",
      "dividing sets finished 10.033149526%\n",
      "dividing sets finished 15.0497242891%\n",
      "dividing sets finished 20.0662990521%\n",
      "dividing sets finished 25.0828738151%\n",
      "dividing sets finished 30.0994485781%\n",
      "dividing sets finished 35.1160233411%\n",
      "dividing sets finished 40.1325981041%\n",
      "dividing sets finished 45.1491728672%\n",
      "dividing sets finished 50.1657476302%\n",
      "dividing sets finished 55.1823223932%\n",
      "dividing sets finished 60.1988971562%\n",
      "dividing sets finished 65.2154719192%\n",
      "dividing sets finished 70.2320466822%\n",
      "dividing sets finished 75.2486214453%\n",
      "dividing sets finished 80.2651962083%\n",
      "dividing sets finished 85.2817709713%\n",
      "dividing sets finished 90.2983457343%\n",
      "dividing sets finished 95.3149204973%\n",
      "number of data in training set: 1305664\n",
      "number of data in test set:687728\n"
     ]
    }
   ],
   "source": [
    "tr_set65, te_set65 = find_sets(df,0.35)"
   ]
  },
  {
   "cell_type": "code",
   "execution_count": 24,
   "metadata": {
    "collapsed": false
   },
   "outputs": [
    {
     "name": "stdout",
     "output_type": "stream",
     "text": [
      "dividing sets finished 0.0%\n",
      "dividing sets finished 5.01657476302%\n",
      "dividing sets finished 10.033149526%\n",
      "dividing sets finished 15.0497242891%\n",
      "dividing sets finished 20.0662990521%\n",
      "dividing sets finished 25.0828738151%\n",
      "dividing sets finished 30.0994485781%\n",
      "dividing sets finished 35.1160233411%\n",
      "dividing sets finished 40.1325981041%\n",
      "dividing sets finished 45.1491728672%\n",
      "dividing sets finished 50.1657476302%\n",
      "dividing sets finished 55.1823223932%\n",
      "dividing sets finished 60.1988971562%\n",
      "dividing sets finished 65.2154719192%\n",
      "dividing sets finished 70.2320466822%\n",
      "dividing sets finished 75.2486214453%\n",
      "dividing sets finished 80.2651962083%\n",
      "dividing sets finished 85.2817709713%\n",
      "dividing sets finished 90.2983457343%\n",
      "dividing sets finished 95.3149204973%\n",
      "number of data in training set: 1405869\n",
      "number of data in test set:587523\n"
     ]
    }
   ],
   "source": [
    "tr_set70, te_set70 = find_sets(df,0.30)"
   ]
  },
  {
   "cell_type": "code",
   "execution_count": 31,
   "metadata": {
    "collapsed": false
   },
   "outputs": [
    {
     "name": "stdout",
     "output_type": "stream",
     "text": [
      "dividing sets finished 0.0%\n",
      "dividing sets finished 5.01657476302%\n",
      "dividing sets finished 10.033149526%\n",
      "dividing sets finished 15.0497242891%\n",
      "dividing sets finished 20.0662990521%\n",
      "dividing sets finished 25.0828738151%\n",
      "dividing sets finished 30.0994485781%\n",
      "dividing sets finished 35.1160233411%\n",
      "dividing sets finished 40.1325981041%\n",
      "dividing sets finished 45.1491728672%\n",
      "dividing sets finished 50.1657476302%\n",
      "dividing sets finished 55.1823223932%\n",
      "dividing sets finished 60.1988971562%\n",
      "dividing sets finished 65.2154719192%\n",
      "dividing sets finished 70.2320466822%\n",
      "dividing sets finished 75.2486214453%\n",
      "dividing sets finished 80.2651962083%\n",
      "dividing sets finished 85.2817709713%\n",
      "dividing sets finished 90.2983457343%\n",
      "dividing sets finished 95.3149204973%\n",
      "number of data in training set: 1008707\n",
      "number of data in test set:984685\n"
     ]
    }
   ],
   "source": [
    "tr_set50, te_set50 = find_sets(df,0.50)"
   ]
  },
  {
   "cell_type": "code",
   "execution_count": 26,
   "metadata": {
    "collapsed": false
   },
   "outputs": [
    {
     "name": "stdout",
     "output_type": "stream",
     "text": [
      "dividing sets finished 0.0%\n",
      "dividing sets finished 5.01657476302%\n",
      "dividing sets finished 10.033149526%\n",
      "dividing sets finished 15.0497242891%\n",
      "dividing sets finished 20.0662990521%\n",
      "dividing sets finished 25.0828738151%\n",
      "dividing sets finished 30.0994485781%\n",
      "dividing sets finished 35.1160233411%\n",
      "dividing sets finished 40.1325981041%\n",
      "dividing sets finished 45.1491728672%\n",
      "dividing sets finished 50.1657476302%\n",
      "dividing sets finished 55.1823223932%\n",
      "dividing sets finished 60.1988971562%\n",
      "dividing sets finished 65.2154719192%\n",
      "dividing sets finished 70.2320466822%\n",
      "dividing sets finished 75.2486214453%\n",
      "dividing sets finished 80.2651962083%\n",
      "dividing sets finished 85.2817709713%\n",
      "dividing sets finished 90.2983457343%\n",
      "dividing sets finished 95.3149204973%\n",
      "number of data in training set: 1505381\n",
      "number of data in test set:488011\n"
     ]
    }
   ],
   "source": [
    "tr_set75, te_set75 = find_sets(df,0.25)"
   ]
  },
  {
   "cell_type": "code",
   "execution_count": 32,
   "metadata": {
    "collapsed": false
   },
   "outputs": [
    {
     "name": "stdout",
     "output_type": "stream",
     "text": [
      "dividing sets finished 0.0%\n",
      "dividing sets finished 5.01657476302%\n",
      "dividing sets finished 10.033149526%\n",
      "dividing sets finished 15.0497242891%\n",
      "dividing sets finished 20.0662990521%\n",
      "dividing sets finished 25.0828738151%\n",
      "dividing sets finished 30.0994485781%\n",
      "dividing sets finished 35.1160233411%\n",
      "dividing sets finished 40.1325981041%\n",
      "dividing sets finished 45.1491728672%\n",
      "dividing sets finished 50.1657476302%\n",
      "dividing sets finished 55.1823223932%\n",
      "dividing sets finished 60.1988971562%\n",
      "dividing sets finished 65.2154719192%\n",
      "dividing sets finished 70.2320466822%\n",
      "dividing sets finished 75.2486214453%\n",
      "dividing sets finished 80.2651962083%\n",
      "dividing sets finished 85.2817709713%\n",
      "dividing sets finished 90.2983457343%\n",
      "dividing sets finished 95.3149204973%\n",
      "number of data in training set: 1604018\n",
      "number of data in test set:389374\n"
     ]
    }
   ],
   "source": [
    "tr_set80, te_set80 = find_sets(df,0.20)"
   ]
  },
  {
   "cell_type": "code",
   "execution_count": 33,
   "metadata": {
    "collapsed": false
   },
   "outputs": [
    {
     "name": "stdout",
     "output_type": "stream",
     "text": [
      "dividing sets finished 0.0%\n",
      "dividing sets finished 5.01657476302%\n",
      "dividing sets finished 10.033149526%\n",
      "dividing sets finished 15.0497242891%\n",
      "dividing sets finished 20.0662990521%\n",
      "dividing sets finished 25.0828738151%\n",
      "dividing sets finished 30.0994485781%\n",
      "dividing sets finished 35.1160233411%\n",
      "dividing sets finished 40.1325981041%\n",
      "dividing sets finished 45.1491728672%\n",
      "dividing sets finished 50.1657476302%\n",
      "dividing sets finished 55.1823223932%\n",
      "dividing sets finished 60.1988971562%\n",
      "dividing sets finished 65.2154719192%\n",
      "dividing sets finished 70.2320466822%\n",
      "dividing sets finished 75.2486214453%\n",
      "dividing sets finished 80.2651962083%\n",
      "dividing sets finished 85.2817709713%\n",
      "dividing sets finished 90.2983457343%\n",
      "dividing sets finished 95.3149204973%\n",
      "number of data in training set: 1704303\n",
      "number of data in test set:289089\n"
     ]
    }
   ],
   "source": [
    "tr_set85, te_set85 = find_sets(df,0.15)"
   ]
  },
  {
   "cell_type": "code",
   "execution_count": 34,
   "metadata": {
    "collapsed": false
   },
   "outputs": [
    {
     "name": "stdout",
     "output_type": "stream",
     "text": [
      "dividing sets finished 0.0%\n",
      "dividing sets finished 5.01657476302%\n",
      "dividing sets finished 10.033149526%\n",
      "dividing sets finished 15.0497242891%\n",
      "dividing sets finished 20.0662990521%\n",
      "dividing sets finished 25.0828738151%\n",
      "dividing sets finished 30.0994485781%\n",
      "dividing sets finished 35.1160233411%\n",
      "dividing sets finished 40.1325981041%\n",
      "dividing sets finished 45.1491728672%\n",
      "dividing sets finished 50.1657476302%\n",
      "dividing sets finished 55.1823223932%\n",
      "dividing sets finished 60.1988971562%\n",
      "dividing sets finished 65.2154719192%\n",
      "dividing sets finished 70.2320466822%\n",
      "dividing sets finished 75.2486214453%\n",
      "dividing sets finished 80.2651962083%\n",
      "dividing sets finished 85.2817709713%\n",
      "dividing sets finished 90.2983457343%\n",
      "dividing sets finished 95.3149204973%\n",
      "number of data in training set: 1804445\n",
      "number of data in test set:188947\n"
     ]
    }
   ],
   "source": [
    "tr_set90, te_set90 = find_sets(df,0.10)"
   ]
  },
  {
   "cell_type": "code",
   "execution_count": 35,
   "metadata": {
    "collapsed": false
   },
   "outputs": [
    {
     "name": "stdout",
     "output_type": "stream",
     "text": [
      "dividing sets finished 0.0%\n",
      "dividing sets finished 5.01657476302%\n",
      "dividing sets finished 10.033149526%\n",
      "dividing sets finished 15.0497242891%\n",
      "dividing sets finished 20.0662990521%\n",
      "dividing sets finished 25.0828738151%\n",
      "dividing sets finished 30.0994485781%\n",
      "dividing sets finished 35.1160233411%\n",
      "dividing sets finished 40.1325981041%\n",
      "dividing sets finished 45.1491728672%\n",
      "dividing sets finished 50.1657476302%\n",
      "dividing sets finished 55.1823223932%\n",
      "dividing sets finished 60.1988971562%\n",
      "dividing sets finished 65.2154719192%\n",
      "dividing sets finished 70.2320466822%\n",
      "dividing sets finished 75.2486214453%\n",
      "dividing sets finished 80.2651962083%\n",
      "dividing sets finished 85.2817709713%\n",
      "dividing sets finished 90.2983457343%\n",
      "dividing sets finished 95.3149204973%\n",
      "number of data in training set: 1903390\n",
      "number of data in test set:90002\n"
     ]
    }
   ],
   "source": [
    "tr_set95, te_set95 = find_sets(df,0.05)"
   ]
  },
  {
   "cell_type": "code",
   "execution_count": 36,
   "metadata": {
    "collapsed": false
   },
   "outputs": [
    {
     "name": "stdout",
     "output_type": "stream",
     "text": [
      "finding 65 nearest neighbours finished 0.0%\n",
      "finding 65 nearest neighbours finished 98.4251968504%\n",
      "finding 34 nearest neighbours finished 0.0%\n",
      "finding 34 nearest neighbours finished 98.4251968504%\n"
     ]
    }
   ],
   "source": [
    "neighbours50_65= knn_list(tr_set50, 65,te_set50)\n",
    "neighbours50_34= knn_list(tr_set50, 34,te_set50)"
   ]
  },
  {
   "cell_type": "code",
   "execution_count": 37,
   "metadata": {
    "collapsed": false
   },
   "outputs": [
    {
     "name": "stdout",
     "output_type": "stream",
     "text": [
      "finding 65 nearest neighbours finished 0.0%\n",
      "finding 65 nearest neighbours finished 98.4251968504%\n",
      "finding 34 nearest neighbours finished 0.0%\n",
      "finding 34 nearest neighbours finished 98.4251968504%\n"
     ]
    }
   ],
   "source": [
    "neighbours55_65= knn_list(tr_set55, 65,te_set55)\n",
    "neighbours55_34= knn_list(tr_set55, 34,te_set55)"
   ]
  },
  {
   "cell_type": "code",
   "execution_count": 38,
   "metadata": {
    "collapsed": false
   },
   "outputs": [
    {
     "name": "stdout",
     "output_type": "stream",
     "text": [
      "finding 65 nearest neighbours finished 0.0%\n",
      "finding 65 nearest neighbours finished 98.4251968504%\n"
     ]
    }
   ],
   "source": [
    "neighbours60_65= knn_list(tr_set60, 65,te_set60)\n"
   ]
  },
  {
   "cell_type": "code",
   "execution_count": 39,
   "metadata": {
    "collapsed": false
   },
   "outputs": [
    {
     "name": "stdout",
     "output_type": "stream",
     "text": [
      "finding 34 nearest neighbours finished 0.0%\n",
      "finding 34 nearest neighbours finished 98.4251968504%\n"
     ]
    }
   ],
   "source": [
    "neighbours60_34= knn_list(tr_set60, 34,te_set60)"
   ]
  },
  {
   "cell_type": "code",
   "execution_count": 40,
   "metadata": {
    "collapsed": false
   },
   "outputs": [
    {
     "name": "stdout",
     "output_type": "stream",
     "text": [
      "finding 65 nearest neighbours finished 0.0%\n",
      "finding 65 nearest neighbours finished 98.4251968504%\n",
      "finding 34 nearest neighbours finished 0.0%\n",
      "finding 34 nearest neighbours finished 98.4251968504%\n"
     ]
    }
   ],
   "source": [
    "neighbours65_65= knn_list(tr_set65, 65,te_set65)\n",
    "neighbours65_34= knn_list(tr_set65, 34,te_set65)"
   ]
  },
  {
   "cell_type": "code",
   "execution_count": 41,
   "metadata": {
    "collapsed": false
   },
   "outputs": [
    {
     "name": "stdout",
     "output_type": "stream",
     "text": [
      "finding 65 nearest neighbours finished 0.0%\n",
      "finding 65 nearest neighbours finished 98.4251968504%\n",
      "finding 34 nearest neighbours finished 0.0%\n",
      "finding 34 nearest neighbours finished 98.4251968504%\n"
     ]
    }
   ],
   "source": [
    "neighbours70_65= knn_list(tr_set70, 65,te_set70)\n",
    "neighbours70_34= knn_list(tr_set70, 34,te_set70)"
   ]
  },
  {
   "cell_type": "code",
   "execution_count": 42,
   "metadata": {
    "collapsed": false
   },
   "outputs": [
    {
     "name": "stdout",
     "output_type": "stream",
     "text": [
      "finding 65 nearest neighbours finished 0.0%\n",
      "finding 65 nearest neighbours finished 98.4251968504%\n",
      "finding 34 nearest neighbours finished 0.0%\n",
      "finding 34 nearest neighbours finished 98.4251968504%\n"
     ]
    }
   ],
   "source": [
    "neighbours75_65= knn_list(tr_set75, 65,te_set75)\n",
    "neighbours75_34= knn_list(tr_set75, 34,te_set75)"
   ]
  },
  {
   "cell_type": "code",
   "execution_count": 43,
   "metadata": {
    "collapsed": false
   },
   "outputs": [
    {
     "name": "stdout",
     "output_type": "stream",
     "text": [
      "finding 65 nearest neighbours finished 0.0%\n",
      "finding 65 nearest neighbours finished 98.4251968504%\n",
      "finding 34 nearest neighbours finished 0.0%\n",
      "finding 34 nearest neighbours finished 98.4251968504%\n"
     ]
    }
   ],
   "source": [
    "neighbours80_65= knn_list(tr_set80, 65,te_set80)\n",
    "neighbours80_34= knn_list(tr_set80, 34,te_set80)"
   ]
  },
  {
   "cell_type": "code",
   "execution_count": 60,
   "metadata": {
    "collapsed": true
   },
   "outputs": [],
   "source": [
    "MSE_34 = []\n",
    "MSE_65 = []"
   ]
  },
  {
   "cell_type": "code",
   "execution_count": 61,
   "metadata": {
    "collapsed": false
   },
   "outputs": [],
   "source": [
    "pred = prediction(tr_set50, neighbours50_65, te_set50)\n",
    "res = MSE(pred, te_set50)\n",
    "MSE_65.append(res)\n",
    "pred = prediction(tr_set50, neighbours50_34, te_set50)\n",
    "res = MSE(pred, te_set50)\n",
    "MSE_34.append(res)"
   ]
  },
  {
   "cell_type": "code",
   "execution_count": 62,
   "metadata": {
    "collapsed": false
   },
   "outputs": [],
   "source": [
    "pred = prediction(tr_set55, neighbours55_65, te_set55)\n",
    "res = MSE(pred, te_set55)\n",
    "MSE_65.append(res)\n"
   ]
  },
  {
   "cell_type": "code",
   "execution_count": 63,
   "metadata": {
    "collapsed": false
   },
   "outputs": [],
   "source": [
    "pred = prediction(tr_set55, neighbours55_34, te_set55)\n",
    "res = MSE(pred, te_set55)\n",
    "MSE_34.append(res)\n"
   ]
  },
  {
   "cell_type": "code",
   "execution_count": 64,
   "metadata": {
    "collapsed": false
   },
   "outputs": [
    {
     "name": "stdout",
     "output_type": "stream",
     "text": [
      "the MSE for 65nn model on 60/40 set is 0.000173412478186\n"
     ]
    }
   ],
   "source": [
    "pred = prediction(tr_set60, neighbours60_65, te_set60)\n",
    "res = MSE(pred, te_set60)\n",
    "MSE_65.append(res)\n",
    "print(\"the MSE for 65nn model on 60/40 set is \" + str(res))"
   ]
  },
  {
   "cell_type": "code",
   "execution_count": 65,
   "metadata": {
    "collapsed": false
   },
   "outputs": [
    {
     "name": "stdout",
     "output_type": "stream",
     "text": [
      "the MSE for 34nn model on 60/40 set is 0.000180384076868\n"
     ]
    }
   ],
   "source": [
    "pred = prediction(tr_set60, neighbours60_34, te_set60)\n",
    "res = MSE(pred, te_set60)\n",
    "MSE_34.append(res)\n",
    "print(\"the MSE for 34nn model on 60/40 set is \" + str(res))"
   ]
  },
  {
   "cell_type": "code",
   "execution_count": 66,
   "metadata": {
    "collapsed": false
   },
   "outputs": [
    {
     "name": "stdout",
     "output_type": "stream",
     "text": [
      "the MSE for 65nn model on 65/35 set is 0.000188249264457\n"
     ]
    }
   ],
   "source": [
    "pred = prediction(tr_set65, neighbours65_65, te_set65)\n",
    "res = MSE(pred, te_set65)\n",
    "MSE_65.append(res)\n",
    "print(\"the MSE for 65nn model on 65/35 set is \" + str(res))"
   ]
  },
  {
   "cell_type": "code",
   "execution_count": 67,
   "metadata": {
    "collapsed": false
   },
   "outputs": [
    {
     "name": "stdout",
     "output_type": "stream",
     "text": [
      "the MSE for 34nn model on 65/35 set is 0.000193917396363\n"
     ]
    }
   ],
   "source": [
    "pred = prediction(tr_set65, neighbours65_34, te_set65)\n",
    "res = MSE(pred, te_set65)\n",
    "MSE_34.append(res)\n",
    "print(\"the MSE for 34nn model on 65/35 set is \" + str(res))"
   ]
  },
  {
   "cell_type": "code",
   "execution_count": 68,
   "metadata": {
    "collapsed": false
   },
   "outputs": [
    {
     "name": "stdout",
     "output_type": "stream",
     "text": [
      "the MSE for 65nn model on 70/30 set is 0.000156467598487\n"
     ]
    }
   ],
   "source": [
    "pred = prediction(tr_set70, neighbours70_65, te_set70)\n",
    "res = MSE(pred, te_set70)\n",
    "MSE_65.append(res)\n",
    "print(\"the MSE for 65nn model on 70/30 set is \" + str(res))"
   ]
  },
  {
   "cell_type": "code",
   "execution_count": 69,
   "metadata": {
    "collapsed": false
   },
   "outputs": [
    {
     "name": "stdout",
     "output_type": "stream",
     "text": [
      "the MSE for 34nn model on 70/30 set is 0.000161642266438\n"
     ]
    }
   ],
   "source": [
    "pred = prediction(tr_set70, neighbours70_34, te_set70)\n",
    "res = MSE(pred, te_set70)\n",
    "MSE_34.append(res)\n",
    "print(\"the MSE for 34nn model on 70/30 set is \" + str(res))"
   ]
  },
  {
   "cell_type": "code",
   "execution_count": 70,
   "metadata": {
    "collapsed": false
   },
   "outputs": [],
   "source": [
    "pred = prediction(tr_set75, neighbours75_65, te_set75)\n",
    "res = MSE(pred, te_set75)\n",
    "MSE_65.append(res)\n",
    "pred = prediction(tr_set75, neighbours75_34, te_set75)\n",
    "res = MSE(pred, te_set75)\n",
    "MSE_34.append(res)"
   ]
  },
  {
   "cell_type": "code",
   "execution_count": 72,
   "metadata": {
    "collapsed": false
   },
   "outputs": [],
   "source": [
    "pred = prediction(tr_set80, neighbours80_65, te_set80)\n",
    "res = MSE(pred, te_set80)\n",
    "MSE_65.append(res)\n",
    "pred = prediction(tr_set80, neighbours80_34, te_set80)\n",
    "res = MSE(pred, te_set80)\n",
    "MSE_34.append(res)"
   ]
  },
  {
   "cell_type": "code",
   "execution_count": 78,
   "metadata": {
    "collapsed": false
   },
   "outputs": [
    {
     "data": {
      "image/png": "[encoded data removed]",
      "text/plain": [
       "<matplotlib.figure.Figure at 0x17eb4b7d0>"
      ]
     },
     "metadata": {},
     "output_type": "display_data"
    }
   ],
   "source": [
    "import pylab as pl\n",
    "x = [50,55,60,65,70,75,80]\n",
    "pl.plot(x, MSE_65)\n",
    "pl.title('the MSE of the 65nn model')\n",
    "pl.xlabel('the percent of training set')\n",
    "pl.ylabel('MSE')\n",
    "pl.show()"
   ]
  },
  {
   "cell_type": "code",
   "execution_count": 79,
   "metadata": {
    "collapsed": false
   },
   "outputs": [
    {
     "data": {
      "image/png": "[encoded data removed]",
      "text/plain": [
       "<matplotlib.figure.Figure at 0x1c31da950>"
      ]
     },
     "metadata": {},
     "output_type": "display_data"
    }
   ],
   "source": [
    "\n",
    "pl.plot(x, MSE_34)\n",
    "pl.title('the MSE of the 34nn model')\n",
    "pl.xlabel('the percent of training set')\n",
    "pl.ylabel('MSE')\n",
    "pl.show()"
   ]
  },
  {
   "cell_type": "code",
   "execution_count": 80,
   "metadata": {
    "collapsed": true
   },
   "outputs": [],
   "source": [
    "\n",
    "tr_list = [tr_set50, tr_set55, tr_set60, tr_set65, tr_set70, tr_set75, tr_set80]\n",
    "te_list = [te_set50, te_set55, te_set60, te_set65, te_set70, te_set75, te_set80]\n",
    "nei_65_list = [neighbours50_65, neighbours55_65,neighbours60_65,neighbours65_65,neighbours70_65, neighbours75_65, neighbours80_65]\n",
    "nei_34_list = [neighbours50_34, neighbours55_34,neighbours60_34,neighbours65_34,neighbours70_34,neighbours75_34,neighbours80_34]\n",
    "\n",
    "    "
   ]
  },
  {
   "cell_type": "code",
   "execution_count": 81,
   "metadata": {
    "collapsed": true
   },
   "outputs": [],
   "source": [
    "acc_65=[]\n",
    "acc_34= []"
   ]
  },
  {
   "cell_type": "code",
   "execution_count": 82,
   "metadata": {
    "collapsed": false
   },
   "outputs": [
    {
     "name": "stdout",
     "output_type": "stream",
     "text": [
      "Accuracy = 0.536372448453\n",
      "Accuracy = 0.582880275769\n",
      "Accuracy = 0.649898955102\n",
      "Accuracy = 0.682523291091\n",
      "Accuracy = 0.738682322329\n",
      "Accuracy = 0.764917907079\n",
      "Accuracy = 0.801144177313\n"
     ]
    }
   ],
   "source": [
    "for i in range(len(nei_65_list)):\n",
    "    pred = prediction(tr_list[i], nei_65_list[i], te_list[i])\n",
    "    predicted_recom = recommend_dic(tr_list[i], pred)\n",
    "    real_recom = real_dic(tr_list[i],  te_list[i])\n",
    "    res = {}\n",
    "    for p_name in real_recom:\n",
    "        pre_set = set(predicted_recom[p_name])\n",
    "        rea_set = set(real_recom[p_name])\n",
    "        res[p_name] = 1.0*len(pre_set.intersection(rea_set))/len(rea_set)\n",
    "    acc_65.append(sum(res.values())/len(res.values()))\n",
    "    print \"Accuracy = \" + str(acc_65[-1])"
   ]
  },
  {
   "cell_type": "code",
   "execution_count": 83,
   "metadata": {
    "collapsed": false
   },
   "outputs": [
    {
     "name": "stdout",
     "output_type": "stream",
     "text": [
      "Accuracy = 0.519688120984\n",
      "Accuracy = 0.582471506546\n",
      "Accuracy = 0.650870725046\n",
      "Accuracy = 0.681135998879\n",
      "Accuracy = 0.739997769457\n",
      "Accuracy = 0.768549266015\n",
      "Accuracy = 0.801911339718\n"
     ]
    }
   ],
   "source": [
    "for i in range(len(nei_34_list)):\n",
    "    pred = prediction(tr_list[i], nei_34_list[i], te_list[i])\n",
    "    predicted_recom = recommend_dic(tr_list[i], pred)\n",
    "    real_recom = real_dic(tr_list[i],  te_list[i])\n",
    "    res = {}\n",
    "    for p_name in real_recom:\n",
    "        pre_set = set(predicted_recom[p_name])\n",
    "        rea_set = set(real_recom[p_name])\n",
    "        res[p_name] = 1.0*len(pre_set.intersection(rea_set))/len(rea_set)\n",
    "    acc_34.append(sum(res.values())/len(res.values()))\n",
    "    print \"Accuracy = \" + str(acc_34[-1])"
   ]
  },
  {
   "cell_type": "code",
   "execution_count": 84,
   "metadata": {
    "collapsed": false
   },
   "outputs": [
    {
     "data": {
      "image/png": "[encoded data removed]",
      "text/plain": [
       "<matplotlib.figure.Figure at 0x1c37f71d0>"
      ]
     },
     "metadata": {},
     "output_type": "display_data"
    }
   ],
   "source": [
    "pl.plot(x, acc_65)\n",
    "pl.title('the Accuracy of the 65nn model')\n",
    "pl.xlabel('the percent of training set')\n",
    "pl.ylabel('Accuracy')\n",
    "pl.show()"
   ]
  },
  {
   "cell_type": "code",
   "execution_count": 85,
   "metadata": {
    "collapsed": false
   },
   "outputs": [
    {
     "data": {
      "image/png": "[encoded data removed]",
      "text/plain": [
       "<matplotlib.figure.Figure at 0x1c353aed0>"
      ]
     },
     "metadata": {},
     "output_type": "display_data"
    }
   ],
   "source": [
    "pl.plot(x, acc_34)\n",
    "pl.title('the Accuracy of the 34nn model')\n",
    "pl.xlabel('the percent of training set')\n",
    "pl.ylabel('Accuracy')\n",
    "pl.show()"
   ]
  },
  {
   "cell_type": "code",
   "execution_count": null,
   "metadata": {
    "collapsed": true
   },
   "outputs": [],
   "source": []
  },
  {
   "cell_type": "code",
   "execution_count": null,
   "metadata": {
    "collapsed": true
   },
   "outputs": [],
   "source": []
  }
 ],
 "metadata": {
  "anaconda-cloud": {},
  "kernelspec": {
   "display_name": "Python [conda root]",
   "language": "python",
   "name": "conda-root-py"
  },
  "language_info": {
   "codemirror_mode": {
    "name": "ipython",
    "version": 2
   },
   "file_extension": ".py",
   "mimetype": "text/x-python",
   "name": "python",
   "nbconvert_exporter": "python",
   "pygments_lexer": "ipython2",
   "version": "2.7.13"
  }
 },
 "nbformat": 4,
 "nbformat_minor": 1
}
