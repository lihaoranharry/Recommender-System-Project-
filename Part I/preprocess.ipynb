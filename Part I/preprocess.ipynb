{
 "cells": [
  {
   "cell_type": "code",
   "execution_count": 53,
   "metadata": {
    "collapsed": true
   },
   "outputs": [],
   "source": [
    "class person:\n",
    "    \"\"\"\n",
    "    The item class, which record the change of the properties and the customer\n",
    "    of the item\n",
    "    \"\"\"\n",
    "    def __init__(self, id):\n",
    "        self.person_id = id\n",
    "\n",
    "        self.purchased_items = []\n",
    "        self.viewed_items = []\n",
    "        self.cart_items = []\n",
    "\n",
    "    def purchase(self, item_id, transcation_id, timestamp):\n",
    "        \"\"\"\n",
    "        record a purchase\n",
    "        :param item_id: str\n",
    "        :param transcation_id: str\n",
    "        :param timestamp: str\n",
    "        :return: None\n",
    "        \"\"\"\n",
    "        self.purchased_items.append((item_id, transcation_id, timestamp))\n",
    "    def view(self, item_id, timestamp):\n",
    "        \"\"\"\n",
    "        record a view\n",
    "        :param item_id: str\n",
    "        :param timestamp: str\n",
    "        :return: None\n",
    "        \"\"\"\n",
    "        self.viewed_items.append((item_id,timestamp))\n",
    "    def add_to_cart(self, item_id, timestamp):\n",
    "        \"\"\"\n",
    "        record a add_to_cart\n",
    "        :param item_id: str\n",
    "        :param timestamp: str\n",
    "        :return: None\n",
    "        \"\"\"\n",
    "        self.cart_items.append((item_id,timestamp))\n",
    "    def purchases_record(self):\n",
    "        \"\"\"\n",
    "        return the record of the purchases of the person\n",
    "        :return: list\n",
    "        \"\"\"\n",
    "        return self.purchased_items\n",
    "    def carts_record(self):\n",
    "        \"\"\"\n",
    "        return the record of items have been added to the cart\n",
    "        :return: list\n",
    "        \"\"\"\n",
    "        return self.cart_items\n",
    "    def views_record(self):\n",
    "        \"\"\"\n",
    "        return the record of what the person have viewed\n",
    "        :return: list\n",
    "        \"\"\"\n",
    "        return self.viewed_items\n"
   ]
  },
  {
   "cell_type": "code",
   "execution_count": 54,
   "metadata": {
    "collapsed": true
   },
   "outputs": [],
   "source": [
    "class item:\n",
    "    \"\"\"\n",
    "    The item class, which record the change of the properties and the customer\n",
    "    of the item\n",
    "    \"\"\"\n",
    "    def __init__(self, id):\n",
    "        self.item_id = id\n",
    "        self.properties = {}\n",
    "        self.customers = []\n",
    "        self.viewers = []\n",
    "        self.cart_adders = []\n",
    "    def property_change(self, pro_name, value, timestamp):\n",
    "        \"\"\"\n",
    "        record a change of a property\n",
    "        :param pro_name: str\n",
    "        :param value: str\n",
    "        :param timestamp: str\n",
    "        :return:\n",
    "        \"\"\"\n",
    "        if pro_name not in self.properties:\n",
    "            self.properties[pro_name] = []\n",
    "        self.properties[pro_name].append((value, timestamp))\n",
    "    def purchase(self, customerID, transcation_id,timestamp):\n",
    "        \"\"\"\n",
    "        record a purchase\n",
    "        :param customerID: str\n",
    "        :param transcation_id: str\n",
    "        :param timestamp: str\n",
    "        :return: None\n",
    "        \"\"\"\n",
    "        self.customers.append((customerID,transcation_id, timestamp))\n",
    "    def view(self, customerID, timestamp):\n",
    "        \"\"\"\n",
    "        record a view\n",
    "        :param customerID: str\n",
    "        :param timestamp: str\n",
    "        :return: None\n",
    "        \"\"\"\n",
    "        self.viewers.append((customerID,timestamp))\n",
    "    def add_to_cart(self, customerID, timestamp):\n",
    "        \"\"\"\n",
    "        record a add_to_cart\n",
    "        :param customerID: str\n",
    "        :param timestamp: str\n",
    "        :return: None\n",
    "        \"\"\"\n",
    "        self.cart_adders.append((customerID,timestamp))\n",
    "    def customers_record(self):\n",
    "        \"\"\"\n",
    "        return the record of customers of the item\n",
    "        :return: list\n",
    "        \"\"\"\n",
    "        return self.customers\n",
    "    def carts_record(self):\n",
    "        \"\"\"\n",
    "        return the record of persons who added this item to the cart\n",
    "        :return: list\n",
    "        \"\"\"\n",
    "        return self.cart_adders\n",
    "    def viewers_record(self):\n",
    "        \"\"\"\n",
    "        return the record of persons who viewed this item\n",
    "        :return: list\n",
    "        \"\"\"\n",
    "        return self.viewers\n",
    "    def property_record(self, pro_name):\n",
    "        \"\"\"\n",
    "        return the record of a property of the item\n",
    "        :param pro_name: str\n",
    "        :return: list\n",
    "        \"\"\"\n",
    "        return self.properties[pro_name]\n"
   ]
  },
  {
   "cell_type": "code",
   "execution_count": 55,
   "metadata": {
    "collapsed": false
   },
   "outputs": [],
   "source": [
    "class analyse():\n",
    "    def __init__(self):\n",
    "        self.persons = {}\n",
    "        self.items = {}\n",
    "    def read_property(self, property_file):\n",
    "        f, first = open(property_file, \"r\"), True\n",
    "        for line in f:\n",
    "            if first:\n",
    "                first = False\n",
    "                continue\n",
    "            property_info = line.split(\",\")\n",
    "            timestamp, item_id, pro_name, value = property_info[0], property_info[1], property_info[2], property_info[3]\n",
    "            if item_id not in self.items:\n",
    "                continue\n",
    "                self.items[item_id] = item(item_id)\n",
    "            self.items[item_id].property_change(pro_name, value, timestamp)\n",
    "    def read_event(self, event_file):\n",
    "        f, first = open(event_file, \"r\"), True\n",
    "        for line in f:\n",
    "            if first:\n",
    "                first = False\n",
    "                continue\n",
    "            event_info = line.split(\",\")\n",
    "            timestamp, person_id, event, item_id, transaction_id = event_info[0], event_info[1], event_info[2], event_info[3], event_info[4]\n",
    "            if person_id not in self.persons:\n",
    "                self.persons[person_id] = person(person_id)\n",
    "            if item_id not in self.items:\n",
    "                \n",
    "                self.items[item_id] = item(item_id)\n",
    "            if event == \"transaction\":\n",
    "                self.persons[person_id].purchase(item_id, transaction_id, timestamp)\n",
    "                self.items[item_id].purchase(person_id, transaction_id,timestamp)\n",
    "            elif event == \"view\":\n",
    "                self.persons[person_id].view(item_id, timestamp)\n",
    "                self.items[item_id].view(person_id, timestamp)\n",
    "            else:\n",
    "                self.persons[person_id].add_to_cart(item_id, timestamp)\n",
    "                self.items[item_id].add_to_cart(person_id, timestamp)\n",
    "\n",
    "\n",
    "\n",
    "a = analyse()\n",
    "a.read_event(\"/Users/Kiki/Downloads/retailrocket-recommender-system-dataset/events.csv\")\n",
    "a.read_property(\"/Users/Kiki/Downloads/retailrocket-recommender-system-dataset/item_properties_part1.csv\")\n",
    "a.read_property(\"/Users/Kiki/Downloads/retailrocket-recommender-system-dataset/item_properties_part2.csv\")"
   ]
  },
  {
   "cell_type": "code",
   "execution_count": 56,
   "metadata": {
    "collapsed": false
   },
   "outputs": [],
   "source": [
    "def subset(threshold):\n",
    "    res = {}\n",
    "    for person_name, person in a.persons.items():\n",
    "        if len(person.viewed_items) + len(person.cart_items) > threshold and len(person.purchased_items) > threshold:\n",
    "            res[person_name] = person\n",
    "    return res"
   ]
  },
  {
   "cell_type": "code",
   "execution_count": 75,
   "metadata": {
    "collapsed": false
   },
   "outputs": [],
   "source": [
    "def subset_item(persons):\n",
    "    res = {}\n",
    "    for person_name, person in persons.items():\n",
    "        for item in person.viewed_items + person.purchased_items + person.cart_items:\n",
    "            if item[0] not in res:\n",
    "                res[item[0]] = res.get(item[0], 0) + 1\n",
    "                \n",
    "    return res"
   ]
  },
  {
   "cell_type": "code",
   "execution_count": 93,
   "metadata": {
    "collapsed": false
   },
   "outputs": [],
   "source": [
    "import copy\n",
    "def merge(item_after_subset):\n",
    "    sec_subset_item = {}\n",
    "    for item in item_after_subset:\n",
    "        if \"categoryid\" not in a.items[item].properties:\n",
    "            sec_subset_item[item] = a.items[item]\n",
    "            continue\n",
    "        if a.items[item].property_record(\"categoryid\")[0][0] not in sec_subset_item:\n",
    "            sec_subset_item[a.items[item].property_record(\"categoryid\")[0][0]] = copy.deepcopy(a.items[item])\n",
    "            sec_subset_item[a.items[item].property_record(\"categoryid\")[0][0]].item_id = a.items[item].property_record(\"categoryid\")[0][0]\n",
    "        else:\n",
    "            for pro_name, values in a.items[item].properties.items():\n",
    "                if pro_name not in sec_subset_item[a.items[item].property_record(\"categoryid\")[0][0]].properties:\n",
    "                    sec_subset_item[a.items[item].property_record(\"categoryid\")[0][0]].properties[pro_name] = []\n",
    "                sec_subset_item[a.items[item].property_record(\"categoryid\")[0][0]].properties[pro_name] += values\n",
    "            sec_subset_item[a.items[item].property_record(\"categoryid\")[0][0]].viewers += a.items[item].viewers\n",
    "            sec_subset_item[a.items[item].property_record(\"categoryid\")[0][0]].customers += a.items[item].customers\n",
    "            sec_subset_item[a.items[item].property_record(\"categoryid\")[0][0]].cart_adders += a.items[item].cart_adders\n",
    "    return sec_subset_item\n"
   ]
  },
  {
   "cell_type": "code",
   "execution_count": 76,
   "metadata": {
    "collapsed": false
   },
   "outputs": [
    {
     "name": "stdout",
     "output_type": "stream",
     "text": [
      "2549 1016\n"
     ]
    }
   ],
   "source": [
    "sub_dic1, sub_dic2 = subset(1), subset(2)\n",
    "print len(sub_dic1), len(sub_dic2)"
   ]
  },
  {
   "cell_type": "code",
   "execution_count": 85,
   "metadata": {
    "collapsed": false
   },
   "outputs": [
    {
     "name": "stdout",
     "output_type": "stream",
     "text": [
      "30601 27487\n"
     ]
    }
   ],
   "source": [
    "item_sub_dic1,item_sub_dic2 = subset_item(sub_dic1), subset_item(sub_dic2)\n",
    "print len(item_sub_dic1), len(item_sub_dic2)"
   ]
  },
  {
   "cell_type": "code",
   "execution_count": 94,
   "metadata": {
    "collapsed": false,
    "scrolled": true
   },
   "outputs": [
    {
     "name": "stdout",
     "output_type": "stream",
     "text": [
      "2021 1959\n"
     ]
    }
   ],
   "source": [
    "merged_items1, merged_items2 = merge(item_sub_dic1), merge(item_sub_dic2)\n",
    "print len(merged_items1), len(merged_items2)"
   ]
  },
  {
   "cell_type": "code",
   "execution_count": null,
   "metadata": {
    "collapsed": true
   },
   "outputs": [],
   "source": []
  }
 ],
 "metadata": {
  "anaconda-cloud": {},
  "kernelspec": {
   "display_name": "Python [conda root]",
   "language": "python",
   "name": "conda-root-py"
  },
  "language_info": {
   "codemirror_mode": {
    "name": "ipython",
    "version": 2
   },
   "file_extension": ".py",
   "mimetype": "text/x-python",
   "name": "python",
   "nbconvert_exporter": "python",
   "pygments_lexer": "ipython2",
   "version": "2.7.13"
  }
 },
 "nbformat": 4,
 "nbformat_minor": 1
}
